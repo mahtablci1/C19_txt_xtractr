{
 "cells": [
  {
   "cell_type": "code",
   "execution_count": 6,
   "metadata": {},
   "outputs": [],
   "source": [
    "import os\n",
    "import json\n",
    "from pprint import pprint\n",
    "from copy import deepcopy\n",
    "\n",
    "import numpy as np\n",
    "import pandas as pd\n",
    "import numpy as np\n",
    "import json\n",
    "import glob\n",
    "import sys\n",
    "\n",
    "sys.path.insert(0, \"../\")\n",
    "\n",
    "root_path = '/Users/u6066091/Desktop/kaggle/input/corona_challenge/'\n",
    "\n",
    "corona_features = {\"doc_id\": [None], \"source\": [None], \"title\": [None],\n",
    "                  \"abstract\": [None], \"text_body\": [None]}\n",
    "corona_df = pd.DataFrame.from_dict(corona_features)\n",
    "\n",
    "json_filenames = glob.glob(f'{root_path}/**/*.json', recursive=True)"
   ]
  },
  {
   "cell_type": "code",
   "execution_count": 7,
   "metadata": {},
   "outputs": [],
   "source": [
    "root = '/Users/u6066091/Desktop/kaggle'"
   ]
  },
  {
   "cell_type": "code",
   "execution_count": 8,
   "metadata": {},
   "outputs": [],
   "source": [
    "root = '/Users/u6066091/Desktop/kaggle'\n",
    "Design_list = [ 'retrospective cohort', 'cross-sectional case-control','cross sectional case control',\n",
    "               'prevalence survey', 'systematic review ',' meta-analysis',' meta analysis'\n",
    "               'matched case-control', 'matched case control','medical record review', 'observational case series', \n",
    "               'time series analysis','pseudo-randomized controlled trials' ,'pseudo randomized controlled trial',\n",
    "               'randomized controlled trials','randomized controlled trial']\n",
    "risk_factors = pd.read_csv(root + '/input/kaggle_annotated/COVID-19 medical_dictionary-difference.dictionary.csv')\n",
    "cov_list = ['covid-19','covid 19', 'novel coronavi','cord-19' ,'cord 19','2019-nCoV', \n",
    "            '2019 ncov','2019 cov', 'wuhan coronavi', 'cov_2', 'cov-2', ]\n"
   ]
  },
  {
   "cell_type": "markdown",
   "metadata": {},
   "source": [
    "# This is how the keywords were extracted"
   ]
  },
  {
   "cell_type": "code",
   "execution_count": 10,
   "metadata": {},
   "outputs": [],
   "source": [
    "# filter for more recent data (past 2019) that have covid in their title\n",
    "import pandas as pd\n",
    "import re\n",
    "\n",
    "metadata = pd.read_csv(root+ '/output/corona_challenge/all_data_metadata.csv')\n",
    "recent_data = metadata[metadata['publish_time'] >= '2019'].reset_index(drop = True)[['doc_id', 'source', 'title', 'abstract_x', 'text_body',\n",
    "       'sha', 'source', 'doi', 'pmcid', 'pubmed_id', 'license', \n",
    "       'publish_time', 'authors', 'journal', 'Microsoft Academic Paper ID',\n",
    "       'WHO #Covidence', 'has_full_text', 'full_text_file']]\n",
    "cov_title = [title for title in recent_data['title'] if any((re.search(cov,title.lower())) for cov in cov_list)]\n",
    "data = recent_data[recent_data['title'].isin(cov_title)].reset_index(drop = True)\n"
   ]
  },
  {
   "cell_type": "code",
   "execution_count": 106,
   "metadata": {},
   "outputs": [
    {
     "data": {
      "text/html": [
       "<div>\n",
       "<style scoped>\n",
       "    .dataframe tbody tr th:only-of-type {\n",
       "        vertical-align: middle;\n",
       "    }\n",
       "\n",
       "    .dataframe tbody tr th {\n",
       "        vertical-align: top;\n",
       "    }\n",
       "\n",
       "    .dataframe thead th {\n",
       "        text-align: right;\n",
       "    }\n",
       "</style>\n",
       "<table border=\"1\" class=\"dataframe\">\n",
       "  <thead>\n",
       "    <tr style=\"text-align: right;\">\n",
       "      <th></th>\n",
       "      <th>Task</th>\n",
       "      <th>Question</th>\n",
       "      <th>Subquestion</th>\n",
       "      <th>Outcome.list</th>\n",
       "      <th>Differences.list</th>\n",
       "      <th>Design.list</th>\n",
       "      <th>Notes</th>\n",
       "    </tr>\n",
       "  </thead>\n",
       "  <tbody>\n",
       "    <tr>\n",
       "      <th>125</th>\n",
       "      <td>What do we know about COVID-19 risk factors?</td>\n",
       "      <td>Data on potential risk factors: Transmission d...</td>\n",
       "      <td>What is the serial interval for COVID-19 for d...</td>\n",
       "      <td>serial interval by age group, serial interval ...</td>\n",
       "      <td>age, age-dependent mixing parameters in models</td>\n",
       "      <td>contact tracing, survival analysis, time-to-ev...</td>\n",
       "      <td>NaN</td>\n",
       "    </tr>\n",
       "  </tbody>\n",
       "</table>\n",
       "</div>"
      ],
      "text/plain": [
       "                                             Task  \\\n",
       "125  What do we know about COVID-19 risk factors?   \n",
       "\n",
       "                                              Question  \\\n",
       "125  Data on potential risk factors: Transmission d...   \n",
       "\n",
       "                                           Subquestion  \\\n",
       "125  What is the serial interval for COVID-19 for d...   \n",
       "\n",
       "                                          Outcome.list  \\\n",
       "125  serial interval by age group, serial interval ...   \n",
       "\n",
       "                                   Differences.list  \\\n",
       "125  age, age-dependent mixing parameters in models   \n",
       "\n",
       "                                           Design.list Notes  \n",
       "125  contact tracing, survival analysis, time-to-ev...   NaN  "
      ]
     },
     "execution_count": 106,
     "metadata": {},
     "output_type": "execute_result"
    }
   ],
   "source": [
    "# converting a question into search terms\n",
    "questions = pd.read_csv(root+ '/input/kaggle_annotated/COVID-19_dictionary_sub_question.csv')\n",
    "# What is the within-hospital value for R (i.e., hospital-acquired COVID-19 infections)? \n",
    "# Are healthcare worker behaviors accelerating transmission in these settings?\n",
    "Outcome = questions.loc[124,'Outcome.list']\n",
    "risk = questions.loc[124,'Differences.list']\n",
    "questions[125:126]"
   ]
  },
  {
   "cell_type": "code",
   "execution_count": 201,
   "metadata": {},
   "outputs": [
    {
     "data": {
      "text/html": [
       "<div>\n",
       "<style scoped>\n",
       "    .dataframe tbody tr th:only-of-type {\n",
       "        vertical-align: middle;\n",
       "    }\n",
       "\n",
       "    .dataframe tbody tr th {\n",
       "        vertical-align: top;\n",
       "    }\n",
       "\n",
       "    .dataframe thead th {\n",
       "        text-align: right;\n",
       "    }\n",
       "</style>\n",
       "<table border=\"1\" class=\"dataframe\">\n",
       "  <thead>\n",
       "    <tr style=\"text-align: right;\">\n",
       "      <th></th>\n",
       "      <th>Task</th>\n",
       "      <th>Question</th>\n",
       "      <th>Subquestion</th>\n",
       "      <th>Outcome.list</th>\n",
       "      <th>Differences.list</th>\n",
       "      <th>Design.list</th>\n",
       "      <th>Notes</th>\n",
       "    </tr>\n",
       "  </thead>\n",
       "  <tbody>\n",
       "    <tr>\n",
       "      <th>126</th>\n",
       "      <td>What do we know about COVID-19 risk factors?</td>\n",
       "      <td>Data on potential risk factors: Transmission d...</td>\n",
       "      <td>What is the incubation period for COVID-19 in ...</td>\n",
       "      <td>incubation period by age, incubation period by...</td>\n",
       "      <td>incubation period, age, comorbidities (diabete...</td>\n",
       "      <td>contact tracing, survival analysis, time-to-ev...</td>\n",
       "      <td>NaN</td>\n",
       "    </tr>\n",
       "  </tbody>\n",
       "</table>\n",
       "</div>"
      ],
      "text/plain": [
       "                                             Task  \\\n",
       "126  What do we know about COVID-19 risk factors?   \n",
       "\n",
       "                                              Question  \\\n",
       "126  Data on potential risk factors: Transmission d...   \n",
       "\n",
       "                                           Subquestion  \\\n",
       "126  What is the incubation period for COVID-19 in ...   \n",
       "\n",
       "                                          Outcome.list  \\\n",
       "126  incubation period by age, incubation period by...   \n",
       "\n",
       "                                      Differences.list  \\\n",
       "126  incubation period, age, comorbidities (diabete...   \n",
       "\n",
       "                                           Design.list Notes  \n",
       "126  contact tracing, survival analysis, time-to-ev...   NaN  "
      ]
     },
     "execution_count": 201,
     "metadata": {},
     "output_type": "execute_result"
    }
   ],
   "source": [
    "questions[126:127]"
   ]
  },
  {
   "cell_type": "code",
   "execution_count": 212,
   "metadata": {},
   "outputs": [],
   "source": [
    "from nltk.corpus import stopwords \n",
    "from nltk.tokenize import word_tokenize \n",
    "from nltk.stem import PorterStemmer\n",
    "# 'What is the serial interval for COVID-19 for different age groups? How does age-dependent \n",
    "# population mixing impact R (e.g., children in schools, elderly in nursing homes)? \n",
    "stemmer = PorterStemmer()\n",
    "stop_words = list(set(stopwords.words('english')))\n",
    "stop_words.extend(['within','what','how'])\n",
    "# Converting the text into list of questions :\n",
    "qs = questions.loc[127,'Subquestion'].split('?')\n",
    "question_l = []\n",
    "for q in qs:\n",
    "    Subquestion = list(set([stemmer.stem(word) for word in word_tokenize(q) if word.lower() not in stop_words]))\n",
    "# questions.loc[125,'Subquestion'].split()\n",
    "    question_l.append([q,' '.join(Subquestion).replace('R','R0').replace('e.g.', '').replace('.','').replace('?','').replace(')','').replace('(','').replace(',','').replace('/', ' ').replace('covid-19',' ').replace('-',' ').split()]) \n",
    "Outcome = list(set([stemmer.stem(word) for word in word_tokenize(questions.loc[127,'Outcome.list']) if word not in stop_words]))\n",
    "difference = list(set([stemmer.stem(word) for word in word_tokenize(questions.loc[127,'Differences.list']) if word not in stop_words]))\n",
    "design = list(set([stemmer.stem(word) for word in word_tokenize(questions.loc[127,'Design.list']) if word not in stop_words]))\n",
    "Outcome_l = ' '.join(Outcome).replace('R','R0').replace('e.g.', '').replace('.','').replace('?','').replace(')','').replace('(','').replace(',','').replace('/', ' ').split()   \n",
    "difference_l = ' '.join(difference).replace('R','R0').replace('e.g.', '').replace('.','').replace('?','').replace(')','').replace('(','').replace(',','').replace('/', ' ').split()   \n",
    "design_l = ' '.join(design).replace('R','R0').replace('e.g.', '').replace('.','').replace('?','').replace(')','').replace('(','').replace(',','').replace('/', ' ').split()   \n",
    "\n"
   ]
  },
  {
   "cell_type": "code",
   "execution_count": 238,
   "metadata": {},
   "outputs": [
    {
     "data": {
      "text/plain": [
       "['transmit', 'aerosol']"
      ]
     },
     "execution_count": 238,
     "metadata": {},
     "output_type": "execute_result"
    }
   ],
   "source": [
    "question_l[3][1]"
   ]
  },
  {
   "cell_type": "code",
   "execution_count": 204,
   "metadata": {},
   "outputs": [
    {
     "data": {
      "text/plain": [
       "['cross-sect',\n",
       " 'regress',\n",
       " 'risk',\n",
       " 'logist',\n",
       " 'time',\n",
       " 'factor',\n",
       " 'surviv',\n",
       " 'match',\n",
       " 'analysi',\n",
       " 'seri',\n",
       " 'case-control',\n",
       " 'observ',\n",
       " 'case']"
      ]
     },
     "execution_count": 204,
     "metadata": {},
     "output_type": "execute_result"
    }
   ],
   "source": [
    "design_l"
   ]
  },
  {
   "cell_type": "code",
   "execution_count": 189,
   "metadata": {},
   "outputs": [
    {
     "data": {
      "text/plain": [
       "['group',\n",
       " 'acquisit',\n",
       " 'risk',\n",
       " 'age',\n",
       " 'covid-19',\n",
       " 'wash',\n",
       " 'behavior',\n",
       " 'eat',\n",
       " 'without',\n",
       " 'use',\n",
       " 'mask',\n",
       " 'inappropri',\n",
       " 'hand',\n",
       " 'occup',\n",
       " 'ppe',\n",
       " 'lower',\n",
       " 'odd',\n",
       " 'observed',\n",
       " 'self-report',\n",
       " 'touch',\n",
       " 'speak',\n",
       " 'face']"
      ]
     },
     "execution_count": 189,
     "metadata": {},
     "output_type": "execute_result"
    }
   ],
   "source": [
    "Outcome_l"
   ]
  },
  {
   "cell_type": "code",
   "execution_count": 207,
   "metadata": {},
   "outputs": [
    {
     "data": {
      "text/plain": [
       "['Is COVID-19 transmitted on droplets',\n",
       " ' Is fecal-oral transmission a significant factor in person-to-person spread',\n",
       " ' Is COVID-19 clustering in households (i.e., household environmental transmission)',\n",
       " ' Is COVID-19 transmitted on aerosols',\n",
       " ' What behavioral risk factors impact these transmission routes (e.g., hand-to-mouth action in small children)',\n",
       " '']"
      ]
     },
     "execution_count": 207,
     "metadata": {},
     "output_type": "execute_result"
    }
   ],
   "source": [
    "questions.loc[127,'Subquestion'].split('?')"
   ]
  },
  {
   "cell_type": "code",
   "execution_count": 202,
   "metadata": {},
   "outputs": [
    {
     "data": {
      "text/plain": [
       "'Is COVID-19 transmitted on droplets? Is fecal-oral transmission a significant factor in person-to-person spread? Is COVID-19 clustering in households (i.e., household environmental transmission)? Is COVID-19 transmitted on aerosols? What behavioral risk factors impact these transmission routes (e.g., hand-to-mouth action in small children)?'"
      ]
     },
     "execution_count": 202,
     "metadata": {},
     "output_type": "execute_result"
    }
   ],
   "source": [
    "questions.loc[127,'Subquestion']"
   ]
  },
  {
   "cell_type": "markdown",
   "metadata": {},
   "source": [
    "## This is how a question converts to keyword which can query the text"
   ]
  },
  {
   "cell_type": "code",
   "execution_count": 239,
   "metadata": {},
   "outputs": [],
   "source": [
    "import re\n",
    "import json\n",
    "import numpy as np\n",
    "# target_q_l=['susceptib', 'population', 'asymptomatic' , 'carriage']\n",
    "transmis = []\n",
    "for i in range(0,len(json_filenames)):\n",
    "     with open(json_filenames[i]) as file:\n",
    "        data_2 = json.load(file)\n",
    "        if any((re.search(cov,data_2['metadata']['title'].lower())) for cov in cov_list):\n",
    "            for ii in range(0, len(data_2['body_text'])):\n",
    "\n",
    "                risk1 = [re.findall(risk,data_2['body_text'][ii]['text']) for risk in question_l[3][1]]\n",
    "                risk1 = np.concatenate(risk1)\n",
    "                if len(risk1) >= 0.5*len(question_l[0][1]) :\n",
    "                    ris = [re.findall(risk,data_2['body_text'][ii]['text']) for risk in design_l]\n",
    "                    ris = np.concatenate(ris)\n",
    "                    if any(ris):\n",
    "                        target = [re.findall(q,data_2['body_text'][ii]['text']) for q in Outcome_l]\n",
    "                        target = list(set(np.concatenate(target)))\n",
    "                        if (len(target) >= .3*len(Outcome_l)):\n",
    "                            transmis.append([data_2['paper_id'],data_2['metadata']['title']\n",
    "                                       ,data_2['body_text'][ii]['section'], data_2['body_text'][ii]['text']\n",
    "                                       ,list(set(ris)), risk1, list(set(target))])\n",
    "#                design = [re.findall(des,data_2['body_text'][ii]['text']) for des in trans_desi]\n",
    "#                 design = np.concatenate(design)\n",
    "#                 design_rank = 0\n",
    "#                 if any(design):\n",
    "                    \n",
    "#                     if ('meta-analysis'or 'meta analysis') in design:\n",
    "#                         flag_meta_analysis = 'yes'\n",
    "#                         design_rank = 6\n",
    "#                     if ('randomized controlled') in design:\n",
    "#                         design_rank = 5\n",
    "#                         flag_randomized = 'yes'\n",
    "#                     if ('pseudo-randomized controlled' or'pseudo randomized controlled') in design:\n",
    "#                         design_rank = 4\n",
    "#                         flag_pseudo_randomized = 'yes'\n",
    "#                     design_rank = design_rank + len(design)  \n",
    "                    \n",
    "#                 outcome_rank = 0\n",
    "#                 outcome = [re.findall(des,data_2['body_text'][ii]['text']) for des in trans_outcom]\n",
    "#                 outcome = np.concatenate(outcome)\n",
    "#                 if any(outcome):\n",
    "#                     outcome_rank = len(outcome)\n",
    "                \n",
    "#                 if flag_smoke == 'yes':\n",
    "#                     smoke.append([data_2['paper_id'],data_2['metadata']['title']\n",
    "#                                        ,data_2['body_text'][ii]['section'], data_2['body_text'][ii]['text']\n",
    "#                                        ,risk1, title_smoke, n_smoke\n",
    "#                                        , design, outcome, outcome_rank,design_rank,data_2['body_text']])\n",
    "            \n",
    "            "
   ]
  },
  {
   "cell_type": "code",
   "execution_count": 260,
   "metadata": {},
   "outputs": [
    {
     "data": {
      "text/plain": [
       "\"Radiographers are among the first-line health care workers who might be exposed to 2019 novel COVID-19. Diagnostic imaging facilities should have guidelines in place to manage individuals with known or suspected COVID-19 infection. The novel COVID-19 is highly contagious and is believed to transmit mostly through respiratory droplets, but there is uncertainty as to whether the virus can be transmitted by touching a surface or an item that is contaminated (ie, a fomite). A thorough understanding of the routes of virus transmission will be essential for patients' and health care professionals' safety. Droplets have the greatest risk of transmission within 3 ft (91.44 cm), but they may travel up to 6 ft (183 cm) from their source [19] . For the purpose of diagnostic imaging in individuals with NCIP, whenever possible, portable radiographic equipment should be used to limit transportation of patients. On the basis of experience with SARS, the use of a satellite radiography center and dedicated radiographic equipment can decrease the risk for transmission from known infected individuals. If a patient needs to be transported to the radiology department, he or she should wear a surgical mask during transport to and from the department.\""
      ]
     },
     "execution_count": 260,
     "metadata": {},
     "output_type": "execute_result"
    }
   ],
   "source": [
    "def f(x):\n",
    "    return len(x)\n",
    "trans_data = pd.DataFrame(transmis, columns = ['doc_id', 'title','section', 'section_text', 'design', 'question','outcome'])\n",
    "trans_data['rank'] = trans_data['design'].str.len() + trans_data['question'].str.len()*2 + trans_data['outcome'].str.len()*2\n",
    "# trans_data['rank'] = trans_data[['design','question','outcome']].apply(f)\n",
    "\n",
    "    \n",
    "trans_data.sort_values('rank', ascending = False).loc[0,'section_text']\n",
    "\n"
   ]
  },
  {
   "cell_type": "code",
   "execution_count": null,
   "metadata": {},
   "outputs": [],
   "source": []
  }
 ],
 "metadata": {
  "kernelspec": {
   "display_name": "Python 3",
   "language": "python",
   "name": "python3"
  },
  "language_info": {
   "codemirror_mode": {
    "name": "ipython",
    "version": 3
   },
   "file_extension": ".py",
   "mimetype": "text/x-python",
   "name": "python",
   "nbconvert_exporter": "python",
   "pygments_lexer": "ipython3",
   "version": "3.7.6"
  }
 },
 "nbformat": 4,
 "nbformat_minor": 4
}
