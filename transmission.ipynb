{
 "cells": [
  {
   "cell_type": "markdown",
   "metadata": {},
   "source": [
    "# Abstract\n",
    "## Taks for the notebook:\n",
    "### What do we know about risk factors?\n",
    "- Transmission dynamics of the virus, including the basic reproductive number, incubation period, serial interval, modes of transmission and environmental factors\n",
    "- Severity of disease, including risk of fatality among symptomatic hospitalized patients, and high-risk patient groups\n",
    "- Mutations in virusees"
   ]
  },
  {
   "cell_type": "markdown",
   "metadata": {},
   "source": [
    "# Transmission\n"
   ]
  },
  {
   "cell_type": "code",
   "execution_count": 2,
   "metadata": {
    "_cell_guid": "b1076dfc-b9ad-4769-8c92-a6c4dae69d19",
    "_uuid": "8f2839f25d086af736a60e9eeb907d3b93b6e0e5"
   },
   "outputs": [],
   "source": [
    "import os\n",
    "import re\n",
    "import sys\n",
    "import json\n",
    "import math\n",
    "import glob\n",
    "from pprint import pprint\n",
    "from copy import deepcopy\n",
    "\n",
    "\n",
    "import numpy as np\n",
    "import pandas as pd\n",
    "import matplotlib.pyplot as plt\n",
    "from matplotlib.pyplot import figure\n",
    "\n",
    "import spacy\n",
    "from spacy.matcher import Matcher"
   ]
  },
  {
   "cell_type": "markdown",
   "metadata": {},
   "source": [
    "## Building dataframe\n",
    "Initializing `corona_df` with `title`, `abstract`, `body` and `source` of papers"
   ]
  },
  {
   "cell_type": "code",
   "execution_count": 3,
   "metadata": {},
   "outputs": [],
   "source": [
    "root = '../corona_challenge/'\n",
    "json_filenames = glob.glob(f'{root}/**/*.json', recursive=True)"
   ]
  },
  {
   "cell_type": "code",
   "execution_count": 4,
   "metadata": {
    "_cell_guid": "79c7e3d0-c299-4dcb-8224-4455121ee9b0",
    "_uuid": "d629ff2d2480ee46fbb7e2d37f6b5fab8052498a"
   },
   "outputs": [],
   "source": [
    "# Re used from Maria's coe\n",
    "def return_corona_df(json_filenames, df):\n",
    "\n",
    "    for file_name in json_filenames:\n",
    "\n",
    "        row = {x: None for x in df.columns}\n",
    "        \n",
    "        with open(file_name) as json_data:\n",
    "            data = json.load(json_data)\n",
    "\n",
    "            doc_id = data['paper_id']\n",
    "            row['doc_id'] = doc_id\n",
    "            row['title'] = data['metadata']['title']\n",
    "\n",
    "            # Now need all of abstract. Put it all in\n",
    "            # a list then use str.join() to split it\n",
    "            # into paragraphs.\n",
    "\n",
    "            abstract_list = [abst['text'] for abst in data['abstract']]\n",
    "            abstract = \"\\n \".join(abstract_list)\n",
    "\n",
    "            row['abstract'] = abstract\n",
    "\n",
    "            # And lastly the body of the text.\n",
    "            body_list = [bt['text'] for bt in data['body_text']]\n",
    "            body = \"\\n \".join(body_list)\n",
    "\n",
    "            row['text_body'] = body\n",
    "\n",
    "\n",
    "            df = df.append(row, ignore_index=True)\n",
    "\n",
    "    return df"
   ]
  },
  {
   "cell_type": "code",
   "execution_count": 5,
   "metadata": {},
   "outputs": [],
   "source": [
    "paper_features = {\n",
    "    \"doc_id\": [None],\n",
    "    \"title\": [None],\n",
    "    \"abstract\": [None],\n",
    "    \"text_body\": [None]\n",
    "}\n",
    "corona_df = pd.DataFrame.from_dict(paper_features)"
   ]
  },
  {
   "cell_type": "code",
   "execution_count": 6,
   "metadata": {},
   "outputs": [],
   "source": [
    "corona_df = return_corona_df(json_filenames, corona_df)"
   ]
  },
  {
   "cell_type": "code",
   "execution_count": 7,
   "metadata": {},
   "outputs": [
    {
     "data": {
      "text/plain": [
       "33376"
      ]
     },
     "execution_count": 7,
     "metadata": {},
     "output_type": "execute_result"
    }
   ],
   "source": [
    "len(corona_df)"
   ]
  },
  {
   "cell_type": "code",
   "execution_count": 8,
   "metadata": {
    "scrolled": false
   },
   "outputs": [
    {
     "data": {
      "text/html": [
       "<div>\n",
       "<style scoped>\n",
       "    .dataframe tbody tr th:only-of-type {\n",
       "        vertical-align: middle;\n",
       "    }\n",
       "\n",
       "    .dataframe tbody tr th {\n",
       "        vertical-align: top;\n",
       "    }\n",
       "\n",
       "    .dataframe thead th {\n",
       "        text-align: right;\n",
       "    }\n",
       "</style>\n",
       "<table border=\"1\" class=\"dataframe\">\n",
       "  <thead>\n",
       "    <tr style=\"text-align: right;\">\n",
       "      <th></th>\n",
       "      <th>doc_id</th>\n",
       "      <th>title</th>\n",
       "      <th>abstract</th>\n",
       "      <th>text_body</th>\n",
       "    </tr>\n",
       "  </thead>\n",
       "  <tbody>\n",
       "    <tr>\n",
       "      <th>0</th>\n",
       "      <td>None</td>\n",
       "      <td>None</td>\n",
       "      <td>None</td>\n",
       "      <td>None</td>\n",
       "    </tr>\n",
       "    <tr>\n",
       "      <th>1</th>\n",
       "      <td>86a998617c077f4fe2ab26214995a3548fbc0fc5</td>\n",
       "      <td>Middle East Respiratory Syndrome and Severe Ac...</td>\n",
       "      <td>The recent emergence of the Middle East respir...</td>\n",
       "      <td>While most CoVs cause the common cold in human...</td>\n",
       "    </tr>\n",
       "    <tr>\n",
       "      <th>2</th>\n",
       "      <td>948aaeb2e0be11ad90562bf10d462531a1f00eac</td>\n",
       "      <td>Integrated, Multi-cohort Analysis Identifies C...</td>\n",
       "      <td>Graphical Abstract Highlights d MVS is a commo...</td>\n",
       "      <td>Clinically relevant respiratory viral signatur...</td>\n",
       "    </tr>\n",
       "  </tbody>\n",
       "</table>\n",
       "</div>"
      ],
      "text/plain": [
       "                                     doc_id  \\\n",
       "0                                      None   \n",
       "1  86a998617c077f4fe2ab26214995a3548fbc0fc5   \n",
       "2  948aaeb2e0be11ad90562bf10d462531a1f00eac   \n",
       "\n",
       "                                               title  \\\n",
       "0                                               None   \n",
       "1  Middle East Respiratory Syndrome and Severe Ac...   \n",
       "2  Integrated, Multi-cohort Analysis Identifies C...   \n",
       "\n",
       "                                            abstract  \\\n",
       "0                                               None   \n",
       "1  The recent emergence of the Middle East respir...   \n",
       "2  Graphical Abstract Highlights d MVS is a commo...   \n",
       "\n",
       "                                           text_body  \n",
       "0                                               None  \n",
       "1  While most CoVs cause the common cold in human...  \n",
       "2  Clinically relevant respiratory viral signatur...  "
      ]
     },
     "execution_count": 8,
     "metadata": {},
     "output_type": "execute_result"
    }
   ],
   "source": [
    "corona_df.head(3)"
   ]
  },
  {
   "cell_type": "markdown",
   "metadata": {},
   "source": [
    "## Information extraction from metadata "
   ]
  },
  {
   "cell_type": "code",
   "execution_count": 9,
   "metadata": {},
   "outputs": [],
   "source": [
    "metadata_df = pd.read_csv(root + 'metadata.csv')"
   ]
  },
  {
   "cell_type": "code",
   "execution_count": 10,
   "metadata": {},
   "outputs": [
    {
     "data": {
      "text/html": [
       "<div>\n",
       "<style scoped>\n",
       "    .dataframe tbody tr th:only-of-type {\n",
       "        vertical-align: middle;\n",
       "    }\n",
       "\n",
       "    .dataframe tbody tr th {\n",
       "        vertical-align: top;\n",
       "    }\n",
       "\n",
       "    .dataframe thead th {\n",
       "        text-align: right;\n",
       "    }\n",
       "</style>\n",
       "<table border=\"1\" class=\"dataframe\">\n",
       "  <thead>\n",
       "    <tr style=\"text-align: right;\">\n",
       "      <th></th>\n",
       "      <th>cord_uid</th>\n",
       "      <th>sha</th>\n",
       "      <th>source_x</th>\n",
       "      <th>title</th>\n",
       "      <th>doi</th>\n",
       "      <th>pmcid</th>\n",
       "      <th>pubmed_id</th>\n",
       "      <th>license</th>\n",
       "      <th>abstract</th>\n",
       "      <th>publish_time</th>\n",
       "      <th>authors</th>\n",
       "      <th>journal</th>\n",
       "      <th>Microsoft Academic Paper ID</th>\n",
       "      <th>WHO #Covidence</th>\n",
       "      <th>has_full_text</th>\n",
       "      <th>full_text_file</th>\n",
       "      <th>url</th>\n",
       "    </tr>\n",
       "  </thead>\n",
       "  <tbody>\n",
       "    <tr>\n",
       "      <th>0</th>\n",
       "      <td>vho70jcx</td>\n",
       "      <td>f056da9c64fbf00a4645ae326e8a4339d015d155</td>\n",
       "      <td>biorxiv</td>\n",
       "      <td>SIANN: Strain Identification by Alignment to N...</td>\n",
       "      <td>10.1101/001727</td>\n",
       "      <td>NaN</td>\n",
       "      <td>NaN</td>\n",
       "      <td>biorxiv</td>\n",
       "      <td>Next-generation sequencing is increasingly bei...</td>\n",
       "      <td>2014-01-10</td>\n",
       "      <td>Samuel Minot; Stephen D Turner; Krista L Ternu...</td>\n",
       "      <td>NaN</td>\n",
       "      <td>NaN</td>\n",
       "      <td>NaN</td>\n",
       "      <td>True</td>\n",
       "      <td>biorxiv_medrxiv</td>\n",
       "      <td>https://doi.org/10.1101/001727</td>\n",
       "    </tr>\n",
       "    <tr>\n",
       "      <th>1</th>\n",
       "      <td>i9tbix2v</td>\n",
       "      <td>daf32e013d325a6feb80e83d15aabc64a48fae33</td>\n",
       "      <td>biorxiv</td>\n",
       "      <td>Spatial epidemiology of networked metapopulati...</td>\n",
       "      <td>10.1101/003889</td>\n",
       "      <td>NaN</td>\n",
       "      <td>NaN</td>\n",
       "      <td>biorxiv</td>\n",
       "      <td>An emerging disease is one infectious epidemic...</td>\n",
       "      <td>2014-06-04</td>\n",
       "      <td>Lin WANG; Xiang Li</td>\n",
       "      <td>NaN</td>\n",
       "      <td>NaN</td>\n",
       "      <td>NaN</td>\n",
       "      <td>True</td>\n",
       "      <td>biorxiv_medrxiv</td>\n",
       "      <td>https://doi.org/10.1101/003889</td>\n",
       "    </tr>\n",
       "    <tr>\n",
       "      <th>2</th>\n",
       "      <td>62gfisc6</td>\n",
       "      <td>f33c6d94b0efaa198f8f3f20e644625fa3fe10d2</td>\n",
       "      <td>biorxiv</td>\n",
       "      <td>Sequencing of the human IG light chain loci fr...</td>\n",
       "      <td>10.1101/006866</td>\n",
       "      <td>NaN</td>\n",
       "      <td>NaN</td>\n",
       "      <td>biorxiv</td>\n",
       "      <td>Germline variation at immunoglobulin gene (IG)...</td>\n",
       "      <td>2014-07-03</td>\n",
       "      <td>Corey T Watson; Karyn Meltz Steinberg; Tina A ...</td>\n",
       "      <td>NaN</td>\n",
       "      <td>NaN</td>\n",
       "      <td>NaN</td>\n",
       "      <td>True</td>\n",
       "      <td>biorxiv_medrxiv</td>\n",
       "      <td>https://doi.org/10.1101/006866</td>\n",
       "    </tr>\n",
       "  </tbody>\n",
       "</table>\n",
       "</div>"
      ],
      "text/plain": [
       "   cord_uid                                       sha source_x  \\\n",
       "0  vho70jcx  f056da9c64fbf00a4645ae326e8a4339d015d155  biorxiv   \n",
       "1  i9tbix2v  daf32e013d325a6feb80e83d15aabc64a48fae33  biorxiv   \n",
       "2  62gfisc6  f33c6d94b0efaa198f8f3f20e644625fa3fe10d2  biorxiv   \n",
       "\n",
       "                                               title             doi pmcid  \\\n",
       "0  SIANN: Strain Identification by Alignment to N...  10.1101/001727   NaN   \n",
       "1  Spatial epidemiology of networked metapopulati...  10.1101/003889   NaN   \n",
       "2  Sequencing of the human IG light chain loci fr...  10.1101/006866   NaN   \n",
       "\n",
       "   pubmed_id  license                                           abstract  \\\n",
       "0        NaN  biorxiv  Next-generation sequencing is increasingly bei...   \n",
       "1        NaN  biorxiv  An emerging disease is one infectious epidemic...   \n",
       "2        NaN  biorxiv  Germline variation at immunoglobulin gene (IG)...   \n",
       "\n",
       "  publish_time                                            authors journal  \\\n",
       "0   2014-01-10  Samuel Minot; Stephen D Turner; Krista L Ternu...     NaN   \n",
       "1   2014-06-04                                 Lin WANG; Xiang Li     NaN   \n",
       "2   2014-07-03  Corey T Watson; Karyn Meltz Steinberg; Tina A ...     NaN   \n",
       "\n",
       "   Microsoft Academic Paper ID WHO #Covidence  has_full_text   full_text_file  \\\n",
       "0                          NaN            NaN           True  biorxiv_medrxiv   \n",
       "1                          NaN            NaN           True  biorxiv_medrxiv   \n",
       "2                          NaN            NaN           True  biorxiv_medrxiv   \n",
       "\n",
       "                              url  \n",
       "0  https://doi.org/10.1101/001727  \n",
       "1  https://doi.org/10.1101/003889  \n",
       "2  https://doi.org/10.1101/006866  "
      ]
     },
     "execution_count": 10,
     "metadata": {},
     "output_type": "execute_result"
    }
   ],
   "source": [
    "metadata_df.head(3)"
   ]
  },
  {
   "cell_type": "code",
   "execution_count": 11,
   "metadata": {},
   "outputs": [],
   "source": [
    "metadata_df_for_join = metadata_df.loc[:, ['sha', 'publish_time', 'authors', 'journal', 'doi']]"
   ]
  },
  {
   "cell_type": "code",
   "execution_count": 12,
   "metadata": {},
   "outputs": [],
   "source": [
    "papers_df = corona_df.merge(metadata_df_for_join, \n",
    "                            left_on='doc_id', right_on='sha', how='inner')"
   ]
  },
  {
   "cell_type": "code",
   "execution_count": 13,
   "metadata": {},
   "outputs": [
    {
     "data": {
      "text/plain": [
       "44227"
      ]
     },
     "execution_count": 13,
     "metadata": {},
     "output_type": "execute_result"
    }
   ],
   "source": [
    "len(papers_df)"
   ]
  },
  {
   "cell_type": "code",
   "execution_count": 14,
   "metadata": {
    "scrolled": true
   },
   "outputs": [
    {
     "data": {
      "text/html": [
       "<div>\n",
       "<style scoped>\n",
       "    .dataframe tbody tr th:only-of-type {\n",
       "        vertical-align: middle;\n",
       "    }\n",
       "\n",
       "    .dataframe tbody tr th {\n",
       "        vertical-align: top;\n",
       "    }\n",
       "\n",
       "    .dataframe thead th {\n",
       "        text-align: right;\n",
       "    }\n",
       "</style>\n",
       "<table border=\"1\" class=\"dataframe\">\n",
       "  <thead>\n",
       "    <tr style=\"text-align: right;\">\n",
       "      <th></th>\n",
       "      <th>doc_id</th>\n",
       "      <th>title</th>\n",
       "      <th>abstract</th>\n",
       "      <th>text_body</th>\n",
       "      <th>sha</th>\n",
       "      <th>publish_time</th>\n",
       "      <th>authors</th>\n",
       "      <th>journal</th>\n",
       "      <th>doi</th>\n",
       "    </tr>\n",
       "  </thead>\n",
       "  <tbody>\n",
       "    <tr>\n",
       "      <th>0</th>\n",
       "      <td>None</td>\n",
       "      <td>None</td>\n",
       "      <td>None</td>\n",
       "      <td>None</td>\n",
       "      <td>NaN</td>\n",
       "      <td>2015-11-06</td>\n",
       "      <td>Sissel Juul; Fernando Izquierdo; Adam Hurst; X...</td>\n",
       "      <td>NaN</td>\n",
       "      <td>10.1101/030742</td>\n",
       "    </tr>\n",
       "    <tr>\n",
       "      <th>1</th>\n",
       "      <td>None</td>\n",
       "      <td>None</td>\n",
       "      <td>None</td>\n",
       "      <td>None</td>\n",
       "      <td>NaN</td>\n",
       "      <td>2016-06-23</td>\n",
       "      <td>Zulfazal Ahmed; Prasida Holla; Imran Ahmad; Sh...</td>\n",
       "      <td>NaN</td>\n",
       "      <td>10.1101/060434</td>\n",
       "    </tr>\n",
       "    <tr>\n",
       "      <th>2</th>\n",
       "      <td>None</td>\n",
       "      <td>None</td>\n",
       "      <td>None</td>\n",
       "      <td>None</td>\n",
       "      <td>NaN</td>\n",
       "      <td>2016-09-02</td>\n",
       "      <td>Fabienne Krauer; Maurane Riesen; Ludovic Revei...</td>\n",
       "      <td>NaN</td>\n",
       "      <td>10.1101/073098</td>\n",
       "    </tr>\n",
       "  </tbody>\n",
       "</table>\n",
       "</div>"
      ],
      "text/plain": [
       "  doc_id title abstract text_body  sha publish_time  \\\n",
       "0   None  None     None      None  NaN   2015-11-06   \n",
       "1   None  None     None      None  NaN   2016-06-23   \n",
       "2   None  None     None      None  NaN   2016-09-02   \n",
       "\n",
       "                                             authors journal             doi  \n",
       "0  Sissel Juul; Fernando Izquierdo; Adam Hurst; X...     NaN  10.1101/030742  \n",
       "1  Zulfazal Ahmed; Prasida Holla; Imran Ahmad; Sh...     NaN  10.1101/060434  \n",
       "2  Fabienne Krauer; Maurane Riesen; Ludovic Revei...     NaN  10.1101/073098  "
      ]
     },
     "execution_count": 14,
     "metadata": {},
     "output_type": "execute_result"
    }
   ],
   "source": [
    "papers_df.head(3)"
   ]
  },
  {
   "cell_type": "markdown",
   "metadata": {},
   "source": [
    "### Adding journal ratings as feature"
   ]
  },
  {
   "cell_type": "code",
   "execution_count": 15,
   "metadata": {},
   "outputs": [],
   "source": [
    "journal_df = pd.read_csv('scimagoj_2018.csv', sep = ';')"
   ]
  },
  {
   "cell_type": "code",
   "execution_count": 16,
   "metadata": {},
   "outputs": [
    {
     "data": {
      "text/html": [
       "<div>\n",
       "<style scoped>\n",
       "    .dataframe tbody tr th:only-of-type {\n",
       "        vertical-align: middle;\n",
       "    }\n",
       "\n",
       "    .dataframe tbody tr th {\n",
       "        vertical-align: top;\n",
       "    }\n",
       "\n",
       "    .dataframe thead th {\n",
       "        text-align: right;\n",
       "    }\n",
       "</style>\n",
       "<table border=\"1\" class=\"dataframe\">\n",
       "  <thead>\n",
       "    <tr style=\"text-align: right;\">\n",
       "      <th></th>\n",
       "      <th>Rank</th>\n",
       "      <th>Sourceid</th>\n",
       "      <th>Title</th>\n",
       "      <th>Type</th>\n",
       "      <th>Issn</th>\n",
       "      <th>SJR</th>\n",
       "      <th>SJR Best Quartile</th>\n",
       "      <th>H index</th>\n",
       "      <th>Total Docs. (2018)</th>\n",
       "      <th>Total Docs. (3years)</th>\n",
       "      <th>Total Refs.</th>\n",
       "      <th>Total Cites (3years)</th>\n",
       "      <th>Citable Docs. (3years)</th>\n",
       "      <th>Cites / Doc. (2years)</th>\n",
       "      <th>Ref. / Doc.</th>\n",
       "      <th>Country</th>\n",
       "      <th>Publisher</th>\n",
       "      <th>Coverage</th>\n",
       "      <th>Categories</th>\n",
       "    </tr>\n",
       "  </thead>\n",
       "  <tbody>\n",
       "    <tr>\n",
       "      <th>0</th>\n",
       "      <td>1</td>\n",
       "      <td>28773</td>\n",
       "      <td>CA - A Cancer Journal for Clinicians</td>\n",
       "      <td>journal</td>\n",
       "      <td>15424863, 00079235</td>\n",
       "      <td>72,576</td>\n",
       "      <td>Q1</td>\n",
       "      <td>144</td>\n",
       "      <td>45</td>\n",
       "      <td>127</td>\n",
       "      <td>3078</td>\n",
       "      <td>20088</td>\n",
       "      <td>103</td>\n",
       "      <td>206,85</td>\n",
       "      <td>68,40</td>\n",
       "      <td>United States</td>\n",
       "      <td>Wiley-Blackwell</td>\n",
       "      <td>1950-ongoing</td>\n",
       "      <td>Hematology (Q1); Oncology (Q1)</td>\n",
       "    </tr>\n",
       "    <tr>\n",
       "      <th>1</th>\n",
       "      <td>2</td>\n",
       "      <td>19434</td>\n",
       "      <td>MMWR. Recommendations and reports : Morbidity ...</td>\n",
       "      <td>journal</td>\n",
       "      <td>10575987, 15458601</td>\n",
       "      <td>48,894</td>\n",
       "      <td>Q1</td>\n",
       "      <td>134</td>\n",
       "      <td>3</td>\n",
       "      <td>12</td>\n",
       "      <td>559</td>\n",
       "      <td>1043</td>\n",
       "      <td>12</td>\n",
       "      <td>86,00</td>\n",
       "      <td>186,33</td>\n",
       "      <td>United States</td>\n",
       "      <td>Centers for Disease Control and Prevention (CDC)</td>\n",
       "      <td>1990-ongoing</td>\n",
       "      <td>Epidemiology (Q1); Health Information Manageme...</td>\n",
       "    </tr>\n",
       "    <tr>\n",
       "      <th>2</th>\n",
       "      <td>3</td>\n",
       "      <td>21100812243</td>\n",
       "      <td>Nature Reviews Materials</td>\n",
       "      <td>journal</td>\n",
       "      <td>20588437</td>\n",
       "      <td>34,171</td>\n",
       "      <td>Q1</td>\n",
       "      <td>61</td>\n",
       "      <td>99</td>\n",
       "      <td>195</td>\n",
       "      <td>8124</td>\n",
       "      <td>7297</td>\n",
       "      <td>104</td>\n",
       "      <td>70,16</td>\n",
       "      <td>82,06</td>\n",
       "      <td>United Kingdom</td>\n",
       "      <td>Nature Publishing Group</td>\n",
       "      <td>2016-ongoing</td>\n",
       "      <td>Biomaterials (Q1); Electronic, Optical and Mag...</td>\n",
       "    </tr>\n",
       "  </tbody>\n",
       "</table>\n",
       "</div>"
      ],
      "text/plain": [
       "   Rank     Sourceid                                              Title  \\\n",
       "0     1        28773               CA - A Cancer Journal for Clinicians   \n",
       "1     2        19434  MMWR. Recommendations and reports : Morbidity ...   \n",
       "2     3  21100812243                           Nature Reviews Materials   \n",
       "\n",
       "      Type                Issn     SJR SJR Best Quartile  H index  \\\n",
       "0  journal  15424863, 00079235  72,576                Q1      144   \n",
       "1  journal  10575987, 15458601  48,894                Q1      134   \n",
       "2  journal            20588437  34,171                Q1       61   \n",
       "\n",
       "   Total Docs. (2018)  Total Docs. (3years)  Total Refs.  \\\n",
       "0                  45                   127         3078   \n",
       "1                   3                    12          559   \n",
       "2                  99                   195         8124   \n",
       "\n",
       "   Total Cites (3years)  Citable Docs. (3years) Cites / Doc. (2years)  \\\n",
       "0                 20088                     103                206,85   \n",
       "1                  1043                      12                 86,00   \n",
       "2                  7297                     104                 70,16   \n",
       "\n",
       "  Ref. / Doc.         Country  \\\n",
       "0       68,40   United States   \n",
       "1      186,33   United States   \n",
       "2       82,06  United Kingdom   \n",
       "\n",
       "                                          Publisher      Coverage  \\\n",
       "0                                   Wiley-Blackwell  1950-ongoing   \n",
       "1  Centers for Disease Control and Prevention (CDC)  1990-ongoing   \n",
       "2                           Nature Publishing Group  2016-ongoing   \n",
       "\n",
       "                                          Categories  \n",
       "0                     Hematology (Q1); Oncology (Q1)  \n",
       "1  Epidemiology (Q1); Health Information Manageme...  \n",
       "2  Biomaterials (Q1); Electronic, Optical and Mag...  "
      ]
     },
     "execution_count": 16,
     "metadata": {},
     "output_type": "execute_result"
    }
   ],
   "source": [
    "journal_df.head(3)"
   ]
  },
  {
   "cell_type": "code",
   "execution_count": 17,
   "metadata": {},
   "outputs": [
    {
     "data": {
      "text/plain": [
       "4886"
      ]
     },
     "execution_count": 17,
     "metadata": {},
     "output_type": "execute_result"
    }
   ],
   "source": [
    "len(set(metadata_df['journal']))"
   ]
  },
  {
   "cell_type": "code",
   "execution_count": 18,
   "metadata": {},
   "outputs": [
    {
     "data": {
      "text/plain": [
       "31378"
      ]
     },
     "execution_count": 18,
     "metadata": {},
     "output_type": "execute_result"
    }
   ],
   "source": [
    "len(set(journal_df['Title']))"
   ]
  },
  {
   "cell_type": "code",
   "execution_count": 19,
   "metadata": {},
   "outputs": [
    {
     "data": {
      "text/plain": [
       "1689"
      ]
     },
     "execution_count": 19,
     "metadata": {},
     "output_type": "execute_result"
    }
   ],
   "source": [
    "len(set(metadata_df['journal']) & set(journal_df['Title']))"
   ]
  },
  {
   "cell_type": "code",
   "execution_count": 20,
   "metadata": {},
   "outputs": [],
   "source": [
    "df_smoke = papers_df.merge(journal_df.loc[:,['Title', 'H index']], \n",
    "                           left_on='journal', right_on='Title', how='left')"
   ]
  },
  {
   "cell_type": "code",
   "execution_count": 21,
   "metadata": {},
   "outputs": [],
   "source": [
    "df_smoke = df_smoke.dropna(subset = ['abstract', 'text_body'])"
   ]
  },
  {
   "cell_type": "code",
   "execution_count": 22,
   "metadata": {},
   "outputs": [
    {
     "data": {
      "text/html": [
       "<div>\n",
       "<style scoped>\n",
       "    .dataframe tbody tr th:only-of-type {\n",
       "        vertical-align: middle;\n",
       "    }\n",
       "\n",
       "    .dataframe tbody tr th {\n",
       "        vertical-align: top;\n",
       "    }\n",
       "\n",
       "    .dataframe thead th {\n",
       "        text-align: right;\n",
       "    }\n",
       "</style>\n",
       "<table border=\"1\" class=\"dataframe\">\n",
       "  <thead>\n",
       "    <tr style=\"text-align: right;\">\n",
       "      <th></th>\n",
       "      <th>doc_id</th>\n",
       "      <th>title</th>\n",
       "      <th>abstract</th>\n",
       "      <th>text_body</th>\n",
       "      <th>sha</th>\n",
       "      <th>publish_time</th>\n",
       "      <th>authors</th>\n",
       "      <th>journal</th>\n",
       "      <th>doi</th>\n",
       "      <th>Title</th>\n",
       "      <th>H index</th>\n",
       "    </tr>\n",
       "  </thead>\n",
       "  <tbody>\n",
       "    <tr>\n",
       "      <th>14041</th>\n",
       "      <td>ab680d5dbc4f51252da3473109a7885dd6b5eb6f</td>\n",
       "      <td>Evolutionary Medicine IV. Evolution and Emerge...</td>\n",
       "      <td></td>\n",
       "      <td>The evolutionary history of humans is characte...</td>\n",
       "      <td>ab680d5dbc4f51252da3473109a7885dd6b5eb6f</td>\n",
       "      <td>2016-12-31</td>\n",
       "      <td>Scarpino, S.V.</td>\n",
       "      <td>Encyclopedia of Evolutionary Biology</td>\n",
       "      <td>10.1016/b978-0-12-800049-6.00293-6</td>\n",
       "      <td>NaN</td>\n",
       "      <td>NaN</td>\n",
       "    </tr>\n",
       "    <tr>\n",
       "      <th>14042</th>\n",
       "      <td>6599ebbef3d868afac9daa4f80fa075675cf03bc</td>\n",
       "      <td>International aviation emissions to 2025: Can ...</td>\n",
       "      <td>International aviation is growing rapidly, res...</td>\n",
       "      <td>Sixty years ago, civil aviation was an infant ...</td>\n",
       "      <td>6599ebbef3d868afac9daa4f80fa075675cf03bc</td>\n",
       "      <td>2009-01-31</td>\n",
       "      <td>Macintosh, Andrew; Wallace, Lailey</td>\n",
       "      <td>Energy Policy</td>\n",
       "      <td>10.1016/j.enpol.2008.08.029</td>\n",
       "      <td>Energy Policy</td>\n",
       "      <td>178.0</td>\n",
       "    </tr>\n",
       "    <tr>\n",
       "      <th>14043</th>\n",
       "      <td>eb5c7f3ff921ad6469b79cc8a3c122648204ece4</td>\n",
       "      <td>2 Mechanisms of diarrhoea</td>\n",
       "      <td></td>\n",
       "      <td>Acute infections of the gastrointestinal tract...</td>\n",
       "      <td>eb5c7f3ff921ad6469b79cc8a3c122648204ece4</td>\n",
       "      <td>1993-06-30</td>\n",
       "      <td>Booth, I.W.; McNeish, A.S.</td>\n",
       "      <td>Baillière's Clinical Gastroenterology</td>\n",
       "      <td>10.1016/0950-3528(93)90041-p</td>\n",
       "      <td>NaN</td>\n",
       "      <td>NaN</td>\n",
       "    </tr>\n",
       "  </tbody>\n",
       "</table>\n",
       "</div>"
      ],
      "text/plain": [
       "                                         doc_id  \\\n",
       "14041  ab680d5dbc4f51252da3473109a7885dd6b5eb6f   \n",
       "14042  6599ebbef3d868afac9daa4f80fa075675cf03bc   \n",
       "14043  eb5c7f3ff921ad6469b79cc8a3c122648204ece4   \n",
       "\n",
       "                                                   title  \\\n",
       "14041  Evolutionary Medicine IV. Evolution and Emerge...   \n",
       "14042  International aviation emissions to 2025: Can ...   \n",
       "14043                          2 Mechanisms of diarrhoea   \n",
       "\n",
       "                                                abstract  \\\n",
       "14041                                                      \n",
       "14042  International aviation is growing rapidly, res...   \n",
       "14043                                                      \n",
       "\n",
       "                                               text_body  \\\n",
       "14041  The evolutionary history of humans is characte...   \n",
       "14042  Sixty years ago, civil aviation was an infant ...   \n",
       "14043  Acute infections of the gastrointestinal tract...   \n",
       "\n",
       "                                            sha publish_time  \\\n",
       "14041  ab680d5dbc4f51252da3473109a7885dd6b5eb6f   2016-12-31   \n",
       "14042  6599ebbef3d868afac9daa4f80fa075675cf03bc   2009-01-31   \n",
       "14043  eb5c7f3ff921ad6469b79cc8a3c122648204ece4   1993-06-30   \n",
       "\n",
       "                                  authors  \\\n",
       "14041                      Scarpino, S.V.   \n",
       "14042  Macintosh, Andrew; Wallace, Lailey   \n",
       "14043          Booth, I.W.; McNeish, A.S.   \n",
       "\n",
       "                                     journal  \\\n",
       "14041   Encyclopedia of Evolutionary Biology   \n",
       "14042                          Energy Policy   \n",
       "14043  Baillière's Clinical Gastroenterology   \n",
       "\n",
       "                                      doi          Title  H index  \n",
       "14041  10.1016/b978-0-12-800049-6.00293-6            NaN      NaN  \n",
       "14042         10.1016/j.enpol.2008.08.029  Energy Policy    178.0  \n",
       "14043        10.1016/0950-3528(93)90041-p            NaN      NaN  "
      ]
     },
     "execution_count": 22,
     "metadata": {},
     "output_type": "execute_result"
    }
   ],
   "source": [
    "df_smoke.head(3)"
   ]
  },
  {
   "cell_type": "markdown",
   "metadata": {},
   "source": [
    "### Filtering papers for transmission details"
   ]
  },
  {
   "cell_type": "code",
   "execution_count": 23,
   "metadata": {},
   "outputs": [],
   "source": [
    "transmission_keywords = [\n",
    "    'transmi', 'sneez', 'contact trac', 'reproduc', 'environ'\n",
    "]"
   ]
  },
  {
   "cell_type": "code",
   "execution_count": 24,
   "metadata": {},
   "outputs": [],
   "source": [
    "smoke_keywords = [\n",
    "    'smok', 'pulm'\n",
    "]"
   ]
  },
  {
   "cell_type": "code",
   "execution_count": 25,
   "metadata": {},
   "outputs": [],
   "source": [
    "# Exact copy of Maria's function\n",
    "abstracts = list(df_smoke['abstract'])\n",
    "df_smoke['transmission_indicator'] = df_smoke['abstract'].apply(lambda x: \n",
    "                                                                any(keyword in x for \n",
    "                                                                    keyword in transmission_keywords))\n",
    "df_smoke['smoke_indicator'] = df_smoke['abstract'].apply(lambda x: \n",
    "                                                                any(keyword in x for \n",
    "                                                                    keyword in smoke_keywords))\n",
    "transmission_df = df_smoke[df_smoke['transmission_indicator'] == True].reset_index(drop = True)\n",
    "smoke_df = df_smoke[df_smoke['smoke_indicator'] == True].reset_index(drop = True)"
   ]
  },
  {
   "cell_type": "code",
   "execution_count": 26,
   "metadata": {},
   "outputs": [
    {
     "data": {
      "text/plain": [
       "((4448, 13), (778, 13))"
      ]
     },
     "execution_count": 26,
     "metadata": {},
     "output_type": "execute_result"
    }
   ],
   "source": [
    "transmission_df.shape, smoke_df.shape"
   ]
  },
  {
   "cell_type": "code",
   "execution_count": 27,
   "metadata": {},
   "outputs": [],
   "source": [
    "transmission_df.to_csv('transmission_df.csv')\n",
    "smoke_df.to_csv('smoke_df.csv')"
   ]
  },
  {
   "cell_type": "code",
   "execution_count": 30,
   "metadata": {},
   "outputs": [],
   "source": [
    "transmission_colab_df = transmission_df.sort_values(by = 'H index', ascending = False).reset_index(drop = True)\n",
    "transmission_colab_df = transmission_colab_df.iloc[0:100, :]"
   ]
  },
  {
   "cell_type": "code",
   "execution_count": 31,
   "metadata": {},
   "outputs": [],
   "source": [
    "smoke_colab_df = smoke_df.sort_values(by = 'H index', ascending = False).reset_index(drop = True)\n",
    "smoke_colab_df = smoke_colab_df.iloc[0:100, :]"
   ]
  },
  {
   "cell_type": "code",
   "execution_count": 32,
   "metadata": {},
   "outputs": [],
   "source": [
    "transmission_colab_df.to_csv('transmission_colab_df.csv')\n",
    "smoke_colab_df.to_csv('smoke_colab_df.csv')"
   ]
  },
  {
   "cell_type": "code",
   "execution_count": null,
   "metadata": {},
   "outputs": [],
   "source": []
  }
 ],
 "metadata": {
  "kernelspec": {
   "display_name": "Python 3",
   "language": "python",
   "name": "python3"
  },
  "language_info": {
   "codemirror_mode": {
    "name": "ipython",
    "version": 3
   },
   "file_extension": ".py",
   "mimetype": "text/x-python",
   "name": "python",
   "nbconvert_exporter": "python",
   "pygments_lexer": "ipython3",
   "version": "3.7.4"
  }
 },
 "nbformat": 4,
 "nbformat_minor": 4
}
