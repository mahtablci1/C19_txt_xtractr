{
 "cells": [
  {
   "cell_type": "markdown",
   "metadata": {},
   "source": [
    "# Abstract\n",
    "The objective of this notebook will be to clean up working dataframes and output them as either JSONs for the front end or CSVs"
   ]
  },
  {
   "cell_type": "code",
   "execution_count": 90,
   "metadata": {},
   "outputs": [],
   "source": [
    "import numpy as np\n",
    "import pandas as pd\n",
    "from datetime import datetime\n",
    "from nltk.stem import WordNetLemmatizer \n",
    "lemmatizer = WordNetLemmatizer()"
   ]
  },
  {
   "cell_type": "code",
   "execution_count": 2,
   "metadata": {},
   "outputs": [],
   "source": [
    "papers_df = pd.read_csv('../output/papers_df.csv', \n",
    "                        index_col=0, \n",
    "                        keep_default_na=False,\n",
    "                       parse_dates=['publish_time'])"
   ]
  },
  {
   "cell_type": "code",
   "execution_count": 63,
   "metadata": {},
   "outputs": [],
   "source": [
    "downloads = '../../../Downloads/'"
   ]
  },
  {
   "cell_type": "code",
   "execution_count": 3,
   "metadata": {},
   "outputs": [],
   "source": [
    "covid_keywords = ['COVID-19', 'HCoV-19', 'CORD-19' ,'2019-nCoV', 'Wuhan coronavirus', 'SARS-CoV-2', 'covid']"
   ]
  },
  {
   "cell_type": "code",
   "execution_count": 4,
   "metadata": {},
   "outputs": [],
   "source": [
    "covid_papers = papers_df[papers_df['text_body'].apply(lambda x: \n",
    "                                                     any(key.lower() in x.lower()\n",
    "                                                        for key in covid_keywords))]"
   ]
  },
  {
   "cell_type": "code",
   "execution_count": 77,
   "metadata": {},
   "outputs": [],
   "source": [
    "def join_metadata(df):\n",
    "    df['is_covid_related'] = df['doc_id'].apply(lambda x: x.lower() in covid_papers['doc_id'].values)\n",
    "    df = df.merge(papers_df, how='left', on='doc_id')\n",
    "    df = df.rename(columns={'text': 'section_text'})\n",
    "    df = df.sort_values(by='is_covid_related', ascending = False).reset_index(drop=True)\n",
    "    \n",
    "    df = df[df['publish_time'] > datetime(2019, 1, 1)]\n",
    "    \n",
    "    count_dict = df.groupby('doc_id').count()['is_covid_related'].to_dict()\n",
    "    df['count'] = df['doc_id'].apply(lambda x: count_dict[x])\n",
    "    df = df.sort_values('count', ascending=False)\n",
    "    df = df.drop('count', axis=1).reset_index(drop=True)\n",
    "    return df"
   ]
  },
  {
   "cell_type": "code",
   "execution_count": 67,
   "metadata": {},
   "outputs": [],
   "source": [
    "# Filtering cov_risk_design\n",
    "cov_risk_design = pd.read_csv(downloads + 'cov_risk_design.csv',index_col = 0, keep_default_na=False)\n",
    "cov_risk_design_rich = join_metadata(cov_risk_design)\n",
    "cov_risk_design_rich.to_json(downloads + 'cov_risk_design.json', orient='records')"
   ]
  },
  {
   "cell_type": "code",
   "execution_count": 91,
   "metadata": {},
   "outputs": [],
   "source": [
    "risk_design = pd.read_csv(downloads + 'risk_design.csv', index_col=0, keep_default_na=False)"
   ]
  },
  {
   "cell_type": "code",
   "execution_count": 92,
   "metadata": {},
   "outputs": [],
   "source": [
    "risk_design_rich = join_metadata(risk_design)"
   ]
  },
  {
   "cell_type": "code",
   "execution_count": 93,
   "metadata": {},
   "outputs": [],
   "source": [
    "risk_design_rich = risk_design_rich[risk_design_rich['is_covid_related']==True]"
   ]
  },
  {
   "cell_type": "code",
   "execution_count": 94,
   "metadata": {},
   "outputs": [],
   "source": [
    "sections = [lemmatizer.lemmatize(section) for section \n",
    "            in list(risk_design_rich['section']) \n",
    "            if section != '']"
   ]
  },
  {
   "cell_type": "code",
   "execution_count": 95,
   "metadata": {
    "scrolled": true
   },
   "outputs": [
    {
     "data": {
      "text/plain": [
       "[('discussion', 16),\n",
       " ('annex', 7),\n",
       " ('abstract', 6),\n",
       " ('result', 3),\n",
       " ('melatonin & other supportive adjuvant effects', 3),\n",
       " ('symptom', 3),\n",
       " ('acknowledgement', 3),\n",
       " ('j o u r n a l p r e -p r o o f', 2),\n",
       " ('introduction', 2),\n",
       " ('study design and participants', 2),\n",
       " ('use of drugs acting on renin angiotensin system', 2),\n",
       " ('role of underling cv comorbidities', 2),\n",
       " ('specifi c clinical management', 2),\n",
       " ('mortality', 2),\n",
       " ('prevalence of cvd in patients with covid-19', 2),\n",
       " ('dietary immunomodulatory', 2),\n",
       " ('melatonin effects in cytokine levels in human', 1),\n",
       " ('diabetes-related traits', 1),\n",
       " ('clinical characteristics and laboratory results', 1),\n",
       " ('predictors and outcomes', 1),\n",
       " ('validation of our network-based knowledge mining results', 1),\n",
       " ('plos one', 1),\n",
       " ('mers and pregnancy', 1),\n",
       " ('coronavirus disease 2019 (covid-19), a new form of respiratory and systemic',\n",
       "  1),\n",
       " ('from the perspective of route of transmission', 1),\n",
       " ('figure. estimated covid-19 pediatric hospitalizations (under age 17) in the 13 districts of wuhan from',\n",
       "  1),\n",
       " ('(which was not peer-reviewed)', 1),\n",
       " ('analysis of influencing factors of the mental health status of medical personnel',\n",
       "  1),\n",
       " ('tm for management of chronic conditions', 1),\n",
       " ('patient consent', 1),\n",
       " ('patients and clinical data', 1),\n",
       " ('grading the quality of evidence:', 1),\n",
       " ('patient', 1)]"
      ]
     },
     "execution_count": 95,
     "metadata": {},
     "output_type": "execute_result"
    }
   ],
   "source": [
    "freq_secs = {}\n",
    "for section in sections:\n",
    "    if section in freq_secs:\n",
    "        freq_secs[section] += 1\n",
    "    else:\n",
    "        freq_secs[section] = 1\n",
    "\n",
    "sorted(freq_secs.items(), key=lambda x: x[1], reverse=True)"
   ]
  },
  {
   "cell_type": "code",
   "execution_count": 99,
   "metadata": {},
   "outputs": [
    {
     "data": {
      "text/plain": [
       "'covid-19, a novel coronavirus outbreak starting in china, is now a rapidly developing public health emergency of international concern. the clinical spectrum of covid-19 disease is varied, and identifying factors associated with severe disease has been described as an urgent research priority. it has been noted that elderly patients with pre-existing comorbidities are more vulnerable to more severe disease. however, the specific symptoms and comorbidities that most strongly predict disease severity are unclear. we performed a systematic review and meta-analysis to identify the symptoms and comorbidities predictive of covid-19 severity.'"
      ]
     },
     "execution_count": 99,
     "metadata": {},
     "output_type": "execute_result"
    }
   ],
   "source": [
    "cov_risk_design_rich['section_text'].iloc[8]"
   ]
  },
  {
   "cell_type": "code",
   "execution_count": null,
   "metadata": {},
   "outputs": [],
   "source": []
  }
 ],
 "metadata": {
  "kernelspec": {
   "display_name": "Python 3.7.4 64-bit ('anaconda3': virtualenv)",
   "language": "python",
   "name": "python37464bitanaconda3virtualenv11568a5b709c405b925f37b6b0b6dbdb"
  },
  "language_info": {
   "codemirror_mode": {
    "name": "ipython",
    "version": 3
   },
   "file_extension": ".py",
   "mimetype": "text/x-python",
   "name": "python",
   "nbconvert_exporter": "python",
   "pygments_lexer": "ipython3",
   "version": "3.7.4"
  }
 },
 "nbformat": 4,
 "nbformat_minor": 2
}
