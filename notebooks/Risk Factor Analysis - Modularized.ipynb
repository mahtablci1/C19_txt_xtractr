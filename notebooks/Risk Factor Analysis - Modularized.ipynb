{
 "cells": [
  {
   "cell_type": "markdown",
   "metadata": {},
   "source": [
    "## Table of Content:\n",
    "* [Team](#team)\n",
    "* [Task](#task)\n",
    "* [How we approach the challenge](#approach)\n",
    "* [Our hypotheses/why](#hypotheses)\n",
    "* [How we solve it](#solve)\n",
    "* [First approach](#first)\n",
    "* [Second approach](#second)\n",
    "* [Pros and cons of our approach and platform](#pros)\n",
    "* [Acknowledgement](#ackn)\n",
    "* [Code](#code)\n",
    "* [Keyword Analysis (Phase 1)](#phase1)\n",
    "* [Question Search (Phase 2)](#phase2)\n",
    "\n",
    "<a id=\"team\"></a>\n",
    "## Team:\n",
    "#### We are a team of three: one machine learning/NLP scientist, one front-end senior software engineer and one co-op data science intern/engineer. We all work in the same place, Thomson Reuters, and that’s how we know each other.  \n",
    "\n",
    "<a id=\"task\"></a>\n",
    "# Task: \n",
    "## What do we know about COVID-19 risk factors? \n",
    "\n",
    "<a id=\"approach\"></a>\n",
    "## How we approached the challenge: \n",
    "Our platform was built based on the following principles: \n",
    "- Empower users (health researchers) to conduct literature survey efficiently. \n",
    "- Adaptable to future needs and challenges of health researchers.  \n",
    "- Modularized to have the capability of being improved and polished in a short time and in parallel.  \n",
    "\n",
    "<a id=\"hypotheses\"></a>\n",
    "## Our hypotheses/why? \n",
    "\n",
    "AI can benefit researchers by extracting and visualizing information in the most efficient and relevant manner at scale.  In the absence of expert feedback and annotations, we have built/provided a platform that extracts and ranks relevant info with potential for improvement in the future by taking advantage of expert annotation.\n",
    "\n",
    "<a id=\"solve\"></a>\n",
    "## How we solve it/why? \n",
    "\n",
    "The project was done in two slightly different approaches.  \n",
    "The first approach focused on developing an end to end pipeline to address the first subtask which was: \n",
    "- Data on potential risks factors \n",
    "- Smoking, pre-existing pulmonary disease \n",
    "- Co-infections (determine whether co-existing respiratory/viral infections make the virus more transmissible or virulent) and other co-    morbidities \n",
    "- Neonates and pregnant women \n",
    "- Socio-economic and behavioral factors to understand the economic impact of the virus and whether there were differences. \n",
    "\n",
    "We have developed a web app to visually accompany the analysis carried out for this task. \n",
    "The second approach was focused on question information retrieval but isn’t accompanied by with a web-app yet due to time constraint. \n",
    "\n",
    "<a id=\"first\"></a>\n",
    "## First approach has the following recipe: \n",
    "The platform is designed to visualize snippets of relevant topics through the following process: \n",
    "- Merge different sources of the data\n",
    "- Extract all COVID19 related papers \n",
    "- Expand and process the list of keywords\n",
    "- Find excerpts of papers that include the keywords \n",
    "- Rank the excerpts\n",
    "- Create an extractive summary for each paper\n",
    "- Serve it to the web-app for visualization\n",
    "\n",
    "<a id=\"second\"></a>\n",
    "## Second approach has the following recipe: \n",
    "The platform is designed to rank snippets of relevant topics through the following process: \n",
    "\n",
    "- Merge different sources of the data\n",
    "- Extract all COVID 19 related paper s\n",
    "- Convert a question into set of keywords (The questions are extracted from the [medical dictionary](https://docs.google.com/spreadsheets/d/1NoiAFJoydk3zuc-G0qqROarkhaGpfgbQhTVYhbYtLCM/edit#gid=0) shared with Kaggle participants.\n",
    "- Expand the list of keywords\n",
    "- Find excerpts of papers that include the keywords \n",
    "- Rank the excerpts\n",
    "- Create an extractive summary for each paper \n",
    "\n",
    "<a id=\"pros\"></a>\n",
    "### Pros and Cons of our approach and platform: \n",
    "\n",
    "#### Pros: \n",
    "\n",
    "- The code base and the approach is highly modular and simple. It is a well structured baseleine to start.   \n",
    "- The code is very well documented \n",
    "- The visualization resonates with researchers. We interviewed an expert in epidemiology, since that is our target user. He liked all  aspects of it including the extractive summaries of the papers. He also noted that using this platform could reduce the time taken for a literature survey, which normally takes 3 to 4 months, to less than a month.  \n",
    "- The platform is taking a high recall approach to include everything \n",
    "- With a little bit of effort, we can convert this platform to an expert annotation platform where experts can interactively click on irrelevant sentences in the snippets and convert a completely unsupervised approach to a supervised learning task. \n",
    "\n",
    "#### Cons: \n",
    "- The output wasn't reviewed and validated by a subject matter expert\n",
    "- Keyword search is not the most efficient search. Word embedding is known to be a better approach for text analysis but there wasn’t enough time to implement and evaluate that. \n",
    "- Our ranking follows a simple approach, where an expert should decide on the metric for ranking the importance of a snippet. \n",
    "- The second approach is not coming with a visualization. \n",
    "- There may be more risk factors than what we currently searched for and an algorithm should extract the unknown risks too. "
   ]
  },
  {
   "cell_type": "markdown",
   "metadata": {},
   "source": [
    "<a id=\"ackn\"></a>\n",
    "### Acknowledgement\n",
    "We would like to thank Brian Romer (https://www.linkedin.com/in/brianromer/) for his valuable help in designing the visualization as well as Serge Myroshnychenko (https://www.linkedin.com/in/smyroshnychenko/) for his valuable feedback on the interface."
   ]
  },
  {
   "cell_type": "markdown",
   "metadata": {},
   "source": [
    "<a id=\"code\"></a>\n",
    "# Code"
   ]
  },
  {
   "cell_type": "markdown",
   "metadata": {},
   "source": [
    "## Requirements"
   ]
  },
  {
   "cell_type": "code",
   "execution_count": null,
   "metadata": {},
   "outputs": [],
   "source": [
    "import os\n",
    "import io\n",
    "import re\n",
    "import sys\n",
    "import glob\n",
    "import json\n",
    "import string\n",
    "import requests\n",
    "\n",
    "import numpy as np\n",
    "import pandas as pd\n",
    "from tqdm.notebook import tqdm\n",
    "\n",
    "from nltk.corpus import stopwords\n",
    "from nltk.stem import PorterStemmer\n",
    "from nltk.tokenize import word_tokenize, sent_tokenize\n",
    "\n",
    "stemmer = PorterStemmer()\n",
    "root = '../input/CORD-19-research-challenge/'\n",
    "stop_words = list(set(stopwords.words('english')))\n",
    "stop_words.extend(['within', 'what', 'how', 'eg', 'ie'])"
   ]
  },
  {
   "cell_type": "markdown",
   "metadata": {},
   "source": [
    "## Data Parsing and Extraction"
   ]
  },
  {
   "cell_type": "markdown",
   "metadata": {},
   "source": [
    "### `PaperLoader` class will load all papers for the challenge and provide an interface for us to obtain `DataFrames` to work with. The focus will be on:\n",
    "- Obtaining Paper title, Abstract, Body\n",
    "    - The text body is filtered to remove sections containing lots of citations and hyperlinks\n",
    "- Obtaining Authors, Journal of Publication, Publication Date and Publication Date"
   ]
  },
  {
   "cell_type": "markdown",
   "metadata": {},
   "source": [
    "## Data Parsing and Extraction"
   ]
  },
  {
   "cell_type": "markdown",
   "metadata": {},
   "source": [
    "### `PaperLoader` class will load all papers for the challenge and provide an interface for us to obtain `DataFrames` to work with. The focus will be on:\n",
    "- Obtaining Paper title, Abstract, Body\n",
    "    - The text body is filtered to remove sections containing lots of citations and hyperlinks\n",
    "- Obtaining Authors, Journal of Publication, Publication Date and Publication Date\n",
    "- Obtaining journal ratings(H index) to potentially sort paper based on journal quality\n",
    "    - For the journal ratings, we use a list we obtained from **INSERT LINK HERE**"
   ]
  },
  {
   "cell_type": "code",
   "execution_count": null,
   "metadata": {},
   "outputs": [],
   "source": [
    "class PaperLoader():\n",
    "    \"\"\"\n",
    "    Loads, parses and merges metadata for papers\n",
    "    \"\"\"\n",
    "    \n",
    "    def __init__(self, root_dir, no_bib=True):\n",
    "        \"\"\"\n",
    "        Initializes PaperLoader class to read all .json files from root_directory\n",
    "            \n",
    "            no_bib: if true, clean noisy sections with bibliographies\n",
    "            root_dir: root directory for papers\n",
    "        \"\"\"\n",
    "        self.ROOT_DIR = root_dir\n",
    "        self.JSON_FILES = glob.glob(f'{root}/**/*.json', recursive=True)\n",
    "        self.PAPERS_COLUMN = {\n",
    "            \"doc_id\": [None],\n",
    "            \"title\": [None],\n",
    "            \"abstract\": [None],\n",
    "            \"text_body\": [None]\n",
    "        }\n",
    "        self.PAPERS_DF = None\n",
    "        self.NO_BIB = no_bib\n",
    "\n",
    "    \n",
    "    def __clean_bib(self, body_text, thres):\n",
    "        \"\"\"\n",
    "        Removes sections with more than 5 URL/DOI/HTTP instances\n",
    "            \n",
    "            body_text: array of dictionaries for text_body\n",
    "            thres: number of hyperlinks tolerated before removal \n",
    "        \"\"\"\n",
    "        # Sometimes, the text body has duplicate sections consecutively.\n",
    "        merged_body = []\n",
    "        for segment in body_text:\n",
    "            # We will combine these duplicate sections\n",
    "            if len(merged_body) > 0:\n",
    "                if merged_body[-1]['section'] == segment['section']:\n",
    "                    merged_body[-1]['text'] += '\\n' + segment['text']\n",
    "                    continue\n",
    "            merged_body.append(segment)\n",
    "\n",
    "        merged_body = [\n",
    "            segment for segment in merged_body\n",
    "            if len(re.findall(\"(http|doi|www)\", segment['text'])) <= thres\n",
    "        ]\n",
    "        return merged_body\n",
    "\n",
    "\n",
    "    def create_paper_df(self):\n",
    "        \"\"\"\n",
    "        Creates a Pandas DataFrame from all json files in root_directory\n",
    "        Each json file represents a paper. \n",
    "        Features extracted are: doc_id, title, abstract, text_body\n",
    "        \"\"\"\n",
    "        df_list = []\n",
    "        \n",
    "        for i in tqdm(range(len(self.JSON_FILES))):\n",
    "            file_name = self.JSON_FILES[i]\n",
    "            \n",
    "            #Initialize row for returned df. Each row represents a paper\n",
    "            row = {x: None for x in self.PAPERS_COLUMN}\n",
    "\n",
    "            with open(file_name) as json_data:\n",
    "                data = json.load(json_data)\n",
    "\n",
    "                row['doc_id'] = data['paper_id']\n",
    "                row['title'] = data['metadata']['title']\n",
    "                \n",
    "                # If title is empty, we skip the paper\n",
    "                if len(row['title']) <= 2:\n",
    "                    continue\n",
    "\n",
    "                # If a paper does not have an abstract of a body, we will skip it\n",
    "                if ('abstract' not in data or 'body_text' not in data):\n",
    "                    continue\n",
    "                else:\n",
    "                    # Now need all of the abstract. Put it all in\n",
    "                    # a list then use str.join() \n",
    "                    abstract_list = [abst['text'] for abst in data['abstract']]\n",
    "                    abstract = \"\\n \".join(abstract_list)\n",
    "\n",
    "                # Skip the paper if abstract is empty\n",
    "                if len(abstract) <= 2:\n",
    "                    continue\n",
    "\n",
    "                row['abstract'] = abstract\n",
    "\n",
    "                # And lastly the body of the text.\n",
    "                # These clauses check if the user wants to clean up references\n",
    "                if self.NO_BIB:\n",
    "                    body_list = self.__clean_bib(data['body_text'], 4)\n",
    "                else:\n",
    "                    body_list = [bt for bt in data['body_text']]\n",
    "\n",
    "                row['text_body'] = body_list\n",
    "\n",
    "                df_list.append(row)\n",
    "        # create final dataframe\n",
    "        self.PAPERS_DF = pd.DataFrame(df_list)\n",
    "\n",
    "\n",
    "    def merge_metadata(self, metadata = 'metadata.csv'):\n",
    "        \"\"\"\n",
    "            Joins paper information with information on journal for paper,\n",
    "            authors, doi and published date  \n",
    "                metadata: path to csv file containing metadata\n",
    "        \"\"\"\n",
    "        metadata_df = pd.read_csv(self.ROOT_DIR + metadata)\n",
    "        metadata_df = metadata_df.loc[:, \n",
    "                          ['sha', 'publish_time', 'authors', 'journal', 'doi']]\n",
    "        self.PAPERS_DF = self.PAPERS_DF.merge(metadata_df,\n",
    "                                              left_on='doc_id',\n",
    "                                              right_on='sha',\n",
    "                                              how='inner')\n",
    "\n",
    "\n",
    "    def get_df(self):\n",
    "        \"\"\"\n",
    "        Returns processed dataframe\n",
    "        \"\"\"\n",
    "        self.PAPERS_DF = self.PAPERS_DF.dropna(\n",
    "            subset=['abstract', 'text_body'])\n",
    "        return self.PAPERS_DF"
   ]
  },
  {
   "cell_type": "markdown",
   "metadata": {},
   "source": [
    "We will now parse the papers from our data(root) directory and store them in `papers_df`."
   ]
  },
  {
   "cell_type": "code",
   "execution_count": null,
   "metadata": {},
   "outputs": [],
   "source": [
    "paper_loader = PaperLoader(root)\n",
    "paper_loader.create_paper_df()\n",
    "paper_loader.merge_metadata()\n",
    "papers_df = paper_loader.get_df()"
   ]
  },
  {
   "cell_type": "code",
   "execution_count": null,
   "metadata": {},
   "outputs": [],
   "source": [
    "papers_df.head(2)"
   ]
  },
  {
   "cell_type": "code",
   "execution_count": null,
   "metadata": {},
   "outputs": [],
   "source": [
    "papers_df.shape"
   ]
  },
  {
   "cell_type": "markdown",
   "metadata": {},
   "source": [
    "## Filtering for covid-19 related papers released after 2019\n",
    "There is a lot of noise in this dataset due to information about other strains of coronavirus so we will select only the papers that are related to Covid-19. \n",
    "\n",
    "While the older papers may contain some important insight on the variance among the  different strains of coronavirus, for our purposes, we will only be looking at papers published on 2019 or later because that is when Covid-19 was first discovered in humans."
   ]
  },
  {
   "cell_type": "code",
   "execution_count": null,
   "metadata": {},
   "outputs": [],
   "source": [
    "# List of keywords for covid-19\n",
    "cov_list = [\n",
    "    'novel coronavi',\n",
    "    'covid',\n",
    "    'cov_2',\n",
    "    'cord-19',\n",
    "    'cord 19',\n",
    "    '2019-nCoV',\n",
    "    '2019 ncov',\n",
    "    '2019 cov',\n",
    "    'wuhan coronavi',\n",
    "]"
   ]
  },
  {
   "cell_type": "markdown",
   "metadata": {},
   "source": [
    "### `RelevantFilter` class will filter the dataframe from `PaperLoader` and filter for covid-19 papers published on 2019 or later. \n",
    "We will need to supply a list of covid-related keywords to filter from to the `constructor`\n"
   ]
  },
  {
   "cell_type": "code",
   "execution_count": null,
   "metadata": {},
   "outputs": [],
   "source": [
    "class RelevantFilter():\n",
    "    \n",
    "    def __init__(self, keywords, year='2019'):\n",
    "        \"\"\"\n",
    "        constructor for RelevantFilter\n",
    "            keywords: keywords to filter for\n",
    "            year: papers written before this year will be discarded\n",
    "        \"\"\"\n",
    "        self.KEYWORDS = keywords\n",
    "        self.YEAR = year\n",
    "\n",
    "    def extract_recent(self, df):\n",
    "        \"\"\"\n",
    "        extracts documents published on or after self.YEAR\n",
    "        \"\"\"\n",
    "        return df[df['publish_time'] >= self.YEAR]\n",
    "\n",
    "    def filter_papers(self, df):\n",
    "        \"\"\"\n",
    "        Filters for papers whose title have mention of \n",
    "        any of the terms in self.KEYWORDS\n",
    "        \"\"\"\n",
    "        pattern = re.compile('(' + \"|\".join(self.KEYWORDS) + ')',\n",
    "                                 re.IGNORECASE)\n",
    "        # We will filter for rows with one or more matches \n",
    "        # for title and covid keywords\n",
    "        df = df[df['title'].apply(lambda x: \n",
    "                                  len(pattern.findall(x)) >= 1\n",
    "                                  if x else False)]\n",
    "        \n",
    "        return df"
   ]
  },
  {
   "cell_type": "markdown",
   "metadata": {},
   "source": [
    "We will filter through `papers_df` to get only covid-19 related papers in `covid_df`"
   ]
  },
  {
   "cell_type": "code",
   "execution_count": null,
   "metadata": {},
   "outputs": [],
   "source": [
    "covid_filter = RelevantFilter(cov_list, '2019')\n",
    "covid_df = covid_filter.filter_papers(papers_df)\n",
    "covid_df = covid_filter.extract_recent(covid_df)"
   ]
  },
  {
   "cell_type": "code",
   "execution_count": null,
   "metadata": {},
   "outputs": [],
   "source": [
    "covid_df.shape"
   ]
  },
  {
   "cell_type": "code",
   "execution_count": null,
   "metadata": {},
   "outputs": [],
   "source": [
    "covid_df.head(1)"
   ]
  },
  {
   "cell_type": "code",
   "execution_count": null,
   "metadata": {},
   "outputs": [],
   "source": [
    "list(covid_df.head(2)['title'].values)"
   ]
  },
  {
   "cell_type": "markdown",
   "metadata": {},
   "source": [
    "<a id=\"phase1\"></a>\n",
    "## Keyword Analysis (Phase 1)"
   ]
  },
  {
   "cell_type": "markdown",
   "metadata": {},
   "source": [
    "We will now go through the papers to extract and rank excerpts that contain relevant information about risk factors for covid-19. \n",
    "We will do this through an analysis of:\n",
    "\n",
    "- Risk factors for covid-19\n",
    "- Study designs\n",
    "    - We will use this to evaluate the quality of a paper's methodologies for our rankings\n",
    "- Outcomes\n",
    "    - We will incentivise excerpts to explicitly mention outcomes that we have found researchers look for(in our interviews)\n",
    "- Fatality\n",
    "    - We have determined that information on mortality and fatality would be of high value to researcehrs, and rightly so.\n",
    "\n",
    "**Note**: The list of keywords were all obtained from a crowdsourced medical dictionary that researchers had assembled. You can find more details [here](https://docs.google.com/spreadsheets/d/1t2e3CHGxHJBiFgHeW0dfwtvCG4x0CDCzcTFX7yz9Z2E/edit#gid=1217643351)"
   ]
  },
  {
   "cell_type": "code",
   "execution_count": 380,
   "metadata": {},
   "outputs": [],
   "source": [
    "risk_factors = [{\n",
    "    'name': 'smoking',\n",
    "    'pattern': '(smoki|smoker|cigar|nicotine|cannabis|marijuana)'\n",
    "}, {\n",
    "    'name': 'diabetes',\n",
    "    'pattern': '(diabet|insulin|blood sugar|blood glucose|ketoacidosis|hyperglycemi)'\n",
    "}, {\n",
    "    'name': 'pregnancy',\n",
    "    'pattern': 'pregnan'\n",
    "}, {\n",
    "    'name': 'tuberculosis',\n",
    "    'pattern': '(tubercul|mtb|\\btb[A-Za-z0-9]\\b)'\n",
    "}, {\n",
    "    'name': 'hypertension',\n",
    "    'pattern': '(hypertension|blood pressure|hbp)'\n",
    "}, {\n",
    "    'name': 'cancer',\n",
    "    'pattern': 'cancer'\n",
    "}, {\n",
    "    'name': 'neonates',\n",
    "    'pattern': '(baby|neonate|enfant)'\n",
    "},\n",
    "    {\n",
    "    'name': 'liver disease',\n",
    "    'pattern': 'liver disease'\n",
    "},{\n",
    "    'name': 'COPD',\n",
    "    'pattern': 'COPD'\n",
    "},{\n",
    "    'name': 'pulmonary disease',\n",
    "    'pattern': 'pulm'\n",
    "},{\n",
    "    'name': 'race/ethnicity',\n",
    "    'pattern': 'ethn'\n",
    "}]"
   ]
  },
  {
   "cell_type": "code",
   "execution_count": 381,
   "metadata": {},
   "outputs": [],
   "source": [
    "design_list = [\n",
    "    'mathemat', 'profil', 'cross sectional case control',\n",
    "    'matched case control', 'contact', 'surviv', 'time to event',\n",
    "    'time-to-event', 'risk factor analysis', 'logistic regression',\n",
    "    'cross-sectional case-control', 'matched case-control',\n",
    "    'observational case series', 'time series analysis', 'survival analysis',\n",
    "    'investigati', 'model', 'outbreak', 'stochast', 'statist', 'analysi',\n",
    "    'experiment', 'excret', 'investig',\n",
    "    'retrospective cohort', 'cross-sectional case-control',\n",
    "    'cross sectional case control', 'prevalence survey', 'systematic review ',\n",
    "    'meta-analysis', 'meta analysis', 'matched case-control',\n",
    "    'matched case control', 'medical record review',\n",
    "    'observational case series', 'time series analysis',\n",
    "    'pseudo-randomized controlled', 'pseudo randomized controlled',\n",
    "    'randomized controlled', 'retrospective analysis', 'retrospective study',\n",
    "    'retrospective studies'\n",
    "]"
   ]
  },
  {
   "cell_type": "code",
   "execution_count": 382,
   "metadata": {},
   "outputs": [],
   "source": [
    "outcome_list = [\n",
    "    'risk', 'range', 'duration', 'asymptomatic', 'infecti', 'reproducti',\n",
    "    'route', 'age', 'transmm'\n",
    "    'stratifi', 'period,', 'health', 'r0', 'shedd', 'viral'\n",
    "    'period', 'incub', 'generat', 'factor', 'interval,', 'serial'\n",
    "]"
   ]
  },
  {
   "cell_type": "code",
   "execution_count": 383,
   "metadata": {},
   "outputs": [],
   "source": [
    "fatality_list = ['icu', 'fatal', 'death', 'die', 'dead', 'dying', 'mortal']"
   ]
  },
  {
   "cell_type": "markdown",
   "metadata": {},
   "source": [
    "#### The next cell will contain the default coeffecients for the algorithm's prioritization of different features. These coeffecients are a work in progress and we seek to constantly improve them with more expert feedback."
   ]
  },
  {
   "cell_type": "code",
   "execution_count": 402,
   "metadata": {},
   "outputs": [],
   "source": [
    "evaluation_weights= {\n",
    "    'risk': 5,\n",
    "    'design': 0.5,\n",
    "    'outcome': 0.5,\n",
    "    'fatality': 0.5,\n",
    "    'section': 0.5,\n",
    "    'inverse_length': 1000\n",
    "}"
   ]
  },
  {
   "cell_type": "markdown",
   "metadata": {},
   "source": [
    "### `PaperAnalyzer` class will take in a DataFrame of papers and then analyze each paper. \n",
    "The analysis is done with with its `analyze_risks()`, `analyze_designs()` and `analyze_outcomes()` methods that will analyze the risk factors, designs and outcomes respectively for excerpts in the paper. Finally, the `get_df()` method will return a new DataFrame with rankings for relevancy of excerpts. The rankings also factor in the `section` of the paper that the excerpt is from, with sections like **discussion** or **results** that seem to have pertinent, concise information ranked higher. Furthermore, these rankings are also normalized by the lenght of the excerpts\n",
    "\n",
    "*Note: These rankings for sections were determined through our interviews with epidimiologists.*"
   ]
  },
  {
   "cell_type": "markdown",
   "metadata": {},
   "source": [
    "#### Helper functions for `PaperAnalyzer` "
   ]
  },
  {
   "cell_type": "code",
   "execution_count": 403,
   "metadata": {},
   "outputs": [],
   "source": [
    "def rank_design(design_keyword):\n",
    "    \"\"\"\n",
    "    This helper function ranks study designs. So far we have\n",
    "    confirmed rankings for only three study designs, but this\n",
    "    data will be expanded and improved further with time as we \n",
    "    speak to more epidimiologists\n",
    "    \"\"\"\n",
    "    design_rankings = {\n",
    "        'meta': 10,\n",
    "        'random': 8,\n",
    "        'pseudo': 6,\n",
    "    }\n",
    "    current_ranking = -1\n",
    "    for key in design_rankings.keys():\n",
    "        if key in design_keyword.lower():\n",
    "            current_ranking = min(current_ranking, design_rankings[key])\n",
    "    \n",
    "    if current_ranking == -1:\n",
    "        current_ranking = 4\n",
    "    return current_ranking    \n",
    "\n",
    "def flatten(arr):\n",
    "    \"\"\"\n",
    "    Returns a single flat list from a list of lists\n",
    "    \"\"\"\n",
    "    return [item \n",
    "            for sublist in arr \n",
    "            for item in sublist]"
   ]
  },
  {
   "cell_type": "code",
   "execution_count": 404,
   "metadata": {},
   "outputs": [],
   "source": [
    "class PaperAnalyzer():    \n",
    "    \"\"\"\n",
    "    Takes in a dataframe of papers and sets it up for analysis\n",
    "    \"\"\"\n",
    "    # Setting up static constants\n",
    "    DEFAULT_RISKS = risk_factors\n",
    "    DEFAULT_DESIGNS = design_list\n",
    "    DEFAULT_OUTCOMES = outcome_list\n",
    "    DEFAULT_FATAL = fatality_list\n",
    "    DEFAULT_WEIGHTS = evaluation_weights\n",
    "    \n",
    "    def __init__(self, parent_df, weights = None):\n",
    "        \"\"\"\n",
    "        Explodes the passed dataframe on sections for more granular analysis\n",
    "        Sets up ranks to be updated later by methods. Client can supply their\n",
    "        own dictionary of weights for different features.\n",
    "        \"\"\"\n",
    "        # Section ratings\n",
    "        self.section_ratings = {\n",
    "                        'discus': 10,\n",
    "                        'concl': 10,\n",
    "                        'resul': 10,\n",
    "                        'analy': 9,\n",
    "                        'impli': 9,\n",
    "                        'valu': 9,\n",
    "                        'intro': 6\n",
    "                        }\n",
    "        \n",
    "        parent_df['full_text'] = parent_df['text_body'].apply(lambda x: '\\n'.join([sec['text'] for sec in x]))\n",
    "        self.df = parent_df.explode('text_body')\n",
    "        # Extracting section headers\n",
    "        self.df['section'] = self.df['text_body'].apply(lambda x: \n",
    "                                                        x['section'] \n",
    "                                                        if type(x) == dict \n",
    "                                                        else None)\n",
    "        # Extracting section texts\n",
    "        self.df['text_body'] = self.df['text_body'].apply(lambda x:\n",
    "                                                          x['text'] \n",
    "                                                          if type(x) == dict \n",
    "                                                          else None)\n",
    "        # Dropping rows where section text is empty\n",
    "        self.df = self.df[self.df['text_body'].notna()]\n",
    "        self.df['total_rank'] = 0\n",
    "        if weights:\n",
    "            self.weights = weights\n",
    "        else:\n",
    "            self.weights = PaperAnalyzer.DEFAULT_WEIGHTS\n",
    "        # TQDM is used for progress bars\n",
    "        tqdm.pandas()\n",
    "\n",
    "    def analyze_risks(self, risk_factors):\n",
    "        \"\"\"\n",
    "        Analyses papers in self.df for risk factors and returns a report df\n",
    "        with columns has_{risk_factor}?, {risk_factor}_count, \n",
    "        {risk_factor}_in_title and updates {total_rank} for each row.\n",
    "        The match_indices column is produced for ease of visualization\n",
    "        in the web app.\n",
    "        \"\"\"\n",
    "        if risk_factors == None:\n",
    "            risk_factors = PaperAnalyzer.DEFAULT_RISKS\n",
    "        \n",
    "        if type(risk_factors[0]) == dict:\n",
    "            patterns = [risk['pattern'] for risk in risk_factors]\n",
    "        elif type(risk_factors[0]) == str:\n",
    "            patterns = [risk for risk in risk_factors]\n",
    "        \n",
    "        self.df = self.df[self.df['text_body'].apply(lambda x:\n",
    "                                                    any(re.compile(pattern, re.IGNORECASE).findall(x)\n",
    "                                                       for pattern in patterns)\n",
    "                                                    )]\n",
    "        self.df['risk_factors'] = [[]] * len(self.df)\n",
    "        self.df['match_indices'] = [[]] * len(self.df)\n",
    "        for i in tqdm(range(len(risk_factors))):\n",
    "            factor = risk_factors[i]\n",
    "            if type(factor) == dict:\n",
    "                name = factor['name']\n",
    "                pattern = re.compile(factor['pattern'], re.IGNORECASE)\n",
    "            elif type(factor) == str:\n",
    "                name = factor\n",
    "                pattern = re.compile(factor, re.IGNORECASE)\n",
    "    \n",
    "            self.df['_matches'] = self.df['text_body'].apply(lambda x: \n",
    "                                                                      [(m.start(), m.group()) \n",
    "                                                                       for m in pattern.finditer(x)])\n",
    "            \n",
    "            self.df[name + '_count'] = self.df['_matches'].apply(lambda x: len(x))\n",
    "            self.df['has_' + name + '?'] = self.df[name + '_count'].apply(lambda x: x > 0)\n",
    "            self.df[name + '_in_title'] = self.df['title'].apply(lambda x:\n",
    "                                                                         len(pattern.findall(x)) > 0)\n",
    "            self.df[name + '_count'] = self.df.apply(lambda x:\n",
    "                                                             x[name + '_count'] + 10\n",
    "                                                            if x[name + '_in_title'] \n",
    "                                                             else x[name + '_count'],\n",
    "                                                            axis=1)\n",
    "            self.df['total_rank'] += self.weights['risk'] * self.df[name + '_count']\n",
    "            \n",
    "            self.df['risk_factors'] = self.df.apply(lambda x: \n",
    "                                    x['risk_factors'] + [name] if x['has_' + name + '?']\n",
    "                                    else x['risk_factors'],\n",
    "                                   axis=1)\n",
    "            self.df['match_indices'] = self.df.apply(lambda x: \n",
    "                                    x['match_indices'] + [n[0] for n in x['_matches']] if x['has_' + name + '?']\n",
    "                                    else x['match_indices'],\n",
    "                                   axis=1)\n",
    "            self.df.drop('_matches', axis=1, inplace=True)\n",
    "            \n",
    "\n",
    "    def analyze_designs(self, design_list):\n",
    "        \"\"\"\n",
    "        Analyses papers in self.df for study designs and returns a report df \n",
    "        with 'design' and 'design_rank'. 'design_rank' is decided upon from the \n",
    "        input in crowdsourced medical dictionary.\n",
    "        \"\"\"\n",
    "        if design_list == None:\n",
    "            design_list = PaperAnalyzer.DEFAULT_DESIGNS\n",
    "        self.df['design'] = self.df['text_body'].progress_apply(lambda x:\n",
    "                                                                      flatten([re.findall(des, x, re.IGNORECASE) \n",
    "                                                                       for des in design_list\n",
    "                                                                       if re.findall(des, x, re.IGNORECASE)\n",
    "                                                                      ]))\n",
    "        self.df['design_rank'] = self.df['design'].apply(lambda x:\n",
    "                                                                len(x))\n",
    "        self.df['design_rank'] += self.df['design'].apply(lambda x: rank_design(' '.join(x)))\n",
    "        self.df['total_rank'] += self.weights['design'] * self.df['design_rank']\n",
    "\n",
    "    def analyze_outcomes(self, outcomes):\n",
    "        \"\"\"\n",
    "        Analyses papers in self.df for outcomes and returns a report df \n",
    "        with 'outcomes' and 'outcome_rank'. 'outcome_rank' is decided upon \n",
    "        by the frequency of mentions of outcomes in the excerpt\n",
    "        \"\"\"\n",
    "        \n",
    "        if outcomes == None:\n",
    "            outcomes = PaperAnalyzer.DEFAULT_OUTCOMES\n",
    "        self.df['outcomes'] = self.df['text_body'].progress_apply(lambda x:\n",
    "                                                                        flatten([re.findall(outc, x, re.IGNORECASE)\n",
    "                                                                         for outc in outcomes\n",
    "                                                                         if re.findall(outc, x, re.IGNORECASE)\n",
    "                                                                        ]))\n",
    "        self.df['outcome_rank'] = self.df['outcomes'].apply(lambda x: len(x))\n",
    "        self.df['total_rank'] += self.weights['outcome']* self.df['outcome_rank']\n",
    "        \n",
    "    def analyze_fatality(self, fatality_list):\n",
    "        \"\"\"\n",
    "        Analyses papers in self.df for information on fatality \n",
    "        returns a report df with 'fatality_rank'. \n",
    "        'fatality_rank' is decided upon by the frequency of \n",
    "        mentions of fatality in the excerpt\n",
    "        \"\"\"\n",
    "        \n",
    "        if fatality_list == None:\n",
    "            fatality_list = PaperAnalyzer.DEFAULT_FATAL\n",
    "        self.df['fatality_count'] = self.df['text_body'].progress_apply(lambda x:\n",
    "                                                                        len([re.findall(key, x, re.IGNORECASE)\n",
    "                                                                         for key in fatality_list]))\n",
    "        self.df['fatal_info?'] = self.df['fatality_count'].apply(lambda x: x > 0)\n",
    "        self.df['total_rank'] += self.weights['fatality']* self.df['fatality_count']\n",
    "\n",
    "    def perform_analysis(self, risk_factors, design_list=None, outcomes=None, fatality_list = None):\n",
    "        \"\"\"\n",
    "        This function is a wrapper function that provides interface\n",
    "        to conduct analysis on all of risk factors, study designs and\n",
    "        outcomes. Users may specify their own design_list or outcomes. If not,\n",
    "        the default is used.\n",
    "        \"\"\"\n",
    "        print(\"Analyzing risks\")\n",
    "        self.analyze_risks(risk_factors)\n",
    "        print(\"Analyzing study designs\")\n",
    "        self.analyze_designs(design_list)\n",
    "        print(\"Analyzing outcomes\")\n",
    "        self.analyze_outcomes(outcomes)\n",
    "        print(\"Analyzing fatality\")\n",
    "        self.analyze_fatality(fatality_list)\n",
    "        print(\"Generating final rankings\")\n",
    "        self.generate_risk_rankings()\n",
    "\n",
    "        \n",
    "    def generate_risk_rankings(self):\n",
    "        \"\"\"\n",
    "        Appends columns in self.df that contain individual rankings for \n",
    "        each risk factor\n",
    "        \"\"\"\n",
    "        self.df['section_rank'] = self.df['section'].apply(lambda x: self.section_ratings[x] \n",
    "                                                           if x in self.section_ratings else 5)\n",
    "        # Obtaining list of risk factors\n",
    "        risk_factors = [column for column in self.df.columns if 'has_' in column]\n",
    "        risk_factors = [factor[4:-1] for factor in risk_factors]\n",
    "        for i in tqdm(range(len(risk_factors))):\n",
    "            factor = risk_factors[i]\n",
    "            self.df[factor + '_rank'] = (\n",
    "                            self.weights['risk']*self.df[factor + '_count'] + \n",
    "                            self.weights['section']*self.df['section_rank'] + \n",
    "                            self.weights['design']*self.df['design_rank'] + \n",
    "                            self.weights['outcome']*self.df['outcome_rank'] + \n",
    "                            self.weights['fatality']* self.df['fatality_count']\n",
    "            )\n",
    "            \n",
    "            # Normalizing risk rank for length of excerpts\n",
    "            self.df[factor + '_rank'] = self.df.apply(lambda x: x[factor + '_rank'] + \n",
    "                                                        (self.weights['inverse_length']/\n",
    "                                                         (len(word_tokenize(x['text_body'])))), \n",
    "                                              axis=1)\n",
    "        \n",
    "        self.df['max_rank'] = self.df[[factor + '_rank' for factor in risk_factors]].max(axis=1)\n",
    "        self.df['total_rank'] += self.weights['section'] * self.df['section_rank']\n",
    "        # Normalizing total rank for length of excerpts\n",
    "        self.df['total_rank'] = self.df.apply(lambda x: x['total_rank'] + \n",
    "                                                        (self.weights['inverse_length']/\n",
    "                                                         (len(word_tokenize(x['text_body'])))), \n",
    "                                              axis=1)\n",
    "    \n",
    "    def get_df(self, risk_factor=None):\n",
    "        \"\"\"\n",
    "        Applies section ratings, updates total ratings and returns reporting df\n",
    "            risk_factor: if specified, the returned df will only have excerpts\n",
    "                            that mention this risk factor\n",
    "        \"\"\"\n",
    "        if risk_factor:\n",
    "            if not self.__ANALYZED_RISKS:\n",
    "                raise ValueError(self.__ERROR_MESSAGE)\n",
    "            return self.df[self.df['has_' + risk_factor + '?'] == True]\n",
    "        return self.df"
   ]
  },
  {
   "cell_type": "code",
   "execution_count": 405,
   "metadata": {},
   "outputs": [],
   "source": [
    "covid_analysis = PaperAnalyzer(covid_df)"
   ]
  },
  {
   "cell_type": "code",
   "execution_count": 406,
   "metadata": {},
   "outputs": [
    {
     "data": {
      "application/vnd.jupyter.widget-view+json": {
       "model_id": "e7b56edb23154d469f91c4ddd6ee6008",
       "version_major": 2,
       "version_minor": 0
      },
      "text/plain": [
       "HBox(children=(FloatProgress(value=0.0, max=11.0), HTML(value='')))"
      ]
     },
     "metadata": {},
     "output_type": "display_data"
    },
    {
     "name": "stdout",
     "output_type": "stream",
     "text": [
      "\n"
     ]
    }
   ],
   "source": [
    "covid_analysis.analyze_risks(risk_factors)"
   ]
  },
  {
   "cell_type": "code",
   "execution_count": 407,
   "metadata": {},
   "outputs": [
    {
     "data": {
      "application/vnd.jupyter.widget-view+json": {
       "model_id": "7025658741e54397948b99e30af59810",
       "version_major": 2,
       "version_minor": 0
      },
      "text/plain": [
       "HBox(children=(FloatProgress(value=0.0, max=661.0), HTML(value='')))"
      ]
     },
     "metadata": {},
     "output_type": "display_data"
    },
    {
     "name": "stdout",
     "output_type": "stream",
     "text": [
      "\n"
     ]
    }
   ],
   "source": [
    "covid_analysis.analyze_designs(design_list)"
   ]
  },
  {
   "cell_type": "code",
   "execution_count": 408,
   "metadata": {},
   "outputs": [
    {
     "data": {
      "application/vnd.jupyter.widget-view+json": {
       "model_id": "c48870859a6c4462aa78c009acfa97d0",
       "version_major": 2,
       "version_minor": 0
      },
      "text/plain": [
       "HBox(children=(FloatProgress(value=0.0, max=661.0), HTML(value='')))"
      ]
     },
     "metadata": {},
     "output_type": "display_data"
    },
    {
     "name": "stdout",
     "output_type": "stream",
     "text": [
      "\n"
     ]
    }
   ],
   "source": [
    "covid_analysis.analyze_outcomes(outcome_list)"
   ]
  },
  {
   "cell_type": "code",
   "execution_count": 409,
   "metadata": {},
   "outputs": [
    {
     "data": {
      "application/vnd.jupyter.widget-view+json": {
       "model_id": "8812e314c6a146bfbbf8fc0638977bba",
       "version_major": 2,
       "version_minor": 0
      },
      "text/plain": [
       "HBox(children=(FloatProgress(value=0.0, max=661.0), HTML(value='')))"
      ]
     },
     "metadata": {},
     "output_type": "display_data"
    },
    {
     "name": "stdout",
     "output_type": "stream",
     "text": [
      "\n"
     ]
    }
   ],
   "source": [
    "covid_analysis.analyze_fatality(fatality_list)"
   ]
  },
  {
   "cell_type": "code",
   "execution_count": 410,
   "metadata": {},
   "outputs": [
    {
     "data": {
      "application/vnd.jupyter.widget-view+json": {
       "model_id": "48bfe68ae49a4da6b25d0d923c282360",
       "version_major": 2,
       "version_minor": 0
      },
      "text/plain": [
       "HBox(children=(FloatProgress(value=0.0, max=11.0), HTML(value='')))"
      ]
     },
     "metadata": {},
     "output_type": "display_data"
    },
    {
     "name": "stdout",
     "output_type": "stream",
     "text": [
      "\n"
     ]
    }
   ],
   "source": [
    "covid_analysis.generate_risk_rankings()"
   ]
  },
  {
   "cell_type": "code",
   "execution_count": 411,
   "metadata": {},
   "outputs": [
    {
     "data": {
      "text/plain": [
       "(661, 66)"
      ]
     },
     "execution_count": 411,
     "metadata": {},
     "output_type": "execute_result"
    }
   ],
   "source": [
    "temp = covid_analysis.get_df()\n",
    "temp.shape"
   ]
  },
  {
   "cell_type": "code",
   "execution_count": 412,
   "metadata": {},
   "outputs": [
    {
     "data": {
      "text/plain": [
       "['has_smoking?',\n",
       " 'has_diabetes?',\n",
       " 'has_pregnancy?',\n",
       " 'has_tuberculosis?',\n",
       " 'has_hypertension?',\n",
       " 'has_cancer?',\n",
       " 'has_neonates?',\n",
       " 'has_liver disease?',\n",
       " 'has_COPD?',\n",
       " 'has_pulmonary disease?',\n",
       " 'has_race/ethnicity?']"
      ]
     },
     "execution_count": 412,
     "metadata": {},
     "output_type": "execute_result"
    }
   ],
   "source": [
    "[column for column in covid_analysis.get_df().columns if \"has_\" in column]"
   ]
  },
  {
   "cell_type": "code",
   "execution_count": 423,
   "metadata": {},
   "outputs": [
    {
     "name": "stdout",
     "output_type": "stream",
     "text": [
      "Diabetes is a chronic disease, which requires frequent visits to the physician for lifestyle advice and adjustment of treatment. Telemedicine can help the patients to get in touch with their physician from the comfort of their home, and away from hospitals which could increase chances of coronavirus infections. Physicians can interact with the patient, gather history, analyze their self-monitored blood glucose charts (SMBG) and self-monitored blood pressure (SMBP) values and give advice.\n",
      "The guidelines given by MOHFW 7 suggest video mode of communication for first consult however, in our opinion the first consult for patients with diabetes should ideally be face-to-face if possible, because physical examination cannot be replaced by telemedicine unless another healthcare worker in physical proximity to the patient can relay examination findings.\n",
      "Scientific studies support the usage of telemedicine in patients of diabetes. A metaanalysis of 35 randomized controlled trials (RCTs) of telemedicine (video, phone and email) from China (involving a pooled population (n,3514) given telemedicine over 3-60 months) was done. This study showed a reduction in HbA1c by -0.37% (p <0.001) in telemedicine group when compared to controls. 11 In a Cochrane review done by Flodgren and colleagues 12 , 21 RCTs of patient with diabetes (n,2768) were analyzed. These patients had interactive telemedicine (remote monitoring or real time video) delivered in addition to, or as an alternative to, or partly substituted for standard care vs. standard care alone. This study showed that there was a reduction of HbA1c by -0.31% (p <0.001) in patients on telemedicine when compared with controls. In a recently published review of 46 studies, which included patients of type 2 diabetes mellitus (T2DM, n, 24000) and type 1 diabetes mellitus (T1DM n, 2052), different modes of telemedicine were studied. There was overall mean reduction in HbA1c in telemedicine intervention group in both T1DM (-0.12 to -0.86%) and T2DM (-0.01% to -1.13%) patients. 13 Research on telemedicine and diabetes in India is sparse. In a recently published article from our group, we have shown usage of customized mobile van with facility of telemedicine (use of computer and Skype video app to transmit retinal images to ophthalmologist and to consult with diabetes foot specialist and diabetologist at a tertiary care center) in underprivileged areas of Delhi. In this study, we showed success in screening and managing diabetes using telemedicine. 14\n"
     ]
    }
   ],
   "source": [
    "temp = temp.sort_values(by='diabetes_rank', ascending=False).reset_index(drop=True)\n",
    "#temp['design']\n",
    "print(temp.loc[:,['title','text_body','diabetes_rank']].iloc[2]['text_body'])"
   ]
  },
  {
   "cell_type": "code",
   "execution_count": 433,
   "metadata": {},
   "outputs": [
    {
     "data": {
      "text/html": [
       "<div>\n",
       "<style scoped>\n",
       "    .dataframe tbody tr th:only-of-type {\n",
       "        vertical-align: middle;\n",
       "    }\n",
       "\n",
       "    .dataframe tbody tr th {\n",
       "        vertical-align: top;\n",
       "    }\n",
       "\n",
       "    .dataframe thead th {\n",
       "        text-align: right;\n",
       "    }\n",
       "</style>\n",
       "<table border=\"1\" class=\"dataframe\">\n",
       "  <thead>\n",
       "    <tr style=\"text-align: right;\">\n",
       "      <th></th>\n",
       "      <th>title</th>\n",
       "      <th>doi</th>\n",
       "      <th>publish_time</th>\n",
       "      <th>design</th>\n",
       "      <th>excerpt</th>\n",
       "    </tr>\n",
       "  </thead>\n",
       "  <tbody>\n",
       "    <tr>\n",
       "      <th>0</th>\n",
       "      <td>Bulk and single-cell transcriptomics identify ...</td>\n",
       "      <td>10.1101/2020.02.05.20020107</td>\n",
       "      <td>2020-02-11</td>\n",
       "      <td>[statist, statist, analysi, analysi, analysi, ...</td>\n",
       "      <td>We found a significant higher ACE2 gene expres...</td>\n",
       "    </tr>\n",
       "    <tr>\n",
       "      <th>1</th>\n",
       "      <td>Prevalence, Severity and Mortality associated ...</td>\n",
       "      <td>10.1101/2020.03.25.20043745</td>\n",
       "      <td>2020-03-27</td>\n",
       "      <td>[model, analysi, investig, systematic review ,...</td>\n",
       "      <td>unknown, and undoubtedly more research is need...</td>\n",
       "    </tr>\n",
       "    <tr>\n",
       "      <th>2</th>\n",
       "      <td>Bulk and single-cell transcriptomics identify ...</td>\n",
       "      <td>10.1101/2020.02.05.20020107</td>\n",
       "      <td>2020-02-11</td>\n",
       "      <td>[model, model, model, analysi, analysi]</td>\n",
       "      <td>Duclos G et.al. studied human bronchial epithe...</td>\n",
       "    </tr>\n",
       "    <tr>\n",
       "      <th>3</th>\n",
       "      <td>Bulk and single-cell transcriptomics identify ...</td>\n",
       "      <td>10.1101/2020.02.05.20020107</td>\n",
       "      <td>2020-02-11</td>\n",
       "      <td>[model, statist, investig]</td>\n",
       "      <td>In this study, we investigated the disparities...</td>\n",
       "    </tr>\n",
       "    <tr>\n",
       "      <th>4</th>\n",
       "      <td>Prevalence, Severity and Mortality associated ...</td>\n",
       "      <td>10.1101/2020.03.25.20043745</td>\n",
       "      <td>2020-03-27</td>\n",
       "      <td>[]</td>\n",
       "      <td>The pooled prevalence of COVID-19 patients who...</td>\n",
       "    </tr>\n",
       "  </tbody>\n",
       "</table>\n",
       "</div>"
      ],
      "text/plain": [
       "                                               title  \\\n",
       "0  Bulk and single-cell transcriptomics identify ...   \n",
       "1  Prevalence, Severity and Mortality associated ...   \n",
       "2  Bulk and single-cell transcriptomics identify ...   \n",
       "3  Bulk and single-cell transcriptomics identify ...   \n",
       "4  Prevalence, Severity and Mortality associated ...   \n",
       "\n",
       "                           doi publish_time  \\\n",
       "0  10.1101/2020.02.05.20020107   2020-02-11   \n",
       "1  10.1101/2020.03.25.20043745   2020-03-27   \n",
       "2  10.1101/2020.02.05.20020107   2020-02-11   \n",
       "3  10.1101/2020.02.05.20020107   2020-02-11   \n",
       "4  10.1101/2020.03.25.20043745   2020-03-27   \n",
       "\n",
       "                                              design  \\\n",
       "0  [statist, statist, analysi, analysi, analysi, ...   \n",
       "1  [model, analysi, investig, systematic review ,...   \n",
       "2            [model, model, model, analysi, analysi]   \n",
       "3                         [model, statist, investig]   \n",
       "4                                                 []   \n",
       "\n",
       "                                             excerpt  \n",
       "0  We found a significant higher ACE2 gene expres...  \n",
       "1  unknown, and undoubtedly more research is need...  \n",
       "2  Duclos G et.al. studied human bronchial epithe...  \n",
       "3  In this study, we investigated the disparities...  \n",
       "4  The pooled prevalence of COVID-19 patients who...  "
      ]
     },
     "execution_count": 433,
     "metadata": {},
     "output_type": "execute_result"
    }
   ],
   "source": [
    "# There are some papers that appear more than once. This is because we rank excerpts within papers, and could simply mean that two different excerpts within the same paper were ranked high in relevance by our algorithm.\n",
    "smoking_df = enriched_covid_df.sort_values(by='smoking_rank', ascending=False).loc[:,['title','doi','publish_time','design','text_body']].reset_index(drop=True).rename(columns={'text_body':'excerpt'})\n",
    "#smoking_df.to_csv('smoking_risk_analysis.csv')\n",
    "smoking_df.head()"
   ]
  },
  {
   "cell_type": "code",
   "execution_count": 443,
   "metadata": {},
   "outputs": [
    {
     "data": {
      "text/html": [
       "<div>\n",
       "<style scoped>\n",
       "    .dataframe tbody tr th:only-of-type {\n",
       "        vertical-align: middle;\n",
       "    }\n",
       "\n",
       "    .dataframe tbody tr th {\n",
       "        vertical-align: top;\n",
       "    }\n",
       "\n",
       "    .dataframe thead th {\n",
       "        text-align: right;\n",
       "    }\n",
       "</style>\n",
       "<table border=\"1\" class=\"dataframe\">\n",
       "  <thead>\n",
       "    <tr style=\"text-align: right;\">\n",
       "      <th></th>\n",
       "      <th>title</th>\n",
       "      <th>doi</th>\n",
       "      <th>publish_time</th>\n",
       "      <th>design</th>\n",
       "      <th>excerpt</th>\n",
       "    </tr>\n",
       "  </thead>\n",
       "  <tbody>\n",
       "    <tr>\n",
       "      <th>0</th>\n",
       "      <td>Bulk and single-cell transcriptomics identify ...</td>\n",
       "      <td>10.1101/2020.02.05.20020107</td>\n",
       "      <td>2020-02-11</td>\n",
       "      <td>[statist, statist, analysi, analysi, analysi, ...</td>\n",
       "      <td>We found a significant higher ACE2 gene expres...</td>\n",
       "    </tr>\n",
       "    <tr>\n",
       "      <th>1</th>\n",
       "      <td>Prevalence, Severity and Mortality associated ...</td>\n",
       "      <td>10.1101/2020.03.25.20043745</td>\n",
       "      <td>2020-03-27</td>\n",
       "      <td>[model, analysi, investig, systematic review ,...</td>\n",
       "      <td>unknown, and undoubtedly more research is need...</td>\n",
       "    </tr>\n",
       "    <tr>\n",
       "      <th>6</th>\n",
       "      <td>): e35 REVIEW ARTICLE A. Prevalence of Underly...</td>\n",
       "      <td>NaN</td>\n",
       "      <td>2020-03-24</td>\n",
       "      <td>[contact, contact, contact, contact, model, ou...</td>\n",
       "      <td>China and the rest of the world have faced an ...</td>\n",
       "    </tr>\n",
       "    <tr>\n",
       "      <th>7</th>\n",
       "      <td>Articles Clinical and epidemiological features...</td>\n",
       "      <td>10.1016/s1473-3099(20)30198-5</td>\n",
       "      <td>2020-03-25</td>\n",
       "      <td>[]</td>\n",
       "      <td>Pulmonary ground-glass opacities 6 (60%) 13 (5...</td>\n",
       "    </tr>\n",
       "    <tr>\n",
       "      <th>15</th>\n",
       "      <td>The COVID-19 pandemic and the use of MS diseas...</td>\n",
       "      <td>10.1016/j.msard.2020.102073</td>\n",
       "      <td>2020-03-27</td>\n",
       "      <td>[profil, profil, contact, contact, analysi]</td>\n",
       "      <td>It is clear that COVID-19 is a pandemic and gl...</td>\n",
       "    </tr>\n",
       "  </tbody>\n",
       "</table>\n",
       "</div>"
      ],
      "text/plain": [
       "                                                title  \\\n",
       "0   Bulk and single-cell transcriptomics identify ...   \n",
       "1   Prevalence, Severity and Mortality associated ...   \n",
       "6   ): e35 REVIEW ARTICLE A. Prevalence of Underly...   \n",
       "7   Articles Clinical and epidemiological features...   \n",
       "15  The COVID-19 pandemic and the use of MS diseas...   \n",
       "\n",
       "                              doi publish_time  \\\n",
       "0     10.1101/2020.02.05.20020107   2020-02-11   \n",
       "1     10.1101/2020.03.25.20043745   2020-03-27   \n",
       "6                             NaN   2020-03-24   \n",
       "7   10.1016/s1473-3099(20)30198-5   2020-03-25   \n",
       "15    10.1016/j.msard.2020.102073   2020-03-27   \n",
       "\n",
       "                                               design  \\\n",
       "0   [statist, statist, analysi, analysi, analysi, ...   \n",
       "1   [model, analysi, investig, systematic review ,...   \n",
       "6   [contact, contact, contact, contact, model, ou...   \n",
       "7                                                  []   \n",
       "15        [profil, profil, contact, contact, analysi]   \n",
       "\n",
       "                                              excerpt  \n",
       "0   We found a significant higher ACE2 gene expres...  \n",
       "1   unknown, and undoubtedly more research is need...  \n",
       "6   China and the rest of the world have faced an ...  \n",
       "7   Pulmonary ground-glass opacities 6 (60%) 13 (5...  \n",
       "15  It is clear that COVID-19 is a pandemic and gl...  "
      ]
     },
     "execution_count": 443,
     "metadata": {},
     "output_type": "execute_result"
    }
   ],
   "source": [
    "# Here is a title-deduplicated version of the previous dataframe\n",
    "# Each paper will only appear once with its highest rated excerpt\n",
    "smoking_df.drop_duplicates('title', keep='first').reset_index(drop=True).head()"
   ]
  },
  {
   "cell_type": "code",
   "execution_count": 445,
   "metadata": {},
   "outputs": [],
   "source": [
    "diabetes_df = enriched_covid_df.sort_values(by='diabetes_rank', ascending=False).loc[:,['title','doi','publish_time','design','text_body']].reset_index(drop=True).rename(columns={'text_body':'excerpt'})\n",
    "#diabetes_df.to_csv('smoking_risk_analysis.csv')"
   ]
  },
  {
   "cell_type": "code",
   "execution_count": 447,
   "metadata": {},
   "outputs": [
    {
     "data": {
      "text/html": [
       "<div>\n",
       "<style scoped>\n",
       "    .dataframe tbody tr th:only-of-type {\n",
       "        vertical-align: middle;\n",
       "    }\n",
       "\n",
       "    .dataframe tbody tr th {\n",
       "        vertical-align: top;\n",
       "    }\n",
       "\n",
       "    .dataframe thead th {\n",
       "        text-align: right;\n",
       "    }\n",
       "</style>\n",
       "<table border=\"1\" class=\"dataframe\">\n",
       "  <thead>\n",
       "    <tr style=\"text-align: right;\">\n",
       "      <th></th>\n",
       "      <th>title</th>\n",
       "      <th>doi</th>\n",
       "      <th>publish_time</th>\n",
       "      <th>design</th>\n",
       "      <th>excerpt</th>\n",
       "    </tr>\n",
       "  </thead>\n",
       "  <tbody>\n",
       "    <tr>\n",
       "      <th>0</th>\n",
       "      <td>Comorbid Diabetes Mellitus was Associated with...</td>\n",
       "      <td>10.1101/2020.03.24.20042358</td>\n",
       "      <td>2020-03-26</td>\n",
       "      <td>[model, investig, retrospective cohort]</td>\n",
       "      <td>In this retrospective cohort study, we charact...</td>\n",
       "    </tr>\n",
       "    <tr>\n",
       "      <th>2</th>\n",
       "      <td>Journal Pre-proof Telemedicine for Diabetes Ca...</td>\n",
       "      <td>10.1016/j.dsx.2020.04.001</td>\n",
       "      <td>2020-04-04</td>\n",
       "      <td>[analysi, randomized controlled]</td>\n",
       "      <td>Diabetes is a chronic disease, which requires ...</td>\n",
       "    </tr>\n",
       "    <tr>\n",
       "      <th>5</th>\n",
       "      <td>Exploring diseases/traits and blood proteins c...</td>\n",
       "      <td>10.1101/2020.03.04.20031237</td>\n",
       "      <td>2020-03-08</td>\n",
       "      <td>[statist, analysi, analysi, analysi, analysi, ...</td>\n",
       "      <td>Remarkably, a number of top-ranked results wer...</td>\n",
       "    </tr>\n",
       "    <tr>\n",
       "      <th>8</th>\n",
       "      <td>Articles Clinical and epidemiological features...</td>\n",
       "      <td>10.1016/s1473-3099(20)30198-5</td>\n",
       "      <td>2020-03-25</td>\n",
       "      <td>[]</td>\n",
       "      <td>Pulmonary ground-glass opacities 6 (60%) 13 (5...</td>\n",
       "    </tr>\n",
       "    <tr>\n",
       "      <th>17</th>\n",
       "      <td>Acute liver injury and its association with de...</td>\n",
       "      <td>10.1101/2020.04.02.20050997</td>\n",
       "      <td>2020-04-06</td>\n",
       "      <td>[logistic regression, analysi, investig]</td>\n",
       "      <td>The present study aimed to analyze SARS-CoV-2-...</td>\n",
       "    </tr>\n",
       "  </tbody>\n",
       "</table>\n",
       "</div>"
      ],
      "text/plain": [
       "                                                title  \\\n",
       "0   Comorbid Diabetes Mellitus was Associated with...   \n",
       "2   Journal Pre-proof Telemedicine for Diabetes Ca...   \n",
       "5   Exploring diseases/traits and blood proteins c...   \n",
       "8   Articles Clinical and epidemiological features...   \n",
       "17  Acute liver injury and its association with de...   \n",
       "\n",
       "                              doi publish_time  \\\n",
       "0     10.1101/2020.03.24.20042358   2020-03-26   \n",
       "2       10.1016/j.dsx.2020.04.001   2020-04-04   \n",
       "5     10.1101/2020.03.04.20031237   2020-03-08   \n",
       "8   10.1016/s1473-3099(20)30198-5   2020-03-25   \n",
       "17    10.1101/2020.04.02.20050997   2020-04-06   \n",
       "\n",
       "                                               design  \\\n",
       "0             [model, investig, retrospective cohort]   \n",
       "2                    [analysi, randomized controlled]   \n",
       "5   [statist, analysi, analysi, analysi, analysi, ...   \n",
       "8                                                  []   \n",
       "17           [logistic regression, analysi, investig]   \n",
       "\n",
       "                                              excerpt  \n",
       "0   In this retrospective cohort study, we charact...  \n",
       "2   Diabetes is a chronic disease, which requires ...  \n",
       "5   Remarkably, a number of top-ranked results wer...  \n",
       "8   Pulmonary ground-glass opacities 6 (60%) 13 (5...  \n",
       "17  The present study aimed to analyze SARS-CoV-2-...  "
      ]
     },
     "execution_count": 447,
     "metadata": {},
     "output_type": "execute_result"
    }
   ],
   "source": [
    "# Each paper will only appear once with its highest rated excerpt\n",
    "diabetes_df.drop_duplicates('title', keep='first').reset_index(drop=True).head()"
   ]
  },
  {
   "cell_type": "code",
   "execution_count": 448,
   "metadata": {},
   "outputs": [],
   "source": [
    "pregnancy_df = enriched_covid_df.sort_values(by='pregnancy_rank', ascending=False).loc[:,['title','doi','publish_time','design','text_body']].reset_index(drop=True).rename(columns={'text_body':'excerpt'})\n",
    "#pregnancy_df.to_csv('smoking_risk_analysis.csv')"
   ]
  },
  {
   "cell_type": "code",
   "execution_count": 450,
   "metadata": {},
   "outputs": [
    {
     "data": {
      "text/html": [
       "<div>\n",
       "<style scoped>\n",
       "    .dataframe tbody tr th:only-of-type {\n",
       "        vertical-align: middle;\n",
       "    }\n",
       "\n",
       "    .dataframe tbody tr th {\n",
       "        vertical-align: top;\n",
       "    }\n",
       "\n",
       "    .dataframe thead th {\n",
       "        text-align: right;\n",
       "    }\n",
       "</style>\n",
       "<table border=\"1\" class=\"dataframe\">\n",
       "  <thead>\n",
       "    <tr style=\"text-align: right;\">\n",
       "      <th></th>\n",
       "      <th>title</th>\n",
       "      <th>doi</th>\n",
       "      <th>publish_time</th>\n",
       "      <th>design</th>\n",
       "      <th>excerpt</th>\n",
       "    </tr>\n",
       "  </thead>\n",
       "  <tbody>\n",
       "    <tr>\n",
       "      <th>0</th>\n",
       "      <td>Comorbid Diabetes Mellitus was Associated with...</td>\n",
       "      <td>10.1101/2020.03.24.20042358</td>\n",
       "      <td>2020-03-26</td>\n",
       "      <td>[model, investig, retrospective cohort]</td>\n",
       "      <td>In this retrospective cohort study, we charact...</td>\n",
       "    </tr>\n",
       "    <tr>\n",
       "      <th>2</th>\n",
       "      <td>Journal Pre-proof Telemedicine for Diabetes Ca...</td>\n",
       "      <td>10.1016/j.dsx.2020.04.001</td>\n",
       "      <td>2020-04-04</td>\n",
       "      <td>[analysi, randomized controlled]</td>\n",
       "      <td>Diabetes is a chronic disease, which requires ...</td>\n",
       "    </tr>\n",
       "    <tr>\n",
       "      <th>5</th>\n",
       "      <td>Exploring diseases/traits and blood proteins c...</td>\n",
       "      <td>10.1101/2020.03.04.20031237</td>\n",
       "      <td>2020-03-08</td>\n",
       "      <td>[statist, analysi, analysi, analysi, analysi, ...</td>\n",
       "      <td>Remarkably, a number of top-ranked results wer...</td>\n",
       "    </tr>\n",
       "    <tr>\n",
       "      <th>8</th>\n",
       "      <td>Articles Clinical and epidemiological features...</td>\n",
       "      <td>10.1016/s1473-3099(20)30198-5</td>\n",
       "      <td>2020-03-25</td>\n",
       "      <td>[]</td>\n",
       "      <td>Pulmonary ground-glass opacities 6 (60%) 13 (5...</td>\n",
       "    </tr>\n",
       "    <tr>\n",
       "      <th>17</th>\n",
       "      <td>Acute liver injury and its association with de...</td>\n",
       "      <td>10.1101/2020.04.02.20050997</td>\n",
       "      <td>2020-04-06</td>\n",
       "      <td>[logistic regression, analysi, investig]</td>\n",
       "      <td>The present study aimed to analyze SARS-CoV-2-...</td>\n",
       "    </tr>\n",
       "  </tbody>\n",
       "</table>\n",
       "</div>"
      ],
      "text/plain": [
       "                                                title  \\\n",
       "0   Comorbid Diabetes Mellitus was Associated with...   \n",
       "2   Journal Pre-proof Telemedicine for Diabetes Ca...   \n",
       "5   Exploring diseases/traits and blood proteins c...   \n",
       "8   Articles Clinical and epidemiological features...   \n",
       "17  Acute liver injury and its association with de...   \n",
       "\n",
       "                              doi publish_time  \\\n",
       "0     10.1101/2020.03.24.20042358   2020-03-26   \n",
       "2       10.1016/j.dsx.2020.04.001   2020-04-04   \n",
       "5     10.1101/2020.03.04.20031237   2020-03-08   \n",
       "8   10.1016/s1473-3099(20)30198-5   2020-03-25   \n",
       "17    10.1101/2020.04.02.20050997   2020-04-06   \n",
       "\n",
       "                                               design  \\\n",
       "0             [model, investig, retrospective cohort]   \n",
       "2                    [analysi, randomized controlled]   \n",
       "5   [statist, analysi, analysi, analysi, analysi, ...   \n",
       "8                                                  []   \n",
       "17           [logistic regression, analysi, investig]   \n",
       "\n",
       "                                              excerpt  \n",
       "0   In this retrospective cohort study, we charact...  \n",
       "2   Diabetes is a chronic disease, which requires ...  \n",
       "5   Remarkably, a number of top-ranked results wer...  \n",
       "8   Pulmonary ground-glass opacities 6 (60%) 13 (5...  \n",
       "17  The present study aimed to analyze SARS-CoV-2-...  "
      ]
     },
     "execution_count": 450,
     "metadata": {},
     "output_type": "execute_result"
    }
   ],
   "source": [
    "# Each paper will only appear once with its highest rated excerpt\n",
    "diabetes_df.drop_duplicates('title', keep='first').reset_index(drop=True).head()"
   ]
  },
  {
   "cell_type": "code",
   "execution_count": 451,
   "metadata": {},
   "outputs": [],
   "source": [
    "hypertension_df = enriched_covid_df.sort_values(by='hypertension_rank', ascending=False).loc[:,['title','doi','publish_time','design','text_body']].reset_index(drop=True).rename(columns={'text_body':'excerpt'})\n",
    "#hypertension_df.to_csv('smoking_risk_analysis.csv')"
   ]
  },
  {
   "cell_type": "code",
   "execution_count": 452,
   "metadata": {},
   "outputs": [
    {
     "data": {
      "text/html": [
       "<div>\n",
       "<style scoped>\n",
       "    .dataframe tbody tr th:only-of-type {\n",
       "        vertical-align: middle;\n",
       "    }\n",
       "\n",
       "    .dataframe tbody tr th {\n",
       "        vertical-align: top;\n",
       "    }\n",
       "\n",
       "    .dataframe thead th {\n",
       "        text-align: right;\n",
       "    }\n",
       "</style>\n",
       "<table border=\"1\" class=\"dataframe\">\n",
       "  <thead>\n",
       "    <tr style=\"text-align: right;\">\n",
       "      <th></th>\n",
       "      <th>title</th>\n",
       "      <th>doi</th>\n",
       "      <th>publish_time</th>\n",
       "      <th>design</th>\n",
       "      <th>excerpt</th>\n",
       "    </tr>\n",
       "  </thead>\n",
       "  <tbody>\n",
       "    <tr>\n",
       "      <th>0</th>\n",
       "      <td>Angiotensin II Receptor Blockers and Angiotens...</td>\n",
       "      <td>10.1101/2020.03.31.20038935</td>\n",
       "      <td>2020-04-04</td>\n",
       "      <td>[]</td>\n",
       "      <td>After the initial screen, 462 COVID-2019 patie...</td>\n",
       "    </tr>\n",
       "    <tr>\n",
       "      <th>5</th>\n",
       "      <td>Articles Clinical and epidemiological features...</td>\n",
       "      <td>10.1016/s1473-3099(20)30198-5</td>\n",
       "      <td>2020-03-25</td>\n",
       "      <td>[]</td>\n",
       "      <td>Pulmonary ground-glass opacities 6 (60%) 13 (5...</td>\n",
       "    </tr>\n",
       "    <tr>\n",
       "      <th>7</th>\n",
       "      <td>The COVID-19 pandemic and the use of MS diseas...</td>\n",
       "      <td>10.1016/j.msard.2020.102073</td>\n",
       "      <td>2020-03-27</td>\n",
       "      <td>[profil, profil, contact, contact, analysi]</td>\n",
       "      <td>It is clear that COVID-19 is a pandemic and gl...</td>\n",
       "    </tr>\n",
       "    <tr>\n",
       "      <th>8</th>\n",
       "      <td>Acute liver injury and its association with de...</td>\n",
       "      <td>10.1101/2020.04.02.20050997</td>\n",
       "      <td>2020-04-06</td>\n",
       "      <td>[logistic regression, analysi, investig]</td>\n",
       "      <td>The present study aimed to analyze SARS-CoV-2-...</td>\n",
       "    </tr>\n",
       "    <tr>\n",
       "      <th>9</th>\n",
       "      <td>Comorbid Diabetes Mellitus was Associated with...</td>\n",
       "      <td>10.1101/2020.03.24.20042358</td>\n",
       "      <td>2020-03-26</td>\n",
       "      <td>[model]</td>\n",
       "      <td>To further assess the association of diabetes ...</td>\n",
       "    </tr>\n",
       "  </tbody>\n",
       "</table>\n",
       "</div>"
      ],
      "text/plain": [
       "                                               title  \\\n",
       "0  Angiotensin II Receptor Blockers and Angiotens...   \n",
       "5  Articles Clinical and epidemiological features...   \n",
       "7  The COVID-19 pandemic and the use of MS diseas...   \n",
       "8  Acute liver injury and its association with de...   \n",
       "9  Comorbid Diabetes Mellitus was Associated with...   \n",
       "\n",
       "                             doi publish_time  \\\n",
       "0    10.1101/2020.03.31.20038935   2020-04-04   \n",
       "5  10.1016/s1473-3099(20)30198-5   2020-03-25   \n",
       "7    10.1016/j.msard.2020.102073   2020-03-27   \n",
       "8    10.1101/2020.04.02.20050997   2020-04-06   \n",
       "9    10.1101/2020.03.24.20042358   2020-03-26   \n",
       "\n",
       "                                        design  \\\n",
       "0                                           []   \n",
       "5                                           []   \n",
       "7  [profil, profil, contact, contact, analysi]   \n",
       "8     [logistic regression, analysi, investig]   \n",
       "9                                      [model]   \n",
       "\n",
       "                                             excerpt  \n",
       "0  After the initial screen, 462 COVID-2019 patie...  \n",
       "5  Pulmonary ground-glass opacities 6 (60%) 13 (5...  \n",
       "7  It is clear that COVID-19 is a pandemic and gl...  \n",
       "8  The present study aimed to analyze SARS-CoV-2-...  \n",
       "9  To further assess the association of diabetes ...  "
      ]
     },
     "execution_count": 452,
     "metadata": {},
     "output_type": "execute_result"
    }
   ],
   "source": [
    "# Each paper will only appear once with its highest rated excerpt\n",
    "hypertension_df.drop_duplicates('title', keep='first').reset_index(drop=True).head()"
   ]
  },
  {
   "cell_type": "code",
   "execution_count": 453,
   "metadata": {},
   "outputs": [],
   "source": [
    "tuberculosis_df = enriched_covid_df.sort_values(by='tuberculosis_rank', ascending=False).loc[:,['title','doi','publish_time','design','text_body']].reset_index(drop=True).rename(columns={'text_body':'excerpt'})\n",
    "#tuberculosis_df.to_csv('smoking_risk_analysis.csv')"
   ]
  },
  {
   "cell_type": "code",
   "execution_count": 456,
   "metadata": {},
   "outputs": [
    {
     "data": {
      "text/html": [
       "<div>\n",
       "<style scoped>\n",
       "    .dataframe tbody tr th:only-of-type {\n",
       "        vertical-align: middle;\n",
       "    }\n",
       "\n",
       "    .dataframe tbody tr th {\n",
       "        vertical-align: top;\n",
       "    }\n",
       "\n",
       "    .dataframe thead th {\n",
       "        text-align: right;\n",
       "    }\n",
       "</style>\n",
       "<table border=\"1\" class=\"dataframe\">\n",
       "  <thead>\n",
       "    <tr style=\"text-align: right;\">\n",
       "      <th></th>\n",
       "      <th>title</th>\n",
       "      <th>doi</th>\n",
       "      <th>publish_time</th>\n",
       "      <th>design</th>\n",
       "      <th>excerpt</th>\n",
       "    </tr>\n",
       "  </thead>\n",
       "  <tbody>\n",
       "    <tr>\n",
       "      <th>0</th>\n",
       "      <td>Active or latent tuberculosis increases suscep...</td>\n",
       "      <td>10.1101/2020.03.10.20033795</td>\n",
       "      <td>2020-03-16</td>\n",
       "      <td>[]</td>\n",
       "      <td>The copyright holder for this preprint . https...</td>\n",
       "    </tr>\n",
       "    <tr>\n",
       "      <th>1</th>\n",
       "      <td>Articles Clinical and epidemiological features...</td>\n",
       "      <td>10.1016/s1473-3099(20)30198-5</td>\n",
       "      <td>2020-03-25</td>\n",
       "      <td>[]</td>\n",
       "      <td>Pulmonary ground-glass opacities 6 (60%) 13 (5...</td>\n",
       "    </tr>\n",
       "    <tr>\n",
       "      <th>2</th>\n",
       "      <td>Comorbid Diabetes Mellitus was Associated with...</td>\n",
       "      <td>10.1101/2020.03.24.20042358</td>\n",
       "      <td>2020-03-26</td>\n",
       "      <td>[model]</td>\n",
       "      <td>To further assess the association of diabetes ...</td>\n",
       "    </tr>\n",
       "    <tr>\n",
       "      <th>3</th>\n",
       "      <td>The COVID-19 pandemic and the use of MS diseas...</td>\n",
       "      <td>10.1016/j.msard.2020.102073</td>\n",
       "      <td>2020-03-27</td>\n",
       "      <td>[profil, profil, contact, contact, analysi]</td>\n",
       "      <td>It is clear that COVID-19 is a pandemic and gl...</td>\n",
       "    </tr>\n",
       "    <tr>\n",
       "      <th>4</th>\n",
       "      <td>viruses Perspective Potential Maternal and Inf...</td>\n",
       "      <td>10.3390/v12020194</td>\n",
       "      <td>2020</td>\n",
       "      <td>[outbreak]</td>\n",
       "      <td>At times of SARS outbreaks, all pregnant patie...</td>\n",
       "    </tr>\n",
       "  </tbody>\n",
       "</table>\n",
       "</div>"
      ],
      "text/plain": [
       "                                               title  \\\n",
       "0  Active or latent tuberculosis increases suscep...   \n",
       "1  Articles Clinical and epidemiological features...   \n",
       "2  Comorbid Diabetes Mellitus was Associated with...   \n",
       "3  The COVID-19 pandemic and the use of MS diseas...   \n",
       "4  viruses Perspective Potential Maternal and Inf...   \n",
       "\n",
       "                             doi publish_time  \\\n",
       "0    10.1101/2020.03.10.20033795   2020-03-16   \n",
       "1  10.1016/s1473-3099(20)30198-5   2020-03-25   \n",
       "2    10.1101/2020.03.24.20042358   2020-03-26   \n",
       "3    10.1016/j.msard.2020.102073   2020-03-27   \n",
       "4              10.3390/v12020194         2020   \n",
       "\n",
       "                                        design  \\\n",
       "0                                           []   \n",
       "1                                           []   \n",
       "2                                      [model]   \n",
       "3  [profil, profil, contact, contact, analysi]   \n",
       "4                                   [outbreak]   \n",
       "\n",
       "                                             excerpt  \n",
       "0  The copyright holder for this preprint . https...  \n",
       "1  Pulmonary ground-glass opacities 6 (60%) 13 (5...  \n",
       "2  To further assess the association of diabetes ...  \n",
       "3  It is clear that COVID-19 is a pandemic and gl...  \n",
       "4  At times of SARS outbreaks, all pregnant patie...  "
      ]
     },
     "execution_count": 456,
     "metadata": {},
     "output_type": "execute_result"
    }
   ],
   "source": [
    "# Each paper will only appear once with its highest rated excerpt\n",
    "tuberculosis_df.drop_duplicates('title', keep='first').reset_index(drop=True).head()"
   ]
  },
  {
   "cell_type": "code",
   "execution_count": 414,
   "metadata": {},
   "outputs": [],
   "source": [
    "enriched_covid_df = covid_analysis.get_df()"
   ]
  },
  {
   "cell_type": "code",
   "execution_count": 397,
   "metadata": {},
   "outputs": [
    {
     "data": {
      "text/plain": [
       "(661, 66)"
      ]
     },
     "execution_count": 397,
     "metadata": {},
     "output_type": "execute_result"
    }
   ],
   "source": [
    "enriched_covid_df.shape"
   ]
  },
  {
   "cell_type": "code",
   "execution_count": 225,
   "metadata": {},
   "outputs": [],
   "source": [
    "#enriched_covid_df.sort_values(by='smoking_rank', ascending=False).iloc[0]['text_body']"
   ]
  },
  {
   "cell_type": "code",
   "execution_count": 22,
   "metadata": {},
   "outputs": [],
   "source": [
    "enriched_covid_df.to_json(\"../../enriched_covid_df.json\", orient='records')\n",
    "enriched_covid_df.to_csv(\"../../enriched_covid_df.csv\")"
   ]
  },
  {
   "cell_type": "markdown",
   "metadata": {},
   "source": [
    "#### This marks the end of phase 1. The resulting dataframe will be stored as a json to be served by the web app."
   ]
  },
  {
   "cell_type": "markdown",
   "metadata": {},
   "source": [
    "<a id=\"phase2\"></a>\n",
    "## Question Search (Phase 2)\n",
    "We will extend the capabilities from the `PaperAnalyzer` class and attempt to answer some questions."
   ]
  },
  {
   "cell_type": "markdown",
   "metadata": {},
   "source": [
    "### The `Question` class will decompose and resolve a question about risk factors.\n",
    "The result will then be piped to an instance of `PaperAnalyzer` to conduct similar analysis. Users will be able to specify their own list of outcomes. If not specified, the default set of outcomes will be used."
   ]
  },
  {
   "cell_type": "code",
   "execution_count": 23,
   "metadata": {},
   "outputs": [],
   "source": [
    "class Question():\n",
    "    \"\"\"\n",
    "    The purpose of this class is to resolve a question for \n",
    "    keyword searching\n",
    "    \"\"\"\n",
    "    def __init__(self, question, design_list=None, outcomes=None):\n",
    "        \"\"\"\n",
    "        The constuctor does most of the method-calling for question resolution\n",
    "        \"\"\"\n",
    "        self.DESIGN_LIST = design_list\n",
    "        self.OUTCOMES = outcomes\n",
    "        self.RISK = question\n",
    "        self.risk_factors = None\n",
    "        self.design_list = None\n",
    "        self.outcome_list = None\n",
    "        self.__resolve_question()\n",
    "        if design_list:\n",
    "            self.__resolve_design()\n",
    "        if outcomes:\n",
    "            self.__resolve_outcomes()\n",
    "\n",
    "    def __question_tokenize(self, sent):\n",
    "        \"\"\"\n",
    "        Cleans the question string\n",
    "        \"\"\"\n",
    "        abbvr_pattern = re.compile('(e.g.|i.e.)')\n",
    "        sent = abbvr_pattern.sub('', sent)\n",
    "        remove_punct_dict = {key: \" \" for key in string.punctuation}\n",
    "        remove_punct_dict['.'] = ''\n",
    "        remove_punct = str.maketrans(remove_punct_dict)\n",
    "        sent = sent.translate(remove_punct)\n",
    "        return sent.replace('R', 'R0').replace('-', ' ')\n",
    "\n",
    "    def __resolve_question(self):\n",
    "        \"\"\"\n",
    "        stems and removes irreleavnt words from questions\n",
    "        to create keywords for keyword analysis\n",
    "        \"\"\"\n",
    "        subquestion = self.RISK\n",
    "        sub_q = self.__question_tokenize(subquestion)\n",
    "        keywords = set([\n",
    "            stemmer.stem(word) for word in word_tokenize(sub_q)\n",
    "            if word.lower() not in stop_words and 'cov' not in word.lower()\n",
    "            and word.lower().islower()  #This checks and removes numbers\n",
    "        ])\n",
    "        self.risk_factors = list(keywords)\n",
    "\n",
    "    def __resolve_design(self):\n",
    "        \"\"\"\n",
    "        Resolves study designs to allow for study-design evaluation\n",
    "        \"\"\"\n",
    "        design_keys = self.DESIGN_LIST.split(\",\")\n",
    "        self.design_list = list(set(design_keys))\n",
    "\n",
    "    def __resolve_outcomes(self):\n",
    "        \"\"\"\n",
    "        Resolves outcomes to allow for outcome evaluation\n",
    "        \"\"\"\n",
    "        outcome_keys = self.__question_tokenize(self.OUTCOMES)\n",
    "        outcome_keys = set([\n",
    "            stemmer.stem(word) for word in word_tokenize(outcome_keys)\n",
    "            if word.lower() not in stop_words\n",
    "            and word.lower().islower()  #This checks and removes numbers\n",
    "        ])\n",
    "        self.outcome_list = list(outcome_keys)\n",
    "\n",
    "    def get_keywords(self):\n",
    "        \"\"\"\n",
    "        Returns keywords from earlier methods\n",
    "        \"\"\"\n",
    "        result = {'risk': None, 'design': None, 'outcome': None}\n",
    "        result['risk'] = self.risk_factors\n",
    "        if self.design_list:\n",
    "            result['design'] = self.design_list\n",
    "        if self.outcome_list:\n",
    "            result['outcome'] = self.outcome_list\n",
    "        return result"
   ]
  },
  {
   "cell_type": "code",
   "execution_count": 24,
   "metadata": {},
   "outputs": [],
   "source": [
    "def analyze_question(df, question):\n",
    "    \"\"\"\n",
    "    Function to take in a Question instance and a \n",
    "    dataframe with covid-excerpts to perform \n",
    "    evaluation and rankings on information relevancy\n",
    "    \"\"\"\n",
    "    reference_df = PaperAnalyzer(df)\n",
    "    keys = question.get_keywords()\n",
    "    reference_df.perform_analysis(keys['risk'], keys['design'],\n",
    "                                  keys['outcome'])\n",
    "    return reference_df.get_df()"
   ]
  },
  {
   "cell_type": "markdown",
   "metadata": {},
   "source": [
    "#### We will be trying out the question answering pipeline now with a few questions from the aforementionned [medical dictionary](https://docs.google.com/spreadsheets/d/1t2e3CHGxHJBiFgHeW0dfwtvCG4x0CDCzcTFX7yz9Z2E/edit#gid=1217643351)."
   ]
  },
  {
   "cell_type": "code",
   "execution_count": 25,
   "metadata": {},
   "outputs": [],
   "source": [
    "def get_google_sheet(url, sheet_name):\n",
    "    response=requests.get(url=url)\n",
    "    sample_file = io.BytesIO(response.content)\n",
    "    df = pd.read_excel(sample_file, sheet_name = sheet_name)\n",
    "    return df\n",
    "\n",
    "dict_url = 'https://docs.google.com/spreadsheets/d/1t2e3CHGxHJBiFgHeW0dfwtvCG4x0CDCzcTFX7yz9Z2E/export?format=xlsx&id=1t2e3CHGxHJBiFgHeW0dfwtvCG4x0CDCzcTFX7yz9Z2E'\n",
    "questions_df = get_google_sheet(dict_url, 'sub.question.matching')"
   ]
  },
  {
   "cell_type": "code",
   "execution_count": 26,
   "metadata": {},
   "outputs": [
    {
     "data": {
      "text/html": [
       "<div>\n",
       "<style scoped>\n",
       "    .dataframe tbody tr th:only-of-type {\n",
       "        vertical-align: middle;\n",
       "    }\n",
       "\n",
       "    .dataframe tbody tr th {\n",
       "        vertical-align: top;\n",
       "    }\n",
       "\n",
       "    .dataframe thead th {\n",
       "        text-align: right;\n",
       "    }\n",
       "</style>\n",
       "<table border=\"1\" class=\"dataframe\">\n",
       "  <thead>\n",
       "    <tr style=\"text-align: right;\">\n",
       "      <th></th>\n",
       "      <th>Unnamed: 0</th>\n",
       "      <th>Question</th>\n",
       "      <th>Subquestion</th>\n",
       "      <th>Outcome.list</th>\n",
       "      <th>Differences.list</th>\n",
       "      <th>Design.list</th>\n",
       "      <th>Notes</th>\n",
       "    </tr>\n",
       "  </thead>\n",
       "  <tbody>\n",
       "    <tr>\n",
       "      <th>0</th>\n",
       "      <td>What is known about transmission, incubation, ...</td>\n",
       "      <td>Range of incubation periods for the disease in...</td>\n",
       "      <td>Range of incubation periods for humans: genera...</td>\n",
       "      <td>incubation period</td>\n",
       "      <td>age.</td>\n",
       "      <td>contact tracing, survival analysis, time-to-ev...</td>\n",
       "      <td>https://www.ncbi.nlm.nih.gov/pmc/articles/PMC4...</td>\n",
       "    </tr>\n",
       "    <tr>\n",
       "      <th>1</th>\n",
       "      <td>What is known about transmission, incubation, ...</td>\n",
       "      <td>Range of incubation periods for the disease in...</td>\n",
       "      <td>Range of incubation periods for humans: by age...</td>\n",
       "      <td>incubation period, stratified by age group</td>\n",
       "      <td>age.</td>\n",
       "      <td>contact tracing, survival analysis, time-to-ev...</td>\n",
       "      <td>Notes</td>\n",
       "    </tr>\n",
       "  </tbody>\n",
       "</table>\n",
       "</div>"
      ],
      "text/plain": [
       "                                          Unnamed: 0  \\\n",
       "0  What is known about transmission, incubation, ...   \n",
       "1  What is known about transmission, incubation, ...   \n",
       "\n",
       "                                            Question  \\\n",
       "0  Range of incubation periods for the disease in...   \n",
       "1  Range of incubation periods for the disease in...   \n",
       "\n",
       "                                         Subquestion  \\\n",
       "0  Range of incubation periods for humans: genera...   \n",
       "1  Range of incubation periods for humans: by age...   \n",
       "\n",
       "                                 Outcome.list Differences.list  \\\n",
       "0                           incubation period             age.   \n",
       "1  incubation period, stratified by age group             age.   \n",
       "\n",
       "                                         Design.list  \\\n",
       "0  contact tracing, survival analysis, time-to-ev...   \n",
       "1  contact tracing, survival analysis, time-to-ev...   \n",
       "\n",
       "                                               Notes  \n",
       "0  https://www.ncbi.nlm.nih.gov/pmc/articles/PMC4...  \n",
       "1                                              Notes  "
      ]
     },
     "execution_count": 26,
     "metadata": {},
     "output_type": "execute_result"
    }
   ],
   "source": [
    "questions_df.head(2)"
   ]
  },
  {
   "cell_type": "code",
   "execution_count": 27,
   "metadata": {},
   "outputs": [
    {
     "data": {
      "text/plain": [
       "'Is COVID-19 transmitted on droplets?'"
      ]
     },
     "execution_count": 27,
     "metadata": {},
     "output_type": "execute_result"
    }
   ],
   "source": [
    "# Picking a sample question for analysis\n",
    "ques = questions_df.iloc[127]['Subquestion']\n",
    "ques = sent_tokenize(ques)[0]\n",
    "ques"
   ]
  },
  {
   "cell_type": "code",
   "execution_count": 28,
   "metadata": {},
   "outputs": [
    {
     "data": {
      "text/plain": [
       "'risk factor analysis, logistic regression, cross-sectional case-control, matched case-control, observational case series, time series analysis, survival analysis'"
      ]
     },
     "execution_count": 28,
     "metadata": {},
     "output_type": "execute_result"
    }
   ],
   "source": [
    "# Designs recommended for sample question\n",
    "des = questions_df.iloc[127]['Design.list']\n",
    "des"
   ]
  },
  {
   "cell_type": "code",
   "execution_count": 29,
   "metadata": {},
   "outputs": [
    {
     "data": {
      "text/plain": [
       "'odds of COVID-19 acquisition by occupation, age group, PPE use, observed/self-reported risk behaviors (e.g., inappropriately lowering mask to speak, touching face, eating without washing hands)'"
      ]
     },
     "execution_count": 29,
     "metadata": {},
     "output_type": "execute_result"
    }
   ],
   "source": [
    "# Outcomes recommended for sample question\n",
    "outc = questions_df.iloc[127]['Outcome.list']\n",
    "outc"
   ]
  },
  {
   "cell_type": "code",
   "execution_count": 30,
   "metadata": {},
   "outputs": [
    {
     "name": "stdout",
     "output_type": "stream",
     "text": [
      "Analyzing risks\n"
     ]
    },
    {
     "data": {
      "application/vnd.jupyter.widget-view+json": {
       "model_id": "ff020ad088434f2b9dee13b891d6ca24",
       "version_major": 2,
       "version_minor": 0
      },
      "text/plain": [
       "HBox(children=(FloatProgress(value=0.0, max=2.0), HTML(value='')))"
      ]
     },
     "metadata": {},
     "output_type": "display_data"
    },
    {
     "name": "stdout",
     "output_type": "stream",
     "text": [
      "\n",
      "Analyzing study designs\n"
     ]
    },
    {
     "data": {
      "application/vnd.jupyter.widget-view+json": {
       "model_id": "1f17b7a1c67c4ca1bc3ba869bf67cc41",
       "version_major": 2,
       "version_minor": 0
      },
      "text/plain": [
       "HBox(children=(FloatProgress(value=0.0, max=304.0), HTML(value='')))"
      ]
     },
     "metadata": {},
     "output_type": "display_data"
    },
    {
     "name": "stdout",
     "output_type": "stream",
     "text": [
      "\n",
      "Analyzing outcomes\n"
     ]
    },
    {
     "data": {
      "application/vnd.jupyter.widget-view+json": {
       "model_id": "398e9b45de8f4f4f8fbadacfc2c52d08",
       "version_major": 2,
       "version_minor": 0
      },
      "text/plain": [
       "HBox(children=(FloatProgress(value=0.0, max=304.0), HTML(value='')))"
      ]
     },
     "metadata": {},
     "output_type": "display_data"
    },
    {
     "name": "stdout",
     "output_type": "stream",
     "text": [
      "\n",
      "Analyzing fatality\n"
     ]
    },
    {
     "data": {
      "application/vnd.jupyter.widget-view+json": {
       "model_id": "d5146a1e124347199ed061ded6a84570",
       "version_major": 2,
       "version_minor": 0
      },
      "text/plain": [
       "HBox(children=(FloatProgress(value=0.0, max=304.0), HTML(value='')))"
      ]
     },
     "metadata": {},
     "output_type": "display_data"
    },
    {
     "name": "stdout",
     "output_type": "stream",
     "text": [
      "\n",
      "Generating final rankings\n"
     ]
    },
    {
     "data": {
      "application/vnd.jupyter.widget-view+json": {
       "model_id": "13cdf9ff3e444c07a738eb5eb443db3e",
       "version_major": 2,
       "version_minor": 0
      },
      "text/plain": [
       "HBox(children=(FloatProgress(value=0.0, max=2.0), HTML(value='')))"
      ]
     },
     "metadata": {},
     "output_type": "display_data"
    },
    {
     "name": "stdout",
     "output_type": "stream",
     "text": [
      "\n"
     ]
    }
   ],
   "source": [
    "report_df = analyze_question(covid_df, Question(ques, des, outc))"
   ]
  },
  {
   "cell_type": "markdown",
   "metadata": {},
   "source": [
    "#### We will now look at the 5 most relevant excerpts to the question we picked earlier"
   ]
  },
  {
   "cell_type": "code",
   "execution_count": 31,
   "metadata": {},
   "outputs": [
    {
     "name": "stdout",
     "output_type": "stream",
     "text": [
      "Intubating a patient with COVID-19 is a high-risk procedure, due to the proximity of the health care workers to the patients' oropharynx and the exposure to airway secretions, which can carry a high viral load. 47 During the SARS outbreak in 2003, health care workers performing intubations were shown to be at a significantly increased risk of nosocomial transmission. 48 This risk was shown to be greatly reduced where PPE was used appropriately and infection control measures were followed. 10 The availability and suitability of facemasks and respirators has escalated into an emotive, as well as scientific debate. A fluid resistant surgical facemask protects the wearer against sprays of bodily fluids and large droplets, whereas N95, FFP2 and FFP3 respirators are thought to protect the wearer against aerosolised and airborne pathogens as well. In laboratory studies, a FFP2 mask filters at least 94% of all particles that are 0.3 microns in diameter or larger; N95 masks block at least 95%, \n",
      "----------------------------- \n",
      "\n",
      "While it is important to know which cytology specimens can contain viable and therefore transmissible virus, it is important to emphasize the use of universal standard precautions when dealing with any cytology specimen. From the experience with SARS we can extrapolate that SARS-CoV-2 can be present in fecal and urine samples, in addition to peripheral blood and respiratory samples. SARS-CoV-2 may be present in samples in patients without known COVID-19, in undiagnosed patients, in presymptomatic patients, in patients with asymptomatic or minimally symptomatic infections, and in convalescent patients, who may still be shedding the virus. From the available data it is very likely that many, if not most, infections occur through contact with individuals who either don't have the disease or were not diagnosed with COVID-19. In addition, as with most specimens, the clinical diagnosis may not be indicated in the requisition. For all these reasons, all fresh specimens should be considered po\n",
      "----------------------------- \n",
      "\n",
      "The novel nature of the COVID-19 pandemic presents many challenges to gynecologists working to optimize the care of their patients. No part of our practice has been more disrupted than the ability to offer timely procedures to our patients with gynecologic surgical indications.\n",
      "Despite efforts to limit elective surgery during the COVID-19 pandemic, urgent and emergent procedures must still be performed. For many of these urgent procedures, such as ruptured ectopic pregnancy, hemorrhagic ovarian cysts, or ovarian torsion, laparoscopy may offer the best surgical approach and outcomes for the patient. However, some have suggested that laparoscopic procedures should be avoided, and laparotomy procedures be universally employed when a patient is COVID-19 positive or status is unknown due to concerns about aerosolization of viral particles via the pneumoperitoneum. We strongly disagree with this premise. Based on best available evidence, we concur with both the recent U.S. joint professional\n",
      "----------------------------- \n",
      "\n",
      "Coronaviruses are enveloped positive sense RNA viruses ranging from 60 nm to 140 nm in diameter with spike like projections on its surface giving it a crown like appearance under the electron microscope; hence the name coronavirus [3] . Four corona viruses namely HKU1, NL63, 229E and OC43 have been in circulation in humans, and generally cause mild respiratory disease.\n",
      "There have been two events in the past two decades wherein crossover of animal betacorona viruses to humans has resulted in severe disease. The first such instance was in 2002-2003 when a new coronavirus of the β genera and with origin in bats crossed over to humans via the intermediary host of palm civet cats in the Guangdong province of China. This virus, designated as severe acute respiratory syndrome coronavirus affected 8422 people mostly in China and Hong Kong and caused 916 deaths (mortality rate 11%) before being contained [4] . Almost a decade later in 2012, the Middle East respiratory syndrome coronavirus (MERS\n",
      "----------------------------- \n",
      "\n",
      "Human to human transmission via either respiratory droplets or close contacts was initially proposed as the main routes of transmission of the pathogen based on experience gained in the previous two epidemics caused by coronaviruses (MERS-CoV and SARS-CoV) (8) . According to the world Health Organization (WHO) report, 2019-nCoV is a unique virus that causes respiratory disease, which spreads via oral and nasal droplets. Moreover, the pathogen of COVID-19 can float in the air in the form of aerosols and cause infection in healthy people (9) . Evidence of a study in Singapore revealed higher loads of virus in confirmed cases of COVID-19 in early stages of the disease, which decreased dramatically over time (10) . There is a limited number of evidence on oral-fecal transmissibility of the pathogen. However, COVID-19 RNA was found in fecal specimens of 2 to 10% of confirmed patients with gastrointestinal symptoms such as diarrhea (11, 12) , so fecal-oral transmission should be taken into a\n",
      "----------------------------- \n",
      "\n"
     ]
    }
   ],
   "source": [
    "for i in range(5, 10):\n",
    "    print(report_df.sort_values(by='droplet_rank', ascending = False).iloc[i]['text_body'][:1000])\n",
    "    print(\"-----------------------------\",\"\\n\")"
   ]
  },
  {
   "cell_type": "code",
   "execution_count": null,
   "metadata": {},
   "outputs": [],
   "source": []
  }
 ],
 "metadata": {
  "kernelspec": {
   "display_name": "Python 3.7.4 64-bit ('anaconda3': virtualenv)",
   "language": "python",
   "name": "python37464bitanaconda3virtualenv11568a5b709c405b925f37b6b0b6dbdb"
  },
  "language_info": {
   "codemirror_mode": {
    "name": "ipython",
    "version": 3
   },
   "file_extension": ".py",
   "mimetype": "text/x-python",
   "name": "python",
   "nbconvert_exporter": "python",
   "pygments_lexer": "ipython3",
   "version": "3.7.4"
  }
 },
 "nbformat": 4,
 "nbformat_minor": 2
}
