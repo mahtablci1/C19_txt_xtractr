{
 "cells": [
  {
   "cell_type": "code",
   "execution_count": 3,
   "metadata": {},
   "outputs": [],
   "source": [
    "import os\n",
    "import re\n",
    "import sys\n",
    "import glob\n",
    "import json\n",
    "import string\n",
    "\n",
    "import numpy as np\n",
    "import pandas as pd\n",
    "from tqdm.notebook import tqdm\n",
    "\n",
    "from nltk.corpus import stopwords\n",
    "from nltk.stem import PorterStemmer\n",
    "from nltk.tokenize import word_tokenize, sent_tokenize\n",
    "\n",
    "stemmer = PorterStemmer()\n",
    "root = '../../kaggle_data/'\n",
    "stop_words = list(set(stopwords.words('english')))\n",
    "stop_words.extend(['within', 'what', 'how', 'eg', 'ie'])"
   ]
  },
  {
   "cell_type": "markdown",
   "metadata": {},
   "source": [
    "### `PaperLoader` class will load all papers for the challenge and provide an interface for us to obtain `Pandas Dataframes` to work with. The focus will be on:\n",
    "- Obtaining Paper title, Abstract, Body\n",
    "- Obtaining Authors, Journal of Publication, Publication Date and Publication Date\n",
    "- Obtaining journal ratings"
   ]
  },
  {
   "cell_type": "code",
   "execution_count": 4,
   "metadata": {},
   "outputs": [],
   "source": [
    "class PaperLoader():\n",
    "    \"\"\"\n",
    "    Initializes PaperLoader class to read all .json files from root_directory\n",
    "    \"\"\"\n",
    "    def __init__(self, root_dir, no_bib=True):\n",
    "        self.ROOT_DIR = root_dir\n",
    "        self.JSON_FILES = glob.glob(f'{root}/**/*.json', recursive=True)\n",
    "        self.PAPERS_COLUMN = {\n",
    "            \"doc_id\": [None],\n",
    "            \"title\": [None],\n",
    "            \"abstract\": [None],\n",
    "            \"text_body\": [None]\n",
    "        }\n",
    "        self.PAPERS_DF = None\n",
    "        self.NO_BIB = no_bib\n",
    "\n",
    "    \"\"\"\n",
    "    Removes sections with more than 5 URL/DOI/HTTP instances\n",
    "    \"\"\"\n",
    "\n",
    "    def __clean_bib(self, body_text):\n",
    "        merged_body = []\n",
    "        for segment in body_text:\n",
    "            if len(merged_body) > 0:\n",
    "                if merged_body[-1]['section'] == segment['section']:\n",
    "                    merged_body[-1]['text'] += '\\n' + segment['text']\n",
    "                    continue\n",
    "            merged_body.append(segment)\n",
    "\n",
    "        merged_body = [\n",
    "            segment for segment in merged_body\n",
    "            if len(re.findall(\"(http|doi|www)\", segment['text'])) <= 4\n",
    "        ]\n",
    "        return merged_body\n",
    "\n",
    "    \"\"\"\n",
    "    Creates a Pandas DataFrame from all json files in root_directory\n",
    "    Each json file represents a paper. \n",
    "    Features extracted are: doc_id, title, abstract, text_body\n",
    "    \"\"\"\n",
    "\n",
    "    def create_paper_df(self):\n",
    "        self.PAPERS_DF = pd.DataFrame.from_dict(self.PAPERS_COLUMN)\n",
    "        df_list = []\n",
    "        for i in tqdm(range(len(self.JSON_FILES))):\n",
    "            file_name = self.JSON_FILES[i]\n",
    "            row = {x: None for x in self.PAPERS_COLUMN}\n",
    "\n",
    "            with open(file_name) as json_data:\n",
    "                data = json.load(json_data)\n",
    "\n",
    "                doc_id = data['paper_id']\n",
    "                row['doc_id'] = doc_id\n",
    "                row['title'] = data['metadata']['title']\n",
    "                if len(row['title']) <= 1:\n",
    "                    continue\n",
    "\n",
    "                # Now need all of abstract. Put it all in\n",
    "                # a list then use str.join() to split it\n",
    "                # into paragraphs.\n",
    "\n",
    "                if ('abstract' not in data or 'body_text' not in data):\n",
    "                    continue\n",
    "                else:\n",
    "                    abstract_list = [abst['text'] for abst in data['abstract']]\n",
    "                    abstract = \"\\n \".join(abstract_list)\n",
    "\n",
    "                if len(abstract) <= 1:\n",
    "                    continue\n",
    "\n",
    "                row['abstract'] = abstract\n",
    "\n",
    "                # And lastly the body of the text.\n",
    "                # These clauses verify whether the user wants to clean up references\n",
    "                if self.NO_BIB:\n",
    "                    body_list = self.__clean_bib(data['body_text'])\n",
    "                else:\n",
    "                    body_list = [bt for bt in data['body_text']]\n",
    "\n",
    "                row['text_body'] = body_list\n",
    "\n",
    "                df_list.append(row)\n",
    "        self.PAPERS_DF = pd.DataFrame(df_list)\n",
    "\n",
    "    \"\"\"\n",
    "    Joins paper information with information on journal for paper,\n",
    "    authors, doi and published date\n",
    "    \"\"\"\n",
    "\n",
    "    def merge_metadata(self):\n",
    "        metadata_df = pd.read_csv(self.ROOT_DIR + 'metadata.csv')\n",
    "        metadata_df_for_join = metadata_df.loc[:, [\n",
    "            'sha', 'publish_time', 'authors', 'journal', 'doi'\n",
    "        ]]\n",
    "        self.PAPERS_DF = self.PAPERS_DF.merge(metadata_df_for_join,\n",
    "                                              left_on='doc_id',\n",
    "                                              right_on='sha',\n",
    "                                              how='inner')\n",
    "\n",
    "    \"\"\"\n",
    "    Joins paper information with information on journal ratings\n",
    "    Important column: H_Index\n",
    "    \"\"\"\n",
    "\n",
    "    def merge_journals(self):\n",
    "        journal_df = pd.read_csv(root + 'scimagoj_2018.csv', sep=';')\n",
    "        papers_ratings_df = self.PAPERS_DF.merge(\n",
    "            journal_df.loc[:, ['Title', 'H index']],\n",
    "            left_on='journal',\n",
    "            right_on='Title',\n",
    "            how='left')\n",
    "        papers_ratings_df = papers_ratings_df.drop(\n",
    "            ['sha', 'Title'], axis=1).reset_index(drop=True)\n",
    "        self.PAPERS_DF = papers_ratings_df\n",
    "\n",
    "    def get_df(self):\n",
    "        self.PAPERS_DF = self.PAPERS_DF.dropna(\n",
    "            subset=['abstract', 'text_body'])\n",
    "        return self.PAPERS_DF"
   ]
  },
  {
   "cell_type": "code",
   "execution_count": 5,
   "metadata": {},
   "outputs": [
    {
     "data": {
      "application/vnd.jupyter.widget-view+json": {
       "model_id": "0e479717868646aeb13c86ecd3920e61",
       "version_major": 2,
       "version_minor": 0
      },
      "text/plain": [
       "HBox(children=(FloatProgress(value=0.0, max=59311.0), HTML(value='')))"
      ]
     },
     "metadata": {},
     "output_type": "display_data"
    },
    {
     "name": "stdout",
     "output_type": "stream",
     "text": [
      "\n"
     ]
    }
   ],
   "source": [
    "paper_loader = PaperLoader(root)\n",
    "paper_loader.create_paper_df()\n",
    "paper_loader.merge_metadata()\n",
    "paper_loader.merge_journals()\n",
    "papers_df = paper_loader.get_df()"
   ]
  },
  {
   "cell_type": "code",
   "execution_count": 6,
   "metadata": {},
   "outputs": [
    {
     "data": {
      "text/html": [
       "<div>\n",
       "<style scoped>\n",
       "    .dataframe tbody tr th:only-of-type {\n",
       "        vertical-align: middle;\n",
       "    }\n",
       "\n",
       "    .dataframe tbody tr th {\n",
       "        vertical-align: top;\n",
       "    }\n",
       "\n",
       "    .dataframe thead th {\n",
       "        text-align: right;\n",
       "    }\n",
       "</style>\n",
       "<table border=\"1\" class=\"dataframe\">\n",
       "  <thead>\n",
       "    <tr style=\"text-align: right;\">\n",
       "      <th></th>\n",
       "      <th>doc_id</th>\n",
       "      <th>title</th>\n",
       "      <th>abstract</th>\n",
       "      <th>text_body</th>\n",
       "      <th>publish_time</th>\n",
       "      <th>authors</th>\n",
       "      <th>journal</th>\n",
       "      <th>doi</th>\n",
       "      <th>H index</th>\n",
       "    </tr>\n",
       "  </thead>\n",
       "  <tbody>\n",
       "    <tr>\n",
       "      <th>0</th>\n",
       "      <td>306ef95a3a91e13a93bcc37fb2c509b67c0b5640</td>\n",
       "      <td>A Novel Approach for a Novel Pathogen: using a...</td>\n",
       "      <td>Thousands of people in the United States have ...</td>\n",
       "      <td>[{'text': 'The 2019 novel coronavirus (SARS-Co...</td>\n",
       "      <td>2020-03-12</td>\n",
       "      <td>Bryson-Cahn, Chloe; Duchin, Jeffrey; Makarewic...</td>\n",
       "      <td>Clin Infect Dis</td>\n",
       "      <td>10.1093/cid/ciaa256</td>\n",
       "      <td>NaN</td>\n",
       "    </tr>\n",
       "    <tr>\n",
       "      <th>1</th>\n",
       "      <td>6599ebbef3d868afac9daa4f80fa075675cf03bc</td>\n",
       "      <td>International aviation emissions to 2025: Can ...</td>\n",
       "      <td>International aviation is growing rapidly, res...</td>\n",
       "      <td>[{'text': 'Sixty years ago, civil aviation was...</td>\n",
       "      <td>2009-01-31</td>\n",
       "      <td>Macintosh, Andrew; Wallace, Lailey</td>\n",
       "      <td>Energy Policy</td>\n",
       "      <td>10.1016/j.enpol.2008.08.029</td>\n",
       "      <td>178.0</td>\n",
       "    </tr>\n",
       "  </tbody>\n",
       "</table>\n",
       "</div>"
      ],
      "text/plain": [
       "                                     doc_id  \\\n",
       "0  306ef95a3a91e13a93bcc37fb2c509b67c0b5640   \n",
       "1  6599ebbef3d868afac9daa4f80fa075675cf03bc   \n",
       "\n",
       "                                               title  \\\n",
       "0  A Novel Approach for a Novel Pathogen: using a...   \n",
       "1  International aviation emissions to 2025: Can ...   \n",
       "\n",
       "                                            abstract  \\\n",
       "0  Thousands of people in the United States have ...   \n",
       "1  International aviation is growing rapidly, res...   \n",
       "\n",
       "                                           text_body publish_time  \\\n",
       "0  [{'text': 'The 2019 novel coronavirus (SARS-Co...   2020-03-12   \n",
       "1  [{'text': 'Sixty years ago, civil aviation was...   2009-01-31   \n",
       "\n",
       "                                             authors          journal  \\\n",
       "0  Bryson-Cahn, Chloe; Duchin, Jeffrey; Makarewic...  Clin Infect Dis   \n",
       "1                 Macintosh, Andrew; Wallace, Lailey    Energy Policy   \n",
       "\n",
       "                           doi  H index  \n",
       "0          10.1093/cid/ciaa256      NaN  \n",
       "1  10.1016/j.enpol.2008.08.029    178.0  "
      ]
     },
     "execution_count": 6,
     "metadata": {},
     "output_type": "execute_result"
    }
   ],
   "source": [
    "papers_df.head(2)"
   ]
  },
  {
   "cell_type": "code",
   "execution_count": 7,
   "metadata": {},
   "outputs": [
    {
     "data": {
      "text/plain": [
       "(25323, 9)"
      ]
     },
     "execution_count": 7,
     "metadata": {},
     "output_type": "execute_result"
    }
   ],
   "source": [
    "papers_df.shape"
   ]
  },
  {
   "cell_type": "markdown",
   "metadata": {},
   "source": [
    "## Filtering for covid-19 related papers released after 2019\n",
    "There is a lot of noise in this dataset due to information about other strains of coronavirus so we will select only the papers that are related to Covid-19. \n",
    "\n",
    "\n",
    "Also, while the older papers may contain some important insight on the variance among the  different strains of coronavirus, for our purposes, we will only be looking at papers published on 2019 or later because that is when Covid-19 became popular."
   ]
  },
  {
   "cell_type": "code",
   "execution_count": 8,
   "metadata": {},
   "outputs": [],
   "source": [
    "# List of keywords for covid-19\n",
    "cov_list = [\n",
    "    'novel coronavi',\n",
    "    'covid',\n",
    "    'cov_2',\n",
    "    'cord-19',\n",
    "    'cord 19',\n",
    "    '2019-nCoV',\n",
    "    '2019 ncov',\n",
    "    '2019 cov',\n",
    "    'wuhan coronavi',\n",
    "]"
   ]
  },
  {
   "cell_type": "markdown",
   "metadata": {},
   "source": [
    "#### `RelevantFilter` class will filter the `DataFrame` from `PaperLoader` and filter for covid-19 papers published on 2019 or later. \n",
    "We will need to supply a list of covid-related keywords to filter from to the `constructor`\n"
   ]
  },
  {
   "cell_type": "code",
   "execution_count": 9,
   "metadata": {},
   "outputs": [],
   "source": [
    "class RelevantFilter():\n",
    "    \"\"\"\n",
    "    Takes a list of key-words that the other methods use\n",
    "    to filter for relevant papers\n",
    "    \"\"\"\n",
    "    def __init__(self, keywords, year='2019'):\n",
    "        self.KEYWORDS = keywords\n",
    "        self.YEAR = year\n",
    "\n",
    "    def extract_recent(self, df):\n",
    "        return df[df['publish_time'] >= self.YEAR]\n",
    "\n",
    "    def filter_papers(self, df):\n",
    "        cov_pattern = re.compile('(' + \"|\".join(self.KEYWORDS) + ')',\n",
    "                                 re.IGNORECASE)\n",
    "        df = df[df['title'].apply(lambda x: len(cov_pattern.findall(x)) >= 1\n",
    "                                  if x else False)]\n",
    "        return df"
   ]
  },
  {
   "cell_type": "code",
   "execution_count": 10,
   "metadata": {},
   "outputs": [],
   "source": [
    "covid_filter = RelevantFilter(cov_list, '2019')\n",
    "covid_df = covid_filter.filter_papers(papers_df)\n",
    "covid_df = covid_filter.extract_recent(covid_df)"
   ]
  },
  {
   "cell_type": "code",
   "execution_count": 11,
   "metadata": {},
   "outputs": [
    {
     "data": {
      "text/plain": [
       "(932, 9)"
      ]
     },
     "execution_count": 11,
     "metadata": {},
     "output_type": "execute_result"
    }
   ],
   "source": [
    "covid_df.shape"
   ]
  },
  {
   "cell_type": "code",
   "execution_count": 12,
   "metadata": {},
   "outputs": [
    {
     "data": {
      "text/html": [
       "<div>\n",
       "<style scoped>\n",
       "    .dataframe tbody tr th:only-of-type {\n",
       "        vertical-align: middle;\n",
       "    }\n",
       "\n",
       "    .dataframe tbody tr th {\n",
       "        vertical-align: top;\n",
       "    }\n",
       "\n",
       "    .dataframe thead th {\n",
       "        text-align: right;\n",
       "    }\n",
       "</style>\n",
       "<table border=\"1\" class=\"dataframe\">\n",
       "  <thead>\n",
       "    <tr style=\"text-align: right;\">\n",
       "      <th></th>\n",
       "      <th>doc_id</th>\n",
       "      <th>title</th>\n",
       "      <th>abstract</th>\n",
       "      <th>text_body</th>\n",
       "      <th>publish_time</th>\n",
       "      <th>authors</th>\n",
       "      <th>journal</th>\n",
       "      <th>doi</th>\n",
       "      <th>H index</th>\n",
       "    </tr>\n",
       "  </thead>\n",
       "  <tbody>\n",
       "    <tr>\n",
       "      <th>0</th>\n",
       "      <td>306ef95a3a91e13a93bcc37fb2c509b67c0b5640</td>\n",
       "      <td>A Novel Approach for a Novel Pathogen: using a...</td>\n",
       "      <td>Thousands of people in the United States have ...</td>\n",
       "      <td>[{'text': 'The 2019 novel coronavirus (SARS-Co...</td>\n",
       "      <td>2020-03-12</td>\n",
       "      <td>Bryson-Cahn, Chloe; Duchin, Jeffrey; Makarewic...</td>\n",
       "      <td>Clin Infect Dis</td>\n",
       "      <td>10.1093/cid/ciaa256</td>\n",
       "      <td>NaN</td>\n",
       "    </tr>\n",
       "  </tbody>\n",
       "</table>\n",
       "</div>"
      ],
      "text/plain": [
       "                                     doc_id  \\\n",
       "0  306ef95a3a91e13a93bcc37fb2c509b67c0b5640   \n",
       "\n",
       "                                               title  \\\n",
       "0  A Novel Approach for a Novel Pathogen: using a...   \n",
       "\n",
       "                                            abstract  \\\n",
       "0  Thousands of people in the United States have ...   \n",
       "\n",
       "                                           text_body publish_time  \\\n",
       "0  [{'text': 'The 2019 novel coronavirus (SARS-Co...   2020-03-12   \n",
       "\n",
       "                                             authors          journal  \\\n",
       "0  Bryson-Cahn, Chloe; Duchin, Jeffrey; Makarewic...  Clin Infect Dis   \n",
       "\n",
       "                   doi  H index  \n",
       "0  10.1093/cid/ciaa256      NaN  "
      ]
     },
     "execution_count": 12,
     "metadata": {},
     "output_type": "execute_result"
    }
   ],
   "source": [
    "covid_df.head(1)"
   ]
  },
  {
   "cell_type": "code",
   "execution_count": 13,
   "metadata": {},
   "outputs": [
    {
     "data": {
      "text/plain": [
       "['A Novel Approach for a Novel Pathogen: using a home assessment team to evaluate patients for 2019 novel coronavirus (SARS-CoV-2)',\n",
       " 'Modeling the dynamics of novel coronavirus (2019-nCov) with fractional derivative']"
      ]
     },
     "execution_count": 13,
     "metadata": {},
     "output_type": "execute_result"
    }
   ],
   "source": [
    "list(covid_df.head(2)['title'].values)"
   ]
  },
  {
   "cell_type": "markdown",
   "metadata": {},
   "source": [
    "### Keyword Analysis"
   ]
  },
  {
   "cell_type": "code",
   "execution_count": 14,
   "metadata": {},
   "outputs": [],
   "source": [
    "risk_factors = [{\n",
    "    'name': 'smoking',\n",
    "    'pattern': 'smok'\n",
    "}, {\n",
    "    'name': 'diabetes',\n",
    "    'pattern': 'diabete'\n",
    "}, {\n",
    "    'name': 'pregnancy',\n",
    "    'pattern': 'pregnan'\n",
    "}, {\n",
    "    'name': 'tuberculosis',\n",
    "    'pattern': '(tubercul|MTB|TB)'\n",
    "}]"
   ]
  },
  {
   "cell_type": "code",
   "execution_count": 15,
   "metadata": {},
   "outputs": [],
   "source": [
    "design_list = [\n",
    "    'mathemat', 'profil', 'cross sectional case control',\n",
    "    'matched case control', 'contact', 'surviv', 'tracing,', 'time to event',\n",
    "    'time-to-event', 'risk factor analysis', 'logistic regression',\n",
    "    'cross-sectional case-control', 'matched case-control',\n",
    "    'observational case series', 'time series analysis', 'survival analysis',\n",
    "    'investigati', 'model', 'outbreak', 'stochast', 'statist', 'analysi',\n",
    "    'experiment', 'excret', 'investig'\n",
    "    'retrospective cohort', 'cross-sectional case-control',\n",
    "    'cross sectional case control', 'prevalence survey', 'systematic review ',\n",
    "    'meta-analysis', 'meta analysis', 'matched case-control',\n",
    "    'matched case control', 'medical record review',\n",
    "    'observational case series', 'time series analysis',\n",
    "    'pseudo-randomized controlled', 'pseudo randomized controlled',\n",
    "    'randomized controlled', 'retrospective analysis', 'retrospective study',\n",
    "    'retrospective studies'\n",
    "]"
   ]
  },
  {
   "cell_type": "code",
   "execution_count": 16,
   "metadata": {},
   "outputs": [],
   "source": [
    "outcome_list = [\n",
    "    'risk', 'range', 'duration', 'asymptomatic', 'infecti', 'reproducti',\n",
    "    'route', 'age', 'transmm'\n",
    "    'stratifi', 'period,', 'health', 'r0', 'shedd', 'viral'\n",
    "    'period', 'incub', 'generat', 'factor', 'interval,', 'serial'\n",
    "]"
   ]
  },
  {
   "cell_type": "markdown",
   "metadata": {},
   "source": [
    "## `PaperAnalyzer` \n",
    "Will be filled with description"
   ]
  },
  {
   "cell_type": "code",
   "execution_count": 39,
   "metadata": {},
   "outputs": [],
   "source": [
    "class PaperAnalyzer():\n",
    "    def __init__(self, parent_df):\n",
    "        self.section_ratings = {\n",
    "                        'discus': 10,\n",
    "                        'concl': 10,\n",
    "                        'resul': 10,\n",
    "                        'analy': 9,\n",
    "                        'impli': 9,\n",
    "                        'valu': 9,\n",
    "                        'intro': 6\n",
    "                        }\n",
    "        \n",
    "        self.df = parent_df.explode('text_body')\n",
    "        self.df['section'] = self.df['text_body'].apply(\n",
    "            lambda x: x['section'] if type(x) == dict else None)\n",
    "        self.df['text_body'] = self.df['text_body'].apply(\n",
    "            lambda x: x['text'] if type(x) == dict else None)\n",
    "        self.df = self.df[self.df['text_body'].notna()]\n",
    "        self.df['total_rank'] = 0\n",
    "        self.__ANALYZED_RISKS = False\n",
    "        self.__RISK_MESSAGE = \"Need to call analyze_risk()  first. Try calling self.analyze_risks()\"\n",
    "        tqdm.pandas()\n",
    "\n",
    "    def analyze_risks(self, risk_factors):\n",
    "        if type(risk_factors[0]) == dict:\n",
    "            patterns = [risk['patterns'] for risk in risk_factors]\n",
    "        elif type(risk_factors[0]) == str:\n",
    "            patterns = [risk for risk in risk_factors]\n",
    "        \n",
    "        self.df = self.df[self.df['text_body'].apply(lambda x:\n",
    "                                                    any(re.compile(pattern, re.IGNORECASE).findall(x)\n",
    "                                                       for pattern in patterns)\n",
    "                                                    )]\n",
    "        for i in tqdm(range(len(risk_factors))):\n",
    "            factor = risk_factors[i]\n",
    "            if type(factor) == dict:\n",
    "                name = factor['name']\n",
    "                pattern = factor['pattern']\n",
    "            elif type(factor) == str:\n",
    "                name = factor\n",
    "                pattern = factor\n",
    "            self.df[name + '_count'] = self.df['text_body'].apply(lambda x: \n",
    "                                                                          len(re.findall(pattern, x)))\n",
    "            self.df['has_' + name + '?'] = self.df[name + '_count'].apply(lambda x: x > 0)\n",
    "            self.df[name + '_in_title'] = self.df['title'].apply(lambda x:\n",
    "                                                                         len(re.findall(pattern, x)) > 0)\n",
    "            self.df[name + '_count'] = self.df.apply(lambda x:\n",
    "                                                             x[name + '_count'] + 10\n",
    "                                                            if x[name + '_in_title'] \n",
    "                                                             else x[name + '_count'],\n",
    "                                                            axis=1)\n",
    "            self.df['total_rank'] += self.df[name + '_count']\n",
    "        self.__ANALYZED_RISKS = True\n",
    "\n",
    "    def analyze_designs(self, design_list):\n",
    "        if not self.__ANALYZED_RISKS:\n",
    "            raise ValueError(self.__ERROR_MESSAGE)\n",
    "\n",
    "        self.df['design_matches'] = self.df['text_body'].progress_apply(lambda x:\n",
    "                                                                      [re.findall(des, x) \n",
    "                                                                       for des in design_list])\n",
    "        self.df['design_rank'] = self.df['design_matches'].apply(lambda x:\n",
    "                                                                        len(x))\n",
    "        self.df['total_rank'] += self.df['design_rank']\n",
    "\n",
    "    def analyze_outcomes(self, outcomes):\n",
    "        if not self.__ANALYZED_RISKS:\n",
    "            raise ValueError(self.__ERROR_MESSAGE)\n",
    "        self.df['outcome_matches'] = self.df['text_body'].progress_apply(lambda x:\n",
    "                                                                        [re.findall(outcome, x)\n",
    "                                                                         for outcome in outcomes])\n",
    "        self.df['outcome_rank'] = self.df['outcome_matches'].apply(lambda x: len(x))\n",
    "        self.df['total_rank'] += self.df['outcome_rank']\n",
    "\n",
    "    def perform_analysis(self, risk_factors, design_list=None, outcomes=None):\n",
    "        print(\"Analyzing risks\")\n",
    "        self.analyze_risks(risk_factors)\n",
    "        print(\"Analyzing study designs\")\n",
    "        self.analyze_designs(design_list)\n",
    "        print(\"Analyzing outcomes\")\n",
    "        self.analyze_outcomes(outcomes)\n",
    "\n",
    "    def get_df(self, risk_factor=None):\n",
    "        self.df['section_rank'] = self.df['section'].apply(lambda x: self.section_ratings[x] \n",
    "                                                           if x in self.section_ratings else 5)\n",
    "        self.df['total_rank'] += self.df['section_rank']\n",
    "        self.df['total_rank'] = self.df.apply(lambda x: x['total_rank']\n",
    "                                                     /(10 /len(word_tokenize(x['text_body']))), \n",
    "                                              axis=1)\n",
    "        if risk_factor:\n",
    "            if not self.__ANALYZED_RISKS:\n",
    "                raise ValueError(self.__ERROR_MESSAGE)\n",
    "            return self.df[self.df['has_' + risk_factor +\n",
    "                                                   '?'] == True]\n",
    "        return self.df"
   ]
  },
  {
   "cell_type": "code",
   "execution_count": null,
   "metadata": {},
   "outputs": [],
   "source": [
    "covid_analysis = PaperAnalyzer(covid_df)\n",
    "covid_analysis.analyze_risks(risk_factors)"
   ]
  },
  {
   "cell_type": "code",
   "execution_count": null,
   "metadata": {},
   "outputs": [],
   "source": [
    "covid_analysis.analyze_designs(design_list)"
   ]
  },
  {
   "cell_type": "code",
   "execution_count": null,
   "metadata": {},
   "outputs": [],
   "source": [
    "covid_analysis.analyze_outcomes(outcome_list)"
   ]
  },
  {
   "cell_type": "code",
   "execution_count": null,
   "metadata": {},
   "outputs": [],
   "source": [
    "enriched_covid_df = covid_analysis.get_df()"
   ]
  },
  {
   "cell_type": "code",
   "execution_count": null,
   "metadata": {},
   "outputs": [],
   "source": [
    "enriched_covid_df.to_json(\"../../enriched_covid_df.json\", orient='records')"
   ]
  },
  {
   "cell_type": "markdown",
   "metadata": {},
   "source": [
    "## `Question`\n",
    "Will be filled with description"
   ]
  },
  {
   "cell_type": "code",
   "execution_count": 18,
   "metadata": {},
   "outputs": [],
   "source": [
    "question_document = pd.read_csv(\n",
    "    '../../../Downloads/Kaggle COVID-19 medical dictionary - sub.question.matching.csv',\n",
    "    index_col=0)"
   ]
  },
  {
   "cell_type": "code",
   "execution_count": 19,
   "metadata": {},
   "outputs": [],
   "source": [
    "class Question():\n",
    "    def __init__(self, question, design_list=None, outcomes=None):\n",
    "        self.DESIGN_LIST = design_list\n",
    "        self.OUTCOMES = outcomes\n",
    "        self.RISK = question\n",
    "        self.risk_factors = None\n",
    "        self.design_list = None\n",
    "        self.outcome_list = None\n",
    "        self.__resolve_question()\n",
    "        if design_list:\n",
    "            self.__resolve_design()\n",
    "        if outcomes:\n",
    "            self.__resolve_outcomes()\n",
    "\n",
    "    def __cov_tokenize(self, sent):\n",
    "        abbvr_pattern = re.compile('(e.g.|i.e.)')\n",
    "        sent = abbvr_pattern.sub('', sent)\n",
    "        remove_punct = str.maketrans({key: \" \" for key in string.punctuation})\n",
    "        sent = sent.translate(remove_punct)\n",
    "        return sent.replace('R', 'R0').replace('-', ' ')\n",
    "\n",
    "    def __resolve_question(self):\n",
    "        subquestion = self.RISK\n",
    "        sub_q = self.__cov_tokenize(subquestion)\n",
    "        keywords = set([\n",
    "            stemmer.stem(word) for word in word_tokenize(sub_q)\n",
    "            if word.lower() not in stop_words and 'cov' not in word.lower()\n",
    "            and word.lower().islower()  #This checks and removes numbers\n",
    "        ])\n",
    "        self.risk_factors = list(keywords)\n",
    "\n",
    "    def __resolve_design(self):\n",
    "        design_keys = self.__cov_tokenize(self.DESIGN_LIST)\n",
    "        design_keys = set([\n",
    "            stemmer.stem(word) for word in word_tokenize(design_keys)\n",
    "            if word.lower() not in stop_words\n",
    "            and word.lower().islower()  #This checks and removes numbers\n",
    "        ])\n",
    "        self.design_list = list(design_keys)\n",
    "\n",
    "    def __resolve_outcomes(self):\n",
    "        outcome_keys = self.__cov_tokenize(self.OUTCOMES)\n",
    "        outcome_keys = set([\n",
    "            stemmer.stem(word) for word in word_tokenize(outcome_keys)\n",
    "            if word.lower() not in stop_words\n",
    "            and word.lower().islower()  #This checks and removes numbers\n",
    "        ])\n",
    "        self.outcome_list = list(outcome_keys)\n",
    "\n",
    "    def get_keywords(self):\n",
    "        result = {'risk': None, 'design': None, 'outcome': None}\n",
    "        result['risk'] = self.risk_factors\n",
    "        if self.design_list:\n",
    "            result['design'] = self.design_list\n",
    "        if self.outcome_list:\n",
    "            result['outcome'] = self.outcome_list\n",
    "        return result"
   ]
  },
  {
   "cell_type": "code",
   "execution_count": 20,
   "metadata": {},
   "outputs": [],
   "source": [
    "def analyze_question(df, question):\n",
    "    reference_df = PaperAnalyzer(df)\n",
    "    keys = question.get_keywords()\n",
    "    reference_df.perform_analysis(keys['risk'], keys['design'],\n",
    "                                  keys['outcome'])\n",
    "    return reference_df.get_df()"
   ]
  },
  {
   "cell_type": "code",
   "execution_count": 21,
   "metadata": {},
   "outputs": [],
   "source": [
    "sample_q = question_document.iloc[127]['Subquestion']"
   ]
  },
  {
   "cell_type": "code",
   "execution_count": 22,
   "metadata": {},
   "outputs": [
    {
     "data": {
      "text/plain": [
       "'Is COVID-19 transmitted on droplets?'"
      ]
     },
     "execution_count": 22,
     "metadata": {},
     "output_type": "execute_result"
    }
   ],
   "source": [
    "sample_q = sent_tokenize(sample_q)[0]\n",
    "sample_q"
   ]
  },
  {
   "cell_type": "code",
   "execution_count": 23,
   "metadata": {},
   "outputs": [
    {
     "data": {
      "text/plain": [
       "('risk factor analysis, logistic regression, cross-sectional case-control, matched case-control, observational case series, time series analysis, survival analysis',\n",
       " str)"
      ]
     },
     "execution_count": 23,
     "metadata": {},
     "output_type": "execute_result"
    }
   ],
   "source": [
    "sample_d = question_document.iloc[127]['Design.list']\n",
    "sample_d, type(sample_d)"
   ]
  },
  {
   "cell_type": "code",
   "execution_count": 24,
   "metadata": {},
   "outputs": [
    {
     "data": {
      "text/plain": [
       "('odds of COVID-19 acquisition by occupation, age group, PPE use, observed/self-reported risk behaviors (e.g., inappropriately lowering mask to speak, touching face, eating without washing hands)',\n",
       " str)"
      ]
     },
     "execution_count": 24,
     "metadata": {},
     "output_type": "execute_result"
    }
   ],
   "source": [
    "sample_o = question_document.iloc[127]['Outcome.list']\n",
    "sample_o, type(sample_o)"
   ]
  },
  {
   "cell_type": "code",
   "execution_count": 41,
   "metadata": {},
   "outputs": [
    {
     "name": "stdout",
     "output_type": "stream",
     "text": [
      "Analyzing risks\n"
     ]
    },
    {
     "data": {
      "application/vnd.jupyter.widget-view+json": {
       "model_id": "08289359c93644b199bd85cd8cf7c8fc",
       "version_major": 2,
       "version_minor": 0
      },
      "text/plain": [
       "HBox(children=(FloatProgress(value=0.0, max=2.0), HTML(value='')))"
      ]
     },
     "metadata": {},
     "output_type": "display_data"
    },
    {
     "name": "stdout",
     "output_type": "stream",
     "text": [
      "\n",
      "Analyzing study designs\n"
     ]
    },
    {
     "data": {
      "application/vnd.jupyter.widget-view+json": {
       "model_id": "f82391369ae24d8383507f5fdb670952",
       "version_major": 2,
       "version_minor": 0
      },
      "text/plain": [
       "HBox(children=(FloatProgress(value=0.0, max=305.0), HTML(value='')))"
      ]
     },
     "metadata": {},
     "output_type": "display_data"
    },
    {
     "name": "stdout",
     "output_type": "stream",
     "text": [
      "\n",
      "Analyzing outcomes\n"
     ]
    },
    {
     "data": {
      "application/vnd.jupyter.widget-view+json": {
       "model_id": "7e2fd92a82294d8995dd1d23d4ed3a85",
       "version_major": 2,
       "version_minor": 0
      },
      "text/plain": [
       "HBox(children=(FloatProgress(value=0.0, max=305.0), HTML(value='')))"
      ]
     },
     "metadata": {},
     "output_type": "display_data"
    },
    {
     "name": "stdout",
     "output_type": "stream",
     "text": [
      "\n"
     ]
    }
   ],
   "source": [
    "question_df = analyze_question(covid_df, Question(sample_q, sample_d,\n",
    "                                                  sample_o))"
   ]
  },
  {
   "cell_type": "code",
   "execution_count": 42,
   "metadata": {},
   "outputs": [
    {
     "name": "stdout",
     "output_type": "stream",
     "text": [
      "The capacity of SARS-CoV-2 S protein-mediated membrane fusion From the GISAID Platform (https://platform.gisaid.org), we obtained the full-length amino-acid sequence of SARS-CoV-2 (BetaCoV 2019-2020) S protein (GenBank: QHD43416). Through alignment with SARS-CoV and SL-CoVs S proteins, we located the functional domains in SARS-CoV-2 S protein, which contains S1 subunit and S2 subunit with the cleavage site at R685/S686. 15 S1 subunit is located within the N-terminal 14-685 amino acids of S protein, containing N-terminal domain (NTD), receptor binding domain (RBD), and receptor binding motif (RBM). S2 subunit contains fusion peptide (FP), heptad repeat 1 (HR1), heptad repeat 2 (HR2), transmembrane domain (TM) and cytoplasmic domain (CP) (Fig. 1b) .\n",
      "Recent biophysical and structural evidence showed that SARS-CoV-2 S protein binds hACE2 with 10-fold to 20-fold higher affinity than SARS-CoV S protein, suggesting the higher infectivity of the new virus. 12 Unlike other β-B coronaviruses, S protein of SARS-CoV-2 harbors a special S1/S2 furin-recognizable site, indicating that its S protein might possess some unique infectious properties. Indeed, in live SARS-CoV-2 infection, we found a typical syncytium phenomenon naturally formed by infected cells, which is rarely reported in SARS-CoV infection (Fig. 1c) . To further explore the special characteristic of SARS-CoV-2 infection, we cloned the S gene into PAAV-IRES-GFP vector and established the S-mediated cell-cell fusion system, using 293T cells that express SARS-CoV-2 S protein and EGFP (293T/SARS-CoV-2/EGFP) as the effector cells, and ACE2/293T cells expressing human ACE2 receptor as the target cells ( Fig. 1d and Supplementary information, Fig. S1a ). After effector cells and target cells were cocultured at 37°C for 2 h, the fused cells showed at least 2-fold larger size than normal cells and multiple nuclei, and these cells were observed in the SARS-CoV-2 group, but not the SARS-CoV group. After coincubation for 24 h, hundreds of target cells fused together as one big syncytium, containing multiple nuclei (Fig. 1d) . Another 24 h later, the syncytium grew bigger and could be easily observed under both light and fluorescence microscopy (Fig. 1e) . Similar results were observed in the fusion between 293T/SARS-CoV-2/EGFP cells and Huh-7 cells, which naturally express human ACE2 receptor on the cell surface. Their syncytium was obviously formed after coincubation for 48 h, similar to the syncytium formed by live SARS-CoV-2-infected Huh-7 cells (Fig. 1c, f) . On the contrary, SARS-CoV S protein lacked the ability to mediate the cell-cell fusion under the same conditions ( Fig. 1d ) based on the required presence of exogenous trypsin to complete membrane fusion in our previous studies. Therefore, compared to SARS-CoV, SARS-CoV-2 S protein showed much more efficiency in mediating viral surface-fusion and entry into target cells. 14 Meanwhile, no fusion was observed for 293T/EGFP cells without S-expression or 293T cells without ACE2-expression ( Fig. 1d and Supplementary information, Fig. S1b ), confirming that S-receptor engagement is necessary for the S-mediated viral fusion and entry.\n",
      "X-ray crystallographic analysis of the 6-HB fusion core formed by HR1 and HR2 domains in S2 subunit of SARS-CoV-2 S protein Previously, we identified that the 6-HB formed by HR1 and HR2 domains of the S2 subunit plays a very important role in the membrane fusion process mediated by MERS-CoV or SARS-CoV S protein. 16, 17 Similarly, our recent study suggested that HR1 and HR2 in subunit S2 of SARS-CoV-2 also interacted to form coiledcoil complex to support membrane fusion and viral infection 15 ( Fig. 2a and Supplementary information, Fig. S2 ). However, the specific binding characteristics of SARS-CoV-2 6-HB remained to be explored.\n",
      "To understand the structural basis of the interactions between HR1 and HR2 regions of SARS-CoV-2, a fusion protein containing the major parts of HR1 (residues 910-988) and HR2 (residues 1162-1206) with a flexible linker (L6, SGGRGG) in between was constructed for crystallographic study. The crystal structure of HR1-L6-HR2 shows a canonical 6-HB structure with a rod-like shape 115 Å in length and 25 Å in diameter (Fig. 2b) . The three HR1 domains form a parallel trimeric coiled-coil center, around which three HR2 domains are entwined in an antiparallel manner. The interaction between these two domains is predominantly a hydrophobic force. Each pair of two adjacent HR1 helices forms a deep hydrophobic groove, providing the binding site for hydrophobic residues of the HR2 domain, including V1164, L1166, I1169, I1172, A1174, V1176, V1177, I1179, I1183, L1186, V1189, L1193, L1197 and I1198 (Fig. 2c) . The hydrophobic interactions between HR1 and HR2 are mainly located in the helical fusion core region, which will be discussed later.\n",
      "The overall 6-HB structure of SARS-CoV-2 is similar to that of other HCoVs with root-mean-square deviation (RMSD) of 0.36 Å to SARS-CoV 6-HB and 0.66 Å to MERS-CoV 6-HB for all the Cα atoms (Fig. 2d) . This finding suggested that the overall 6-HB conformation is an important and highly conserved component for these dangerous coronaviruses. When comparing with the 6-HB of other common coronaviruses causing mild respiratory disease, such as 229E and NL63, the SARS-CoV-2 6-HB has a similar overall structure, except for the different length of HR2 helix in the 6-HB. The HR2 domain of 229E or NL63 forms a longer and bending helix to interact with trimeric HR1 core (Fig. 2e) . The relationship between the structural difference and the pathogenicity of these HCoVs remains to be elucidated.\n",
      "According to sequence alignment, the S2 subunits of SARS-CoV-2 and SARS-CoV are highly conserved, with 92.6% and 100% overall homology in HR1 and HR2 domains, respectively. Inside the fusion core region of HR1 domain, there are 8 different residues (Fig. 3a) , which may contribute the enhanced interactions between HR1 and HR2 and stabilize 6-HB conformation of SARS-CoV-2 as revealed by crystallographic analysis, compared with those of SARS-CoV. This significant difference has not been observed in other SARS-like viruses, such as WIV1, Rs3367, and RsSHC014. As shown in Fig. 3b , the K911 in SARS-CoV HR1 could bind to E1176 in HR2 through a salt bridge 2.9 Å in distance. However, with the Lys-Ser replacement, S929 in SARS-CoV-2 binds to S1196 through a strong hydrogen bond 2.4 Å in distance. In SARS-CoV, Q915 in the HR1 domain does not bind to the HR2 domain. However, with Q-K replacement in the new virus, K933 in the HR1 domain binds to carbonyl oxygen of N1172 in HR2 through a salt bridge 2.7 Å in distance (Fig. 3b) . In SARS-CoV, E918 in the HR1 domain binds to R1166 in the HR2 domain through a weak salt bridge 3.7 Å in distance. In SARS-CoV-2, E918 is mutated to D936 and binds to R1185 in the HR2 domain through a salt bridge 2.7 Å in distance (Fig. 3c) . In SARS-CoV, K929 in HR1 binds to E1163 in HR2 through a salt bridge 3.2 Å in distance, while T925 is not involved in the interaction. However, when T925 was mutated to S943, it could bind to E1182 in the HR2 domain with a hydrogen bond 2.6 Å in distance, and K947 could also bind to E1182 through a salt bridge 3.0 Å in distance (Fig. 3d) . These results suggested that the multiple replacements in the HR1 domain of emerging SARS-CoV-2 virus could enhance the interactions between HR1 and HR2 domain to further stabilize the 6-HB structure, which may lead to increased infectivity of the virus.\n",
      "Design and structure-activity relationship (SAR) analysis of lipopeptides with remarkably improved fusion inhibitory activity Previously, we found that peptide EK1 could disturb viral 6-HB formation and effectively inhibit SARS-CoV-2 PsV infection. However, the potent stability of SARS-CoV-2 6-HB structure might reduce the antiviral efficacy of EK1. Recently, numerous reports have shown that the lipidation strategy can effectively improve the antiviral activity of fusion inhibitory peptides, such as the ant-HIV-1 peptide LP-19, 18 and the anti-Nipah virus lipopeptides. 19 In order to improve the inhibitory activity of EK1, cholesterol (Chol) and palmitic acid (Palm) were covalently attached to the Cterminus of EK1 sequence under the help of a flexible polyethylene glycol (PEG) spacer, and the corresponding lipopeptides EK1C and EK1P were constructed, respectively (Fig. 4a) . Both of them could completely inhibit SARS-CoV-2 mediated cell-cell fusion at the concentration of 2.5 μM (Fig. 4b) . The inhibitory activity with mean 50% inhibitory concentration (IC 50 ) values is 48.1 nM for EK1C and 69.2 nM for EK1P, respectively (Fig. 4c) . Meanwhile, the EK1-scrambled peptide showed no inhibitory activity with the concentration up to 5 μM (Fig. 4c) . These results strongly suggest that lipidation of EK1 is a promising strategy to improve its fusion-inhibitory activity against SARS-CoV-2 infection, especially, cholesterol-modification.\n",
      "On the basis of the structure of EK1C, series of cholesteryl EK1 with multiple linkers were constructed, where the glycine/serinebased linker, i.e., GSG, or PEG-based spacer was employed between EK1 and the cholesterol moiety (Fig. 4d) . Compared with EK1C1, EK1C2 and EK1C showed similar inhibitory activities. Strikingly, EK1C3 peptide with both the 3-amino acid linker \"GSG\" and the PEG4-based spacer, exhibited 4-fold more potency than EK1C1. It is noteworthy that changing \"GSG\" in EK1C3 to a longer 5-amino acid linker \"GSGSG\" significantly increased the inhibitory potency of the hybrid molecule, and EK1C4 had IC 50 value of 1.3 nM, which was 43-fold more potent than EK1C1. These findings indicate that the linker length has a significant effect on the overall activity of lipopeptides. Comparison of increasing PEGbased arm lengths in EK1C4 shows that inhibitors potency slightly decreased in the cell-cell fusion assay (Fig. 4e) . The data suggest that \"GSGSG-PEG4\" linker was optimal to bridge both parts of the conjugates. Similarly, EK1C4 showed the most potent inhibitory activity against SARS-CoV-2 PsV infection, with IC 50 value of 15.8 nM, providing 149-fold stronger anti-SARS-CoV-2 activity than that of EK1 (IC 50 = 2,375 nM) (Fig. 4f) .\n",
      "The lipopeptide EK1C4 exhibits the most potent inhibitory activity against membrane fusion mediated by S proteins and entry of pseudotyped coronaviruses We have previously demonstrated that EK1 could effectively inhibit divergent HCoV infection by targeting the HR1 domains, including α-HCoV and β-HCoV. Here, we further systematically evaluated the broad-spectrum surface-fusion inhibitory activity of EK1C4 on cell-cell fusion mediated by S proteins of divergent coronaviruses, including SARS-CoV, MERS-CoV, HCoV-OC43, HCoV-NL63 and HCoV-229E. Among them, SARS-CoV has the closest relative to SARS-CoV-2, and its S protein-mediated cell-cell fusion could be effectively inhibited by EK1C4 with IC 50 of 4.3 nM, which is about 94-fold more active than that of EK1 (IC 50 = 409.3 nM) (Fig. 5a) . Similarly, EK1C4 showed extremely potent fusioninhibitory activity on MERS-S-and OC43-S-mediated cell-cell fusion with IC 50 of 2.5 nM and 7.7 nM, which were 95-and 101-fold more potent when compared to EK1, respectively, indicating that EK1C4 could potently and broadly inhibit S protein-mediated cell-cell fusion of various β-HCoVs (Fig. 5b, c) . For α-HCoVs, EK1C4 also effectively blocked the fusion process mediated by the S protein of HCoV-229E and HCoV-NL63 with IC 50 of 5.2 nM and 21.4 nM, respectively, while EK1 showed inhibitory activity of IC 50 ranging from 207.4 to 751.0 nM (Fig. 5d, e) . Moreover, with their potential for human infection, SL-CoVs, including WIV1, Rs3367 and RsSHC014, the fusion process of which is mediated by S protein, could also be significantly prevented by EK1C4 with IC 50 ranging from 4.3 to 8.1 nM, as well as EK1 with IC 50 ranging from 237.0 to 279.6 nM ( Fig. 5f-h) . As control, the EK1-scrambled peptide showed no inhibitory activity with concentration up to 5 μM in all those coronavirus cell-cell fusion assays (Fig. 5a-h) .\n",
      "We also assessed the antiviral activity of EK1C4 on PsV infection by divergent coronaviruses. As expected, EK1C4 showed much more potent activity than EK1 (IC 50 ranging from 631.8 to 3,237 nM) against SARS-CoV, MERS-CoV, and HCoV-OC43 infection with IC 50 of 11.7 nM, 11.1 nM and 37.7 nM, respectively (Fig. 5i-k) . EK1C4 also effectively blocked PsV infection of α-HCoVs, including HCoV-229E and HCoV-NL63, with IC 50 of 12.4 nM and 76.6 nM, respectively, which was about 319-and 99-fold more active than EK1 (IC 50 ranging from 3,963 to 7,666 nM) (Fig. 5l, m) . Similarly, by cholesteryl modification with \"GSGSG-PEG4\" linker, the inhibitory activity of EK1 could be significantly increased on PsV infection from SL-CoVs, including WIV1 and Rs3367, where EK1C4 showed potent inhibitory activity with IC 50 of 30.8 nM and 66.9 nM, respectively, which is 175-fold to 89-fold more potent than that of EK1 (Fig. 5n, o) .\n",
      "EK1C4 possesses the most potent inhibitory activity against in vitro infection by live coronaviruses We further assessed the inhibitory activity of EK1C4 against live HCoVs infection, including SARS-CoV-2, MERS-CoV, HCoV-OC43, HCoV-229E, and HCoV-NL63. Importantly, EK1C4 effectively blocked SARS-CoV-2 infection at the cellular level in a dosedependent manner with IC 50 of 36.5 nM, being 67-fold more active than that of EK1 (IC 50 = 2,468 nM) (Fig. 6a) , which is consistent to the results of cell-cell fusion assay and PsV infection assay mediated by SARS-CoV-2 S protein. Similarly, EK1C4 also showed more potent antiviral activity than EK1 against MERS-CoV, HCoV-OC43, HCoV-229E, and HCoV-NL63 infection with IC 50 of 4.2 nM, 24.8 nM, 101.5 nM and 187.6 nM, respectively, which are 190-, 62-, 42-and 19-fold more potent than those of EK1, respectively (Fig. 6b-e) . We next assessed the cytotoxicity of EK1C4 on various target cells and found that the half cytotoxic concentration (CC 50 ) was beyond 5 μM, which is the highest detection concentration of EK1C4 (Supplementary information, Fig. S3) . Therefore, the selectivity index (SI = CC 50 /IC 50 ) of EK1C4 is >136, suggesting that EK1C4 is a promising SARS-CoV-2 fusion inhibitor with little, or even no, toxic effect in vitro. Further, we explored the potent antiviral mechanism of EK1C4 and found that the complexes of EK1C4/SARS-HR1, EK1C4/MERS-HR1, and EK1C4/SARS-2-HR1 harbor higher stability and increased Tm values than those of the complexes formed by EK1 and HR1s (Supplementary information,  Fig. S4 ). These results suggested that increased antiviral activity of EK1C4 should be related to its increased binding affinity with HR1, but their detailed interactions require further studies.\n",
      "Intranasally applied EK1C4 showed strong protection of mice against HCoV-OC43 infection Recently, SARS-CoV-2 rapidly spread in humans by transmitting through the respiratory tract. Here, we used an HCoV-OC43 infection mouse model to further investigate the potential prophylactic effect of EK1C4 in clinical applications via the intranasal administration route (Fig. 6f, g) . In the OC43-infected mouse model, we treated newborn mice with EK1C4 at a single dose of 0.5 mg/kg 0.5 h (Pre-0.5), 2 h (Pre-2), 4 h (Pre-4), 12 (Pre-12) and 24 h (Pre-24) before challenging with HCoV-OC43 at 100 TCID 50 (50% tissue culture infectious dose). Starting from 4 days' post-infection (dpi), the body weight of mice in the viral control group decreased significantly along with 100% mortality (Fig. 6f,  g) . The final survival rates of mice in Pre-0.5, Pre-2, Pre-4, Pre-12 and Pre-24 groups were 100%, 100%, 100%, 83 and 0%, respectively (Fig. 6f, g) . In contrast, EK1 with a single dose of 20 mg/kg via nasal administration exhibited very promising prophylactic effect in the Pre-0.5 h and Pre-1 h groups, whereas all mice in the EK1-Pre-2 h group eventually died similarly to the mice in the viral control group (Supplementary information, Fig. S5 ). These results suggested that EK1C4 has better stability, antiviral activity, and prolonged half-life in the airway environment when compared with EK1.\n",
      "We then tested the therapeutic effect of EK1C4 0.5 h (Post-0.5 group) and 2 h (Post-2 group) after HCoV-OC43 infection (Fig. 6h,  i) . The Post-0.5 group and Post-2 group mice showed 100% and 16.7% survival rate, respectively, suggesting that EK1C4 harbors good therapeutic effect after a short period of HCoV-OC43 infection, possibly resulting from the establishment of HCoV-OC43 infection in mouse brain where EK1C4 cannot get through the blood brain barrier via nasal administration. 14 As shown in Supplementary information, Fig. S6 , high viral titer was detected in brains of all 5 mice in Pre-24 group and 4 out of 5 mice in Post-2 group, but was not detected in brain tissues of all mice in Pre-0.5, Pre-2, Pre-4, and Post-0.5 groups, while only moderate level of viral titer was detected in brain tissue in one of the 5 mice in Pre-12 group (Supplementary information, Fig. S6a, b) . Similar to those in the viral control mice, mice in Pre-24 and Post-2 groups exhibited similar histopathological changes in brain tissues, including vacuolation, degeneration, and infiltration. However, the brain tissues of mice in Pre-0.5, Pre-2, Pre-4, Pre-12 and Post-0.5 group as well as the normal control group showed no apparent histopathological changes (Supplementary information, Fig. S6c) . \n",
      "==========================================================================\n",
      "• The overall growth in infections is proportional to the ratio of these transition rates.\n",
      "Compartmental models reproduce observed features of outbreaks, such as a selflimiting period of nearly exponential growth to a single peak followed by gradual decrease as the pool of susceptibles (S) in the population is depleted.\n",
      "The simplest compartmental models have only a few parameters, and general characteristics of an outbreak are amenable to straightforward mathematical analysis. For example, consider the so-called S-I-R model: dS/dt −β S I ; dI /dt β S I − γ I ; dR/dt γ I .\n",
      "Because the product S · I vanishes when either S or I vanishes, these are fixed points of the dynamics. That is, when there are no susceptible or infectious people, the outbreak is over. However, the fixed point at S 0 is stable, while the one at I 0 is unstable. For a disease in which infected people may become immune, a perturbation out of the state with nobody infected (I 0) leads eventually to the state with no susceptibles remaining (S 0). Deterministic compartmental models have stochastic cousins such as the Reed-Frost model (Abbey 1952) , which allow for the possibility of stochastic outbreak extinction. In stochastic models, the outbreak may reach the I 0 fixed point in finite time without completely exhausting susceptibles (S > 0). Infectious disease outbreaks are essentially chain reactions in which each infectious person turns susceptibles into infecteds. The rate at which new infections occur is determined by a dimensionless combination of model parameters known as the reproductive number, R. The reproductive number can be interpreted as the mean number of people who will be directly infected by a typical infectious person over the course of illness. When R > 1, disease prevalence increases exponentially. For example, in the S-I-R model, the equation for I can be rewritten as\n",
      "At any instant, I is increasing or decreasing exponentially fast, depending on whether R β S/γ is greater or less than one. Typically, as in this simple model, there are three ways to reduce R:\n",
      "1. Reduce S, the number of susceptibles, usually through prophylaxis; 2. Reduce γ −1 , the duration of the infectious period, through treatment; 3. Reduce β, the rate of transmission, through physical or behavioral barriers.\n",
      "The basic reproductive number, R 0 , is the reproductive number in a situation in which the entire population is susceptible and no mitigating interventions are in place. Although the basic reproductive number is often treated as a biologically determined characteristic of the pathogen's transmissibility, it is actually a combination of biological, environmental, behavioral, and social characteristics, including relative transmissibility via different pathways (e.g., transmission by airborne droplets vs. transmission via surfaces or body fluids); local weather's effects on the ability of the virus to survive and/or infect new hosts; and the host's contacts with other potential hosts. Usually, only a few of these factors are included explicitly in compartmental models, limiting their ability to represent mitigating interventions. In particular, social distancing aims to reduce β by limiting the number of contacts between infectious and susceptible people in which transmission can occur.\n",
      "It is important to distinguish between \"flattening\" the epidemic curve, i.e., reducing I at all times, and \"moving the curve to the right,\" i.e., delaying the peak of I. The impact of the epidemic can be substantially mitigated if the demand for health care resources does not outstrip the supply. In analogy with firefighting, flattening the curve accomplishes this by slowing the rate of burn as in a controlled burn. Delaying the peak works by temporarily extinguishing the flames, perhaps leaving the embers glowing. Both reduce the effective R, sometimes through the same measures, and the fire will re-ignite in both when those measures are lifted. The difference lies in the shape of the epidemic curve afterward. Controlling, but not extinguishing, the burn reduces S and hence the reproductive number when the fire re-ignites. The overall infection attack rate AR-the fraction of the population that eventually becomes infected-is typically a sigmoidal function of R that is not very sensitive to R as long as it is above 1. For example, in the S-I-R model, R 0 −ln(1 − AR)/AR (Ball 1983) . Hence, flattening the curve does not significantly reduce the total number of people infected unless medical countermeasures can be developed during the delay it affords. In contrast, suppression works by driving infections to the (unstable) I 0 fixed point. The reproductive number when control measures are lifted in this case will be the same as before they were imposed. Suppression may reduce morbidity and mortality substantially, but only if it is global and simultaneous or continues long enough for pharmaceutical interventions to be developed. When illness severity depends on demographics, mitigation measures are most efficient when they are demographically targeted; suppression measures are most efficient when they are spatially and temporally targeted.\n",
      "Compartmental models can be elaborated (Hethcote 1994 ) by expanding the number of disease states (e.g., by adding compartments for exposed (E) or vaccinated (V )) or by partitioning the population by demographics such as age or location. Such models are well suited for representing demographically related heterogeneity in the course of illness or contact rates. The number of transition rates required to specify the model increases as the square of the number of partitions. At some point, depending on the modeler, it becomes natural to represent the model as a network of interacting partitions. Taken to the extreme, each host is in its own partition and the model is known as an individual-based model (Eubank 2004) .\n",
      "Individual-based models trade off the power to represent heterogeneity against computational complexity and the need for data to calibrate person-person contact rates as well as etiological parameters. Modelers have generally been slow to adopt individualbased models because of these challenges; rather, they felt that capturing individual heterogeneities was unnecessary. However, driven by important heterogeneities in the risk of HIV infection and the targeting of interventions, network models and individualbased models of small populations started to become popular around the turn of the century (Morris and Kretzschmar 1997; Black and Singer 1987) . Individual-based models can represent not only biological, but also social heterogeneities, which are increasingly important aspects of pandemics. It is difficult to draw clear conclusions without such methods because individuals' circumstances, perceptions, deliberations, and social conventions are rather centrally causal. Even a single individual's behavior can carry out very important consequences. Hence, due to management of information and policies affecting individuals' responses, biologically similar diseases and circumstances can have different outcomes that will not be captured by aggregate models.\n",
      "The importance of developing useful models of infectious disease dynamics became abundantly clear in 2001 when five anthrax-laced letters were mailed to prominent senators and to media outlets, killing five people. Worries about bioterrorism led to increased federal spending and the expansion of federal agencies focused on protecting the public. The 9/11 attacks prompted then Vice President Cheney to propose vaccinating the entire population of the USA against smallpox. An NIH-sponsored forum held in 2001 concluded that models could be of great value in assessing the outcomes of Cheney's and other strategies to reduce the threat of a smallpox attack (Kaplan et al. 2002; Halloran et al. 2002; Ferguson et al. 2003; Eubank 2004; Gani and Leach 2001) .There was both optimism and skepticism about how, when, and whether modeling could be a useful tool for informing policy decisions.\n",
      "As a result, the NIH National Institute for General Medical Sciences launched, in 2004, the Models of Infectious Disease Agent Study (MIDAS) to develop computational and mathematical models. An unusual clause in the MIDAS cooperative agreements stipulated that in the event of a national infectious disease emergency, the researchers would devote their attention to providing decision support to the Department of Health and Human Services. Then, as now, the emergence of a novel, highly lethal strain of influenza was perceived to be an imminent threat. MIDAS researchers prepared for their possible roles in an emergency by studying two questions of interest to pandemic preparedness planners:\n",
      "1. In the event of an outbreak in, for example, Southeast Asia, should we commit our resources to containing the outbreak there, or should we reserve them to mitigate its eventual spread to the USA? (Ferguson et al. 2005; Longini et al. 2005 ). 2. Given limited supplies of antivirals, how effective would a strategy of targeted, layered containment (TLC) be in controlling an epidemic in the USA until a vaccine could be developed? (Halloran et al. 2008) . Targeted, layered containment refers to implementation of several interventions that are individually ineffective, but potentially effective together.\n",
      "Three modeling groups examined these questions and came to similar conclusions. The model that Imperial College developed was used as the basis for the recent analysis of the dynamics of SARS-CoV-2, the viral agent that causes COVID-19.\n",
      "The results of these two studies were promising, but somewhat controversial at the time. The first study indicated that containment at the source was likely to succeed if outbreaks were detected early enough. Although the necessary global surveillance system did not exist, it seemed feasible. The TLC study indicated that a combination of thorough case detection and quarantine with isolation of contacts, careful targeting of antivirals, and aggressive social distancing measures adopted sufficiently early in an outbreak could, with high probability, slow the spread of disease enough so that health care resources would not be overwhelmed before sufficient quantities of pharmaceuticals could be manufactured and distributed.\n",
      "Controversy centered on the feasibility of implementing aggressive social distancing measures, which included self-isolation, quarantine, and liberal leave policies at work. A 2004 Institute of Medicine panel considered the question, reaching equivocal conclusions, including that existing models were very promising but inadequate, at that time, to determine the impact of widespread social distancing measures (Mahmoud 2006; Hatchett et al. 2007; Markel et al. 2008) .\n",
      "What's different now? Significantly, models have become more sophisticated, both computationally and in their relevance to policy decisions. The TLC models and results are certainly applicable to the current COVID-19 outbreak, although there are important differences:\n",
      "• Not only is no vaccine available for SARS-CoV-2, but also no existing antivirals are known to be effective in treating illness or reducing transmissibility. The social distancing part of TLC is the only part relevant to the current COVID-19 epidemic. • Unlike the influenza virus, SARS-CoV-2 is an emerging pathogen, not a novel variant of a well-known human pathogen. This has implications for public perceptions, development of diagnostic tests, and medical countermeasures. Moreover, the demographics of the illness, such as variations in the severity of illness, from asymptomatic to those requiring ventilator support, are almost unknown. • The organization of society is rapidly changing due to near-universal access to high-bandwidth telecommunications and social media, affecting both the ability to communicate how to implement social distancing correctly and the dissemination of false information.\n",
      "A beneficial result of these differences is that social distancing measures whose practicality was suspect then have been widely adopted today even in the absence of-or sometimes in opposition to-official guidance. School closings, community programs to support vulnerable people, state and county policies to require social distancing, as well as business and government support for telecommuting are widespread around the world.\n",
      "Unfortunately, the lack of testing capacity and our poor understanding of variations in the severity of illness have made early case detection, isolation of infectious people, and quarantine of their contacts impossible. Thus, the brunt of suppressing COVID-19 falls on social distancing and the associated efforts to manage and control individual and population behaviors. There is no doubt that sufficient social distancing can suppress an outbreak of a droplet-borne respiratory disease. However, there is also no doubt that society could not continue to function if everyone withdrew to the home for the several weeks necessary for complete suppression. Indeed, the very notion of a society assumes that personal survival does not depend solely on individual decisions.\n",
      "The Imperial College study addresses the question: If complete suppression is not feasible, what is the best strategy combining incomplete suppression and control that is feasible and leads to acceptable outcomes? The authors consider a strategy which cycles between maximum and minimum social distancing. Their most important assumptions are about the effectiveness of social distancing for reducing the reproductive number, the rate of case ascertainment, and the amount of infection before detection. The Imperial team, as usual, has taken great care to calibrate parameters of the disease model. To be sure, calibration has been hampered by the lack of testing, especially our poor understanding of the prevalence of asymptomatic infection, but the Imperial College team makes reasonable assumptions. However, the model's reliance on a simplified picture of social interactions limits its extensibility to counterfactuals. The general nature of conclusions based on such a model can be expected to be similar to those of a simple compartmental model.\n",
      "The Imperial team's results are bleak, but they are consistent with other models that make similar assumptions (medRxiv 2020). The TLC study did not consider how and when to lift intervention measures, so the questions addressed by this study demonstrate important progress. They appear to have been influential in convincing policy-makers in the UK and the USA of the threat posed by COVID-19. They have stimulated discussion of novel mitigation strategies, although, once again, there is skepticism about the feasibility of on-again and off-again interventions. Such strategies not only depend on effective communication and adherence, but also on the premise of zero delay between sensing (e.g., ICU occupancy) and reacting (social distancing). The natural delay between imposing restrictions and seeing a drop in confirmed cases (as seen in Wuhan) will create social hysteresis loops. Also, it will be difficult for most officials to relax controls in the certain knowledge that many people will be infected.\n",
      "Despite the progress, one must ask: Why we are still using models developed 15-20 years ago?\n",
      "The timely nexus of the MIDAS program, commodity high-performance computing, the development of network science as a recognizable discipline, and the widespread adoption of distributed sensors like mobile GPS devices (a.k.a. smart phones) led to a burgeoning interest in epidemiological modeling. Individual-based models provide a high-resolution, mechanistic explanation of the reproductive number that can support principled modeling of the impacts of hypothetical social distancing strategies. However, marshalling the available evidence into a scalable, customizable model that is easy for non-computer specialists to use and that addresses a wide range of questions about a variety of strategies remains a challenge. Only a few of the existing efforts in this area have so far been able to bring the most powerful models to bear on COVID-19, but there are indications that more will be available in the coming days.\n",
      "MIDAS is still in existence as of this writing, though the emergency clause has been dropped from its charter. The program has successfully nucleated a consortium of collaborating epidemiological modelers accustomed to playing an active role in decision support (Lofgren et al. 2014 ). CDC has now reached out to a stable of modelers to develop well-characterized models that inform CDC's policy decisions. Contagions of all sorts-economic, social, and infectious disease-are among the most urgent issues of our time. The government should re-emphasize research into contagion in its sociotechnical context in a renewed, invigorated, and broadened MIDAS-style thrust for the future.\n",
      "in the article's Creative Commons licence, unless indicated otherwise in a credit line to the material. If material is not included in the article's Creative Commons licence and your intended use is not permitted by statutory regulation or exceeds the permitted use, you will need to obtain permission directly from the copyright holder. To view a copy of this licence, visit http://creativecommons.org/licenses/by/4.0/.\n",
      "==========================================================================\n",
      "Cell & Bioscience *Correspondence: dyjin@hku.hk 1 School of Biomedical Sciences, The University of Hong Kong, 3/F Laboratory Block, 21 Sassoon Road, Pokfulam, Hong Kong Full list of author information is available at the end of the article SARS-CoV-2 as well as clinical characteristics of COVID-19 [6, 7] . In view of these findings and the urgent needs in the prevention and control of SARS-CoV-2 and COVID-19, in this commentary we highlight the most important research questions in the field from our personal perspectives.\n",
      "The first question concerns how SARS-CoV-2 is transmitted currently in the epicenter of Wuhan. In order to minimize the spreading of SARS-CoV-2, China has locked down Wuhan and nearby cities since January 23, 2020. The unprecedented control measures including suspension of all urban transportation have apparently been successful in preventing further spreading of SARS-CoV-2 to other cities. However, the number of confirmed cases in Wuhan continued to rise. It is therefore crucial to determine whether the rise is due to a large number of infected individuals before the lock down and/ or failure in the prevention of widespread intra-familial, nosocomial or community transmission. Based on the number of exported cases from Wuhan to cities outside of mainland China, it was predicted that there might be more than 70,000 individuals infected with SARS-CoV-2 on January 25, 2020 in Wuhan [8] . This should be determined experimentally in Wuhan as discussed below and it will reveal whether the real numbers of infected people and asymptomatic carriers are indeed underestimated severely. In addition to viral RNA detection, measurement of IgM and IgG antibodies as well as antigens would be very helpful. Several representative residential areas should be selected for detailed analysis so that a big picture can be deduced. The analysis should include all healthy and diseased individuals within the area with the aim of identifying people who have recovered from an infection or are having an active infection. The ratio of asymptomatic carriers should also be determined. The analysis should also be extended to detect RNA and antigen of influenza viruses. The activity of seasonal flu in Wuhan also reached a peak at the beginning of 2020. It will be of interest to see whether the flu season had ended and how many people having a fever now are actually infected with influenza virus. Precision control measures for SARS-CoV-2 should be tailor-designed for high-risk groups based on the results of this analysis. Differentiating people having a flu and preventing them from infecting with SARS-CoV-2 in a hospital setting might also be critical.\n",
      "The second question is how transmissible and pathogenic is SARS-CoV-2 in tertiary and quaternary spreading within humans. Continued transmission of SARS-CoV-2 in Wuhan suggests that tertiary and quaternary spreading has occurred. Compared to the primary and secondary spreading during which SARS-CoV-2 was transmitted from animal to human and from human to human, has the transmission rate increased and has the pathogenicity decreased? Alternatively, is the virus less transmissible after several passages in humans? Retrospective analysis of all confirmed cases in Wuhan should be very informative. The answers to the above questions hold the key to the outcome of the outbreak. If the transmission is weakened, the outbreak may ultimately come to an end at which SARS-CoV-2 is eradicated from humans. On the contrary, if effective transmission can be sustained, the chance is increased that SARS-CoV-2 will become another community-acquired human coronavirus just like the other four human coronaviruses (229E, OC43, HKU1 and NL63) causing common cold only. The basic reproductive number (R 0 ) of SARS-CoV-2 has been estimated to be 2.68, resulting in an epidemic doubling time of about 6.4 days [8] . Other estimates of R 0 could go up to 4, higher than that of SARS-CoV, which is lower than 2. Determining the real R 0 will shed light on whether and to what extent infection control measures are effective.\n",
      "The third question relates to the importance of asymptomatic and presymptomatic virus shedding in SARS-CoV-2 transmission. Asymptomatic and presymptomatic virus shedding posts a big challenge to infection control [1, 2] . In addition, patients with mild and unspecific symptoms are also difficult to identify and quarantine. Notably, the absence of fever in SARS-CoV-2 infection (12.1%) is more frequent than in SARS-CoV (1%) and Middle East respiratory syndrome coronavirus (MERS-CoV; 2%) infection [6] . In light of this, the effectiveness of using fever detection as the surveillance method should be reviewed. However, based on previous studies of influenza viruses and community-acquired human coronaviruses, the viral loads in asymptomatic carriers are relatively low [9] . If this is also the case for SARS-CoV-2, the risk should remain low. Studies on the natural history of SARS-CoV-2 infection in humans are urgently needed. Identifying a cohort of asymptomatic carriers in Wuhan and following their viral loads, clinical presentations and antibody titers over a time course will provide clues as to how many of the subjects have symptoms in a later phase, whether virus shedding from the subjects is indeed less robust, and how often they might transmit SARS-CoV-2 to others.\n",
      "The fourth question relates to the importance of fecal-oral route in SARS-CoV-2 transmission. In addition to transmission via droplets and close contact, fecal-oral transmission of SARS-CoV has been shown to be important in certain circumstances. Gastrointestinal involvement of SARS-CoV-2 infection and isolation of SARS-CoV-2 from fecal samples of patients are in support of the importance of fecal-oral route in SARS-CoV-2 transmission. Although diarrhea was rarely seen in studies with large cohorts [6, 7] , the possibility of SARS-CoV-2 transmission via sewage, waste, contaminated water, air condition system and aerosols cannot be underestimated, particularly in cases such as the Diamond Princess cruise ship with 3,700 people, among whom at least 742 have been confirmed to be infected with SARS-CoV-2 plausibly as the result of a superspreading event. Further investigations are required to determine the role of fecal-oral transmission in these cases and within the representative residential areas selected for detailed epidemiological studies in Wuhan as discussed earlier.\n",
      "The fifth question concerns how COVID-19 should be diagnosed and what diagnostic reagents should be made available. RT-PCR-based SARS-CoV-2 RNA detection in respiratory samples provides the only specific diagnostic test at the initial phase of the outbreak. It has played a very critical role in early detection of patients infected with SARS-CoV-2 outside of Wuhan, implicating that widespread infection of the virus had occurred in Wuhan at least as early as the beginning of 2020. This has also pushed the Chinese authority to acknowledge the severity of the situation. Due to difficulties in sampling and other technical issues in this test, at one point in early February clinically diagnosed patients with typical ground glass lung opacities in chest CT were also counted as confirmed cases in order to have the patients identified and quarantined as early as possible. ELISA kits for detection of IgM and IgG antibodies against N and other SARS-CoV-2 proteins have also been available more recently. This has made specific diagnosis of ongoing and past infection possible. Particularly, seroconversion for IgM antibodies normally occurs a few days earlier than that of IgG. ELISA reagents for detection of SARS-CoV-2 antigens such as S and N are still in urgent need, and would provide another test highly complementary to viral RNA detection.\n",
      "The sixth question concerns how COVID-19 should be treated and what treatment options should be made available. COVID-19 is a self-limiting disease in more than 80% of patients. Severe pneumonia occurred in about 15% of cases as revealed in studies with large cohorts of patients. The gross case fatality is 3.4% worldwide as of February 25, 2020. This rate is 4.4% for patients in Wuhan, 4.0% for patients in Hubei and 0.92% for patients outside of Hubei. The exceedingly high fatality in Wuhan might be explained by the collapse of hospitals, a large number of undiagnosed patients, suboptimal treatment or a combination of these. Up to date, we still do not have any specific anti-SARS-CoV-2 agents but an anti-Ebola drug, remdesivir, may hold the promise. As a nucleotide analog, remdesivir was shown to be effective in preventing MERS-CoV replication in monkeys. Severity of disease, viral replication, and lung damage were reduced when the drug was administered either before or after infection with MERS-CoV [10] . These results provide the basis for a rapid test of the beneficial effects of remdesivir in COVID-19. Other antiviral agents worthy of further clinical investigations include ribavirin, protease inhibitors lopinavir and ritonavir, interferon α2b, interferon β, chloroquine phosphate, and Arbidol. However, we should also bear in mind the side effects of these antiviral agents. For example, type I interferons including interferon α2b and interferon β are well known for their antiviral activity. Their beneficial effects at an early phase of infection are well expected. However, administration at a later stage carries the risk that they might worsen the cytokine storm and exacerbate inflammation. Notably, steroids have been experimentally used widely in the treatment of SARS and are still preferred by some Chinese physicians in the treatment of COVID-19. It is said to be capable of stopping the cytokine storm and preventing lung fibrosis. However, the window in which steroids might be beneficial to patients with COVID-19 is very narrow. In other words, steroids can only be used when SARS-CoV-2 has already been eliminated by human immune response. Otherwise, SARS-CoV-2 replication will be boosted leading to exacerbation of symptoms, substantial virus shedding, as well as increased risk for nosocomial transmission and secondary infection. In this regard, it will be of interest to determine whether the report of fungal infection in the lungs of some patients in Wuhan might be linked to misuse of steroids. Nevertheless, the screening of new pharmaceuticals, smallmolecule compounds and other agents that have potent anti-SARS-CoV-2 effects will successfully derive new and better lead compounds and agents that might prove useful in the treatment of COVID-19.\n",
      "The seventh question is whether inactivated vaccines are a viable option for SARS-CoV-2. The chance that SARS-CoV-2 will become endemic in some areas or even pandemic has increased in view of its high transmissibility, asymptomatic and presymptomatic virus shedding, high number of patients with mild symptoms, as well as the evidence for superspreading events. Thus, vaccine development becomes necessary for prevention and ultimate eradication of SARS-CoV-2. Inactivated vaccines are one major type of conventional vaccines that could be easily produced and quickly developed. In this approach, SARS-CoV-2 virions can be chemically and/or physically inactivated to elicit neutralizing antibodies. In the case of SARS-CoV and MERS-CoV, neutralizing antibodies were successfully and robustly induced by an inactivated vaccine in all types of animal experiments, but there are concerns about antibody-dependent enhancement of viral infection and other safety issues. While inactivated vaccines should still be tested, alternative approaches include live attenuated vaccines, subunit vaccines and vectored vaccines. All of these merit further investigations and tests in animals.\n",
      "The eighth question relates to the origins of SARS-CoV-2 and COVID-19. To make a long story short, two parental viruses of SARS-CoV-2 have now been identified. The first one is bat coronavirus RaTG13 found in Rhinolophus affinis from Yunnan Province and it shares 96.2% overall genome sequence identity with SARS-CoV-2 [3] . However, RaTG13 might not be the immediate ancestor of SARS-CoV-2 because it is not predicted to use the same ACE2 receptor used by SARS-CoV-2 due to sequence divergence in the receptor-binding domain sharing 89% identity in amino acid sequence with that of SARS-CoV-2. The second one is a group of betacoronaviruses found in the endangered species of small mammals known as pangolins [4] , which are often consumed as a source of meat in southern China. They share about 90% overall nucleotide sequence identity with SARS-CoV-2 but carries a receptor-binding domain predicted to interact with ACE2 and sharing 97.4% identity in amino acid sequence with that of SARS-CoV-2. They are closely related to both SARS-CoV-2 and RaTG13, but apparently they are unlikely the immediate ancestor of SARS-CoV-2 in view of the sequence divergence over the whole genome. Many hypotheses involving recombination, convergence and adaptation have been put forward to suggest a probable evolutionary pathway for SARS-CoV-2, but none is supported by direct evidence. The jury is still out as to what animals might serve as reservoir and intermediate hosts of SARS-CoV-2. Although Huanan seafood wholesale market was suggested as the original source of SARS-CoV-2 and COVID-19, there is evidence for the involvement of other wild animal markets in Wuhan. In addition, the possibility for a human superspreader in the Huanan market has not been excluded. Further investigations are required to shed light on the origins of SARS-CoV-2 and COVID-19.\n",
      "The ninth question concerns why SARS-CoV-2 is less pathogenic. If the reduced pathogenicity of SARS-CoV-2 is the result of adaptation to humans, it will be of great importance to identify the molecular basis of this adaptation. The induction of a cytokine storm is the root cause of pathogenic inflammation both in SARS and COVID-19. SARS-CoV is known to be exceedingly potent in the suppression of antiviral immunity and the activation of proinflammatory response. It is therefore intriguing to see how SARS-CoV-2 might be different from SARS-CoV in interferon-antagonizing and inflammasome-activating properties. It is noteworthy that some interferon antagonists and inflammasome activators encoded by SARS-CoV are not conserved in SARS-CoV-2. Particularly, ORF3 and ORF8 in SARS-CoV-2 are highly divergent from ORF3a and ORF8b in SARS-CoV that are known to induce NLRP3 inflammasome activation. ORF3 of SARS-CoV-2 is also significantly different from the interferon antagonist ORF3b of SARS-CoV. Thus, these viral proteins of SARS-CoV and SARS-CoV-2 should be compared for their abilities to modulate antiviral and proinflammatory responses. The hypothesis that SARS-CoV-2 might be less efficient in the suppression of antiviral response and the activation of NLRP3 inflammasome should be tested experimentally.\n",
      "Much progress has been made in the surveillance and control of infectious diseases in China after the outbreak of SARS-CoV in 2003. Meanwhile, virological research in the country has also been strengthened. The new disease report and surveillance system did function relatively well during the 2009 pandemic of swine flu. New viral pathogens such as avian influenza virus H7N9 and severe-fever-with-thrombocytopenia syndrome bunyavirus have also been discovered in recent years [11, 12] , indicating the strength and vigor of Chinese infectious disease surveillance and virological research. However, the ongoing outbreak of SARS-CoV-2 has not only caused significant morbidity and mortality in China, but also revealed major systematic problems in control and prevention of infectious diseases there. Unfortunately, many of the lessons from the 2003 outbreak have not been learned. Importantly, disease control professionals, practicing physicians and scientists are disconnected in the fight against SARS-CoV-2 and COVID-19. In addition, important decisions were not made by experts in the field. Hopefully, these issues will be dealt with swiftly and decisively during and after the outbreak.\n",
      "Above we have discussed the two possibilities that this outbreak will unfold. If SARS-CoV-2 is not eliminated from humans through quarantine and other measures, it can still be eradicated by vaccination. If it attenuates to become another community-acquired human coronavirus causing mild respiratory tract disease resembling the other four human coronaviruses associated with common cold, it will not be a disaster either. Before SARS-CoV-2 attenuates further to a much less virulent form, early diagnosis and improved treatment of severe cases hold the key to reduce mortality. We should remain vigilant, but there are grounds for guarded optimism. Redoubling our research efforts on SARS-CoV-2 and COVID-19 will solidify the scientific basis on which important decisions are made.\n",
      "==========================================================================\n",
      "U ntil the very end of 2019, there were six coronaviruses known to cause disease in humans. Four of these result in little more than a common cold and are endemic around the world. The viruses known as human coronavirus (hCoV)-229E, hCoV-HKU1, hCoV-NL63, and hCoV-OC43 are of little concern at a global public health level. The other two, however, have caused more widespread concern. In 2002, severe acute respiratory syndrome coronavirus (SARS-CoV) emerged in the human population. In a matter of months, this virus from a bat that transmitted via a palm civet to infect a human in the Guangdong province of China infected over 8,000 people, killing roughly 10% (1) . In 2003, SARS-CoV infections stopped, and the virus has not been seen since. A second epidemic coronavirus, known as Middle East respiratory syndrome coronavirus (MERS-CoV), emerged in 2012. Like the SARS-CoV outbreak, MERS-CoV started with a patient suffering pneumonia and came from a zoonotic event (this time from a bat via a camel to a human) (1) . However, MERS-CoV has shown far more limited human-to-human transmission than SARS-CoV. Since 2012, there have been roughly 2,500 cases of MERS-CoV, mostly confined to regions of the Middle East. While case numbers are low for MERS-CoV, there is a high case fatality ratio (CFR) of approximately 35%, making this virus one of the deadliest human pathogens. Coronaviruses that infect humans all appear to have respiratory transmission, making them pathogens of pandemic potential. The end of 2019 saw the emergence of a novel human coronavirus that is rapidly spreading around the global and has a higher degree of lethality than the endemic coronaviruses, though not to the level of SARS-CoV or MERS-CoV. The virus was initially named 2019-nCoV but is now termed SARS-CoV-2 and causes the disease COVID-19 (coronavirus disease 2019). At the time of writing, there have been over 115,000 cases and over 4,000 deaths.\n",
      "The first case of COVID-19 was reported to the WHO by Chinese authorities on 31 December 2019 as a result of a patient suffering pneumonia in Wuhan City, Hubei Province, China. Over the following days, more patients were suspected to be suffering the same disease, and by 9 January, a novel coronavirus had been detected and the sequence was published online shortly thereafter (2). The 2 months since emergence of SARS-CoV-2 have demonstrated the rapid pace at which a virus can spread and which science can develop. After an initial lag phase, cases of COVID-19 followed a closely exponential curve. The vast majority of cases are, at the time of writing, still from mainland China. However, over 100 other countries have reported cases. Most cases outside China have been associated with travel to that country, but more clusters of cases are now being detected without travel history. In this article, we will discuss what has already been learned about the virus and will then outline 10 key questions and directions of study for this novel coronavirus.\n",
      "SARS-CoV-2 virology. The novel virus is in the Coronaviridae family and therefore shares common features of this family. Coronaviruses have large (ϳ30-kb) singlestranded, positive-sense RNA genomes. The genome can be roughly divided into a 5= two-thirds and a 3= third. The first two-thirds of the genome code for two large polyproteins (pp1a and pp1ab from ORF1a and ORF1b) which are proteolytically cleaved into the nonstructural proteins (nsp1 to -16) that are essential for production of new viral genetic material. The remainder of the genome codes for the structural proteins and carries the accessory genes that produce virions and alter the host response, respectively (1) .\n",
      "As the naming may suggest, the newly emerged coronavirus is closely related to SARS-CoV, sharing roughly 80% identity at a nucleotide level. The closest relative of SARS-CoV-2 appears to be a virus found in bats known as RaTG13-2013 (96% identity), suggesting that, similarly to SARS-CoV, the virus entered the human population from a spillover event either directly from a bat or through an animal intermediate (3). Early studies on SARS-CoV-2 have shown further similarities with its namesake virus in that the spike protein utilizes ACE2 as its cell surface receptor (3, 4). ACE2 is found on ciliated epithelial cells of the human lungs, and this receptor utilization influences the tropism of these viruses.\n",
      "Based on the speed at which the outbreak of COVID-19 has developed, SARS-CoV-2 appears to spread easily in the human population. Many health care workers have been infected, and more clusters of cases are being detected with each passing day. The reproductive number (R 0 ) of the virus is currently thought to be around 3 (5), again suggesting the potential for sustained human-to-human transmission that appears to be through respiratory droplets and potentially a fecal-oral route (6) .\n",
      "While much can be gleaned from our general understanding of coronavirus biology and some of the early studies on SARS-CoV-2, many pertinent questions exist, for which we will outline 10 here.\n",
      "(i) What is the animal reservoir/intermediate host?\n",
      "The bat virus termed RaTG13-2013 has 96% identity with SARS-CoV-2 (3), strongly pointing toward a shared common ancestor and suggesting that the novel human pathogen originated in bats. When the zoonoses first occurred remains an interesting question. Both SARS-CoV and MERS-CoV also have common ancestry with viruses found in bats. Both of these viruses had an intermediate host for transmission into humans, these being palm civets and camels for SARS-and MERS-CoV, respectively (1). There has been a suggestion that pangolins may be the intermediate host for SARS-CoV-2 (7), but this remains to be established. Knowing the intermediate host is an important step for understanding how SARS-CoV-2 became a human virus and how to potentially curtail further spillover events. Knowing that MERS-CoV transmits to humans via dromedary camels has allowed for the development of a camel vaccine to potentially limit spread to humans (8, 9) . Approval for novel vaccines in animal hosts is far easier than in humans. Moreover, knowing the intermediate host allows for measures to be taken to limit human contact with the animal (e.g., not selling meat from these animals in wet food markets), which can again help reduce the chances of future spillover events. However, with the spread of SARS-CoV-2 being so extensive, whether these measures would be effective at limiting human cases of COVID-19 may be unlikely.\n",
      "(ii) What is the true case count (mild symptoms/asymptomatic carriers) and lethality? Since the early stages of the COVID-19 outbreak, the case fatality ratio (CFR) has been around 2% to 4%. This is a much lower CFR than those seen for SARS and MERS, which are around 10% and 35%, respectively. However, many people remain in severe conditions in hospitals as a result of COVID-19, which could see the CFR increase. With that said, the true burden of disease in the human population is currently unknown. A recent report on approximately 44,000 Chinese patients showed that 81% develop only mild symptoms, while 14% develop severe symptoms and 5% become critically ill (10) . This study suggests that even among the people with symptoms severe enough to be tested for SARS-CoV-2, there can still be mild symptoms, which may suggest that many other people have symptoms mild enough to not require testing. This would make the true case count far larger and, by extension, the CFR lower. Early estimates suggested that the true case count may be as much as 10 times higher than was being reported (11) . Establishing the true disease burden in the human population will take time and retrospective serological survey and is a secondary aspect in relation to controlling the current disease outbreak. But it remains an interesting question to be determined moving forward.\n",
      "(iii) What comorbidities are associated with severe disease outcome and how do these affect viral pathogenesis? As more cases of COVID-19 occur, it is becoming established that the most severe cases and mortality are associated with underlying health conditions. The most common associated comorbidities are pulmonary disease, diabetes, and old age (10) . Interesting questions as to how these comorbidities impact viral pathogenesis are open for investigation. More severe SARS cases were also associated with age, and work in mice has demonstrated this (12) (13) (14) . Severe MERS is associated with diabetes and other underlying health conditions (15, 16) , and again, work in mice has shown that diabetes can impact the immune response to infection, leading to increased pathogenesis (17) . It will be interesting to see whether SARS-CoV-2 infection is similarly impacted.\n",
      "(iv) Can spread of SARS-CoV-2 be contained/will the virus persist in the human population? Four of the seven human coronaviruses are endemic around the world but cause little more than the common cold. Currently, SARS-CoV-2 is a global epidemic, with the potential to be considered a pandemic. In one scenario, this outbreak may be contained, and the virus never seen again, like SARS-CoV. Alternatively, the virus may become an endemic virus with seasonality like influenza and the other human coronaviruses. However, it is too early to know whether SARS-CoV-2 spread will be affected by changing weather conditions. Nearly all cases of COVID-19 have been in China, where it is winter; whether cases will decrease as temperatures increase in the Northern Hemisphere, as is seen for influenza, remains to be seen.\n",
      "(v) What in vitro and in vivo systems can be used for research? A very important question for understanding SARS-CoV-2 infection is what systems can be used for study. Early studies on SARS-CoV-2 determined that the cellular receptor for the virus is ACE2, similarly to SARS-CoV (3). This knowledge helps to develop an understanding of susceptibility of certain in vitro cell lines to infection with the novel virus. The likelihood is that if cells were not permissive for growth of SARS-CoV, they probably will not support growth of SARS-CoV-2. As more labs around the world start researching the new virus, a better understanding of the permissive cell lines will be developed, an important step to testing therapeutic options and developing a better understanding of basic aspects of SARS-CoV-2 virology. The more challenging aspect of lab-based research on the novel human coronavirus will be developing small-animal models. The early research on receptor usage suggests the virus is not able to infect cells expressing mouse ACE2 (3), thus making a mouse model potentially challenging. Whether expression of human ACE2 in mouse lungs using adenovirus or mouse adaptation of SARS-CoV-2 can develop appropriate models, as was done for SARS-CoV (18) , is a pressing question. Whether other small-animal models can be used also needs to be investigated. These models will be essential for thoroughly testing therapeutic candidates and vaccine strategies and understanding the pathology of disease.\n",
      "(vi) Can we find therapeutic options? As the case count and death toll of the epidemic continue to increase, it becomes imperative to identify therapeutic options for COVID-19. Once in vitro and in vivo systems have been established, these tests can proceed. Drug repurposing may prove to be the best strategy for quick development of novel therapeutic options. A novel therapeutic being tested is remdesivir (19, 20) , which in combination with chloroquine has been found to inhibit SARS-CoV-2 growth in vitro (21) . It was recently announced by the NIH that remdesivir would be entering phase 3 clinical trials in humans. Chloroquine has also been reported to be effective in patients in China (22) . A combination of lopinavir and ritonavir is also under investigation in human cases of COVID-19 in China. Many more people will need to be treated with these drugs to determine true efficacy, but they are promising leads.\n",
      "(vii) Can a vaccination strategy be developed? An effective strategy to contain virus spread is vaccination. During the SARS-CoV and MERS-CoV outbreaks, much research went into developing vaccine strategies (23) . However, the cessation of the SARS epidemic and the minimal human-to-human transmission of MERS-CoV have curtailed the testing of these interventions in humans. With the emergence of SARS-CoV-2, a new impetus into development of coronavirus vaccines has been generated. There are several platforms being used to develop vaccines against SARS-CoV-2, including spike subunit, DNA, RNA, whole-virion, and nanoparticle vaccines. Future testing in cells and animal models will determine which is most likely to be successful in humans.\n",
      "(viii) What is the host response to SARS-CoV-2 and pathology of COVID-19? After an initial push to look for therapeutic and vaccine options to help treat and prevent COVID-19, it will be important to better understand the host response to infection and the pathology of disease. A prerequisite step will of course be the development of appropriate animal models. Better understanding of how SARS-CoV-2 causes pathology and the way in which the host responds may help direct further therapeutic avenues. Understanding how comorbidities such as diabetes impact the host response to infection will also be important to better understand COVID-19.\n",
      "(ix) Why does SARS-CoV-2 appear to spread more rapidly than SARS-CoV or MERS-CoV in the human population? Compared to the two other highly pathogenic coronaviruses that have emerged in the 21st century, SARS-CoV-2 appears to spread very well in the human population. Why this is the case will be interesting to understand. SARS-CoV and SARS-CoV-2 appear to use the same cell receptor of ACE2, suggesting a similar tropism, yet the novel coronavirus appears to spread much more efficiently simply based on the number of cases and the speed at which they have emerged. Whether proteolytic cleavage sites, such as a furin site in the spike protein of SARS-CoV-2, influence this will be important to determine for this outbreak and for the next. There are many other coronaviruses that have been found in bats that have potential for spread in the human population (24) (25) (26) . Developing an understanding of the difference in the dynamics of spread between SARS-CoV-2 and the other coronaviruses will provide insights to understand which viruses may pose the most threat for zoonotic transmission and mass spread in the human population, leading to the final question. . . (x) What will be the next coronavirus to enter the human population? The past 18 years have seen the emergence of three novel coronaviruses that have caused significant morbidity and mortality in the human population. Continued surveillance of viruses in animal populations and understanding the factors that influence zoonotic events are essential for attempts to limit future outbreaks.\n",
      "Conclusion. The year 2020 has started with a rapid, global epidemic of the virus SARS-CoV-2, causing the disease COVID-19. The virus appears to have transmitted to humans in a zoonotic event from bats. There are many questions to investigate regarding all aspects of SARS-CoV-2 virology and epidemiology. These questions range from how the virus emerged to how it spreads and how the disease manifests. But most pressingly as the global outbreak continues to grow, can we develop effective vaccine and therapeutic strategies to treat not only this epidemic but any future coronavirus spillover events?\n",
      "==========================================================================\n",
      "The 2019 novel coronavirus (2019-nCoV), originally outbreaking from Wuhan China, has transmitted in an extremely short period to 25 countries and infected over 31 000 individuals as of Feb 06, 2020, causing an international alarm. Basic scientific research has achieved significantly in the investigation of viral origination [1, 2] , transmission and evolution [3] , and unprecedented public health control actions in China have been activated and effectively prevented the otherwise dramatic spread. The 2019-nCoV virus seems more infectious in its public transmission capacity compared to the well-known 2003 SARS virus in spite of the unavailability of convincingly scientific evidence. The mechanism of viral transmission is still worthy of further exploration.\n",
      "Currently, one urgent and critical challenge is to treat infected patients and save their lives. Several studies have roughly described the overall clinical features of 2019-nCoV patients [4, 5] . However, the more specific and classified clinical characteristics of the infected patients still require further investigation, particularly for those with severe symptoms, which is roughly estimated to be approximately 15-20 percent of totally confirmed cases based on the local data in our hospital. Clinically, for those severe patients, the main symptoms of 2019-nCoV pneumonia are fever, decreased white blood cell and lymphocyte count, increased C reaction protein and abnormally expressed cytokines [6] .\n",
      "One remaining question to be resolved is whether the 2019-nCoV virus can replicate in extra-pulmonary sites, which might account for the deteriorated clinical manifestation. In this study, we investigated whether the patients with severe clinical symptoms exhibited special profiles of virus replication or/and distribution compared to those only with mild symptoms.\n",
      "Patients, who were confirmed to be infected by the 2019-nCoV virus, were firstly enrolled in or transferred to Guangzhou Eighth People's Hospital for treatment purposes. This study followed the guideline of the Ethics Committee of Guangzhou Eighth People's Hospital. All blood, pharyngeal swab, and anal swab samples were collected for diagnostic purposes in the laboratory and our study added no extra burden to patients. Viral RNA was extracted with Nucleic Acid Isolation Kit (Da'an Gene Corporation, Cat: DA0630) on an automatic workstation Smart 32 (Da'an Gene Corporation) following the guidelines. Real-time reverse transcriptional polymerase chain reaction (RT-PCR) reagent (Da'an Gene cooperation, Cat DA0930) was employed for viral detection per the protocol. In brief, two PCR primer and probe sets, which target orf1ab (FAM reporter) and N (VIC reporter) genes separately, were added in the same reaction tube. Positive and negative controls were included for each batch of detection. Samples were considered to be viral positive when either or both set(s) gave a reliable signal(s).\n",
      "All patients had pneumonia-based diseases but with diversified clinical manifestation. To simplify data analysis, the patients were only classified as either mild or severe clinical symptom groups based on the guideline newly released by Chinese government. Patients who were with at least one of the following symptom should be diagnosed to be severe case, 1) distress of respiratory with respiratory rate > = 30/min; 2) Oxygen saturation < = 93% in the rest state, and 3) arterial oxygen tension (PaO₂) over inspiratory oxygen fraction (FIO₂) of less than 300 mm Hg. In the blood detection cohort (Figure 1 (A)), patients who had at less one serum sample measurement with the PCR method were included. In the 57, 6 cases were detected to be blood positive, all of them (100%) were severe in symptom requiring special care attention, and the blood of the rest 51 cases was without detectable virus in the blood, only 12 of them (23.5%) were severe cases. The ratio of severe symptoms between these two groups was significantly different (p value = 0.0001). In the anal swab cohort (Figure 1 (B)), 11 of 28 cases were detected to be anal swab positive, 8 of them (72.7%) were with severe symptoms, which was significantly higher than that 4 (23.5%) of the rest 17 cases without detectable virus in anal were severe cases.\n",
      "Fortunately, two cases with detectable virus both in blood and anal swab cohort were recorded. Patient 1 (Figure 2 (A)) was admitted to ICU after enrollment evaluation and was highly suspected infection with 2019-nCoV because of his recent travelling from Wuhan and of confirmed pneumonia by radiographic diagnosis with 5-day fever and 1-day continuous dry coughing. He was then confirmed to be infected by the 2019-nCoV virus on illness day 6 by CDC. High concentrations of the viral RNA were detected in the pharyngeal swabs on illness days 5 (Ct = 17 + 25), 7, 8 (Ct = 25 + 26), and 11 (Ct = 15 + 25). In the blood, no viral RNA was detected on day 5 but the sample on day 6 gave a weak positive signal (Ct = Neg+39), and then the signal was gone again on day 8. On day 9, a low level of viral RNA (Ct = 36 + 41) was detected again in the blood. On day 12, the blood lost signal again. A high concentration of virus RNA (Ct = 23 + 27) was detected in the anal sample on day 13, on the day the 2019-nCoV virus was not detected in the pharyngeal swab. Unfortunately, he was transferred out to another hospital after an emergency expert consultation.\n",
      "Patient 2 (Figure 2 (B)), who had a clear infection history and started fever 5-day ago and dry coughing 2-day ago, was admitted with clinically highly suspect of 2019-nCoV infection, considering the radiographical diagnosis which indicated clear pneumonia in the bilateral lung lobes. The virus was detected in his blood on illness day 7 (Ct = 34 + 36) and 8 (Ct = 38 + 38). His infection was also informed by the CDC on day 8. Because his disease advanced very fast, he was transferred to the ICU ward for special medical care requirements on day 9, on which day high titers of virus (Ct = 25 + 36) were detected in the pharyngeal sample. Importantly, virus RNA was detected in all pharyngeal (Ct = 23 + 24), blood (Ct = 34 + 39) and anal (Ct = 24 + 29) samples on day 10. He was transferred out to another hospital after an emergency expert consultation.\n",
      "Finally, we described here the four patients with detectable serum viral RNA. Patient 3 (Figure 3(A) ) was transferred to the ICU directly on illness day 11 because of his severe condition, the 2019-nCoV virus was laboratory detected both in pharyngeal (Ct = 30 + 30) and blood samples (Ct = 37 + 39) on day 12, And his infection was confirmed by CDC on day 13. Pharyngeal samples were PCR positive on days 14 and 17 and became negative on day 22. Patient 4 (Figure 3(B) ) was transferred to the ICU ward on the illness day 6 with a CDC confirmation. His disease advanced pretty fast and became severe on day 7 and he was transferred to ICU after his blood sample was detected to be virus-positive (Ct = 32 + 37). On day 9, he was transferred out. Patient 5 (Figure 3(C) ) was admitted on illness day 4 and his blood sample was virus-positive (Ct = 38 + Neg) on day 6. Her disease progressed rapidly to a severe stage within the next 3 days. Patient 6 ( Figure 3 (D)) with a clear history of virus infection was confirmed to be infected on infection day 7. Viral RNA was detected in his blood sample on day 9, one day ahead of his transfer into ICU. As his condition worsens, he was transferred out on day 13.\n",
      "In this retrospective study, we analyzed the PCR data of virus detection in different tissues in our laboratory. Firstly, our observation indicated that the presence of viral RNA outside of the respiratory tract might herald the severity of the disease and alarm the requirement of special care. In the blood test cohort, all the 6 infected patients were in (or later progressed to) severe disease stage when serum viral RNA became detectable, which showed a significant difference compared to the blood negative group (p = 0.0001). Patient 2 (Figure 2(B) ), 5 (Figure 3 (C)) and 6 ( Figure 3(D) ) all had detectable viral RNA in the serum before they progressed to the clinical severe symptom stage. Unfortunately, we missed the earlier time points of patient 1 (Figure 2(A) ) and 3 (Figure 3(A) ) who were directly admitted to ICU on transfer to our hospital because of severe condition, of patient 4 (Figure 3(B) ) who had serum sample collected one day post the diagnosis of severe illness. We, fortunately, observed high serum viral load in serum within their severe illness stage. In the anal swab cohort, we found that the presence of virus RNA in the anal digestive tract was also positively correlated with disease severity (p = 0.0102). The 3 patients detected with anal virus RNA but in mild stage should be monitored whether they will progress to the severe stage. We have summarized the information of approximately 70 percent of the patients in Guangzhou city, and the study represented nearly the whole picture of this region. However, the virus outbroke in such an emergence, allowing no delay in waiting for more patients to further confirm the findings.\n",
      "Secondly, a high concentration of viral RNA in anal swabs suggested the digestive tract might be one extrapulmonary site for virus replication. For patient 1, a high concentration of viral RNA (Ct = 23 + 27, on day 13) was detected in anal swab but not in pharyngeal (the same day) and blood (1 d ahead). For patient 2, higher concentrations of viral RNAs were detected in anal swab (Ct = 24 + 39) and pharyngeal swab (Ct = 23 + 24) than in the blood (Ct = 34 + 39) on the same day. Angiotensin-converting enzyme 2 (ACE2) still is one of the receptors for 2019-nCoV attachment and entry [2] . Intensive structural analysis of the S protein of 2019-nCoV with the SARS-Coronavirus suggested that several critical residues in the viral spike protein might confer favourable interaction with human ACE2 [7] . Of note, ACE2 is also abundantly present in humans in the epithelia of the small intestine besides the respiratory tract and is ubiquitously present in endothelial cells [8] , which might provide possible routes of transmission, and might account for the high transmission capacity of the new virus. We propose that rampant coronavirus replication in pulmonary alveolus results in the breakdown of the alveolar vessel and the subsequent virus leakage into the blood flow, through which the virus is disseminated across the whole body. Then the virus succeeds in establishing reinfection in the digestive tract by using the highly expressed ACE2 receptor, which exacerbated the disease vice versa. Bat originated coronavirus was found to replicate in the swine digestive tract recently, also suggesting the potential replication possibility in the human digestive tract [9] . Nevertheless, confirmation of virus transmission through the digestive tract warrants further virus isolation from the anal swab in high safety level lab.\n",
      "Unfortunately, in our study, we did not collect stool samples from patients and did not pursue viral RNA in the stool. But we believe the existence of virus RNA in the stool samples from these patients because that a large amount of viral RNA was detected in anal swabs and that viral RNA had also been detected in a case reported from the United States [10] . Also, we didn't collect sputum and bronchoalveolar lavage fluid for virus detection because that the dry coughing characteristic of patients infected with 2019-nCoV prevents producing enough amount of sputum and that bronchoalveolar lavage fluid collection requires a sophisticated operation which increases virus exposure possibility of care providers to high concentrations of virus-containing aerosol.\n",
      "In summary, we find that the presence of viral RNA in the blood and anal swab is positively correlated with the severe disease stage and that early monitoring of virus RNA in blood and the digestive tract on top of the respiratory tract might benefit the disease prediction.\n",
      "==========================================================================\n",
      "Coronaviruses are enveloped positive sense RNA viruses ranging from 60 nm to 140 nm in diameter with spike like projections on its surface giving it a crown like appearance under the electron microscope; hence the name coronavirus [3] . Four corona viruses namely HKU1, NL63, 229E and OC43 have been in circulation in humans, and generally cause mild respiratory disease.\n",
      "There have been two events in the past two decades wherein crossover of animal betacorona viruses to humans has resulted in severe disease. The first such instance was in 2002-2003 when a new coronavirus of the β genera and with origin in bats crossed over to humans via the intermediary host of palm civet cats in the Guangdong province of China. This virus, designated as severe acute respiratory syndrome coronavirus affected 8422 people mostly in China and Hong Kong and caused 916 deaths (mortality rate 11%) before being contained [4] . Almost a decade later in 2012, the Middle East respiratory syndrome coronavirus (MERS-CoV), also of bat origin, emerged in Saudi Arabia with dromedary camels as the intermediate host and affected 2494 people and caused 858 deaths (fatality rate 34%) [5] .\n",
      "Origin and Spread of COVID-19 [1, 2, 6] In December 2019, adults in Wuhan, capital city of Hubei province and a major transportation hub of China started presenting to local hospitals with severe pneumonia of unknown cause. Many of the initial cases had a common exposure to the Huanan wholesale seafood market that also traded live animals. The surveillance system (put into place after the SARS outbreak) was activated and respiratory samples of patients were sent to reference labs for etiologic investigations. On December 31st 2019, China notified the outbreak to the World Health Organization and on 1st January the Huanan sea food market was closed. On 7th January the virus was identified as a coronavirus that had >95% homology with the bat coronavirus and > 70% similarity with the SARS-CoV. Environmental samples from the Huanan sea food market also tested positive, signifying that the virus originated from there [7] . The number of cases started increasing exponentially, some of which did not have exposure to the live animal market, suggestive of the fact that human-to-human transmission was occurring [8] . The first fatal case was reported on 11th Jan 2020. The massive migration of Chinese during the Chinese New Year fuelled the epidemic. Cases in other provinces of China, other countries (Thailand, Japan and South Korea in quick succession) were reported in people who were returning from Wuhan. Transmission to healthcare workers caring for patients was described on 20th Jan, 2020. By 23rd January, the 11 million population of Wuhan was placed under lock down with restrictions of entry and exit from the region. Soon this lock down was extended to other cities of Hubei province. Cases of COVID-19 in countries outside China were reported in those with no history of travel to China suggesting that local human-to-human transmission was occurring in these countries [9] . Airports in different countries including India put in screening mechanisms to detect symptomatic people returning from China and placed them in isolation and testing them for COVID-19. Soon it was apparent that the infection could be transmitted from asymptomatic people and also before onset of symptoms. Therefore, countries including India who evacuated their citizens from Wuhan through special flights or had travellers returning from China, placed all people symptomatic or otherwise in isolation for 14 d and tested them for the virus.\n",
      "Cases continued to increase exponentially and modelling studies reported an epidemic doubling time of 1.8 d [10] . In fact on the 12th of February, China changed its definition of confirmed cases to include patients with negative/ pending molecular tests but with clinical, radiologic and epidemiologic features of COVID-19 leading to an increase in cases by 15,000 in a single day [6] . As of 05/03/2020 96,000 cases worldwide (80,000 in China) and 87 other countries and 1 international conveyance (696, in the cruise ship Diamond Princess parked off the coast of Japan) have been reported [2] . It is important to note that while the number of new cases has reduced in China lately, they have increased exponentially in other countries including South Korea, Italy and Iran. Of those infected, 20% are in critical condition, 25% have recovered, and 3310 (3013 in China and 297 in other countries) have died [2] . India, which had reported only 3 cases till 2/3/ 2020, has also seen a sudden spurt in cases. By 5/3/2020, 29 cases had been reported; mostly in Delhi, Jaipur and Agra in Italian tourists and their contacts. One case was reported in an Indian who traveled back from Vienna and exposed a large number of school children in a birthday party at a city hotel. Many of the contacts of these cases have been quarantined.\n",
      "These numbers are possibly an underestimate of the infected and dead due to limitations of surveillance and testing. Though the SARS-CoV-2 originated from bats, the intermediary animal through which it crossed over to humans is uncertain. Pangolins and snakes are the current suspects.\n",
      "Epidemiology and Pathogenesis [10, 11] All ages are susceptible. Infection is transmitted through large droplets generated during coughing and sneezing by symptomatic patients but can also occur from asymptomatic people and before onset of symptoms [9] . Studies have shown higher viral loads in the nasal cavity as compared to the throat with no difference in viral burden between symptomatic and asymptomatic people [12] . Patients can be infectious for as long as the symptoms last and even on clinical recovery. Some people may act as super spreaders; a UK citizen who attended a conference in Singapore infected 11 other people while staying in a resort in the French Alps and upon return to the UK [6] . These infected droplets can spread 1-2 m and deposit on surfaces. The virus can remain viable on surfaces for days in favourable atmospheric conditions but are destroyed in less than a minute by common disinfectants like sodium hypochlorite, hydrogen peroxide etc. [13] . Infection is acquired either by inhalation of these droplets or touching surfaces contaminated by them and then touching the nose, mouth and eyes. The virus is also present in the stool and contamination of the water supply and subsequent transmission via aerosolization/ feco oral route is also hypothesized [6] . As per current information, transplacental transmission from pregnant women to their fetus has not been described [14] . However, neonatal disease due to post natal transmission is described [14] . The incubation period varies from 2 to 14 d [median 5 d] . Studies have identified angiotensin receptor 2 (ACE 2 ) as the receptor through which the virus enters the respiratory mucosa [11] .\n",
      "The basic case reproduction rate (BCR) is estimated to range from 2 to 6.47 in various modelling studies [11] . In comparison, the BCR of SARS was 2 and 1.3 for pandemic flu H1N1 2009 [2] .\n",
      "Clinical Features [8, [15] [16] [17] [18] The clinical features of COVID-19 are varied, ranging from asymptomatic state to acute respiratory distress syndrome and multi organ dysfunction. The common clinical features include fever (not in all), cough, sore throat, headache, fatigue, headache, myalgia and breathlessness. Conjunctivitis has also been described. Thus, they are indistinguishable from other respiratory infections. In a subset of patients, by the end of the first week the disease can progress to pneumonia, respiratory failure and death. This progression is associated with extreme rise in inflammatory cytokines including IL2, IL7, IL10, GCSF, IP10, MCP1, MIP1A, and TNFα [15] . The median time from onset of symptoms to dyspnea was 5 d, hospitalization 7 d and acute respiratory distress syndrome (ARDS) 8 d. The need for intensive care admission was in 25-30% of affected patients in published series. Complications witnessed included acute lung injury, ARDS, shock and acute kidney injury. Recovery started in the 2nd or 3rd wk. The median duration of hospital stay in those who recovered was 10 d. Adverse outcomes and death are more common in the elderly and those with underlying co-morbidities (50-75% of fatal cases). Fatality rate in hospitalized adult patients ranged from 4 to 11%. The overall case fatality rate is estimated to range between 2 and 3% [2] .\n",
      "Interestingly, disease in patients outside Hubei province has been reported to be milder than those from Wuhan [17] . Similarly, the severity and case fatality rate in patients outside China has been reported to be milder [6] . This may either be due to selection bias wherein the cases reporting from Wuhan included only the severe cases or due to predisposition of the Asian population to the virus due to higher expression of ACE 2 receptors on the respiratory mucosa [11] .\n",
      "Disease in neonates, infants and children has been also reported to be significantly milder than their adult counterparts. In a series of 34 children admitted to a hospital in Shenzhen, China between January 19th and February 7th, there were 14 males and 20 females. The median age was 8 y 11 mo and in 28 children the infection was linked to a family member and 26 children had history of travel/residence to Hubei province in China. All the patients were either asymptomatic (9%) or had mild disease. No severe or critical cases were seen. The most common symptoms were fever (50%) and cough (38%). All patients recovered with symptomatic therapy and there were no deaths. One case of severe pneumonia and multiorgan dysfunction in a child has also been reported [19] . Similarly the neonatal cases that have been reported have been mild [20] .\n",
      "==========================================================================\n",
      "Contact lenses represent a highly effective form of vision correction for an estimated 140 million people worldwide, with a very low incidence of either microbial keratitis or symptomatic inflammatory keratitis in strict daily wear of contact lenses [11, 12] . It is well established that contact lens wear, and particularly overnight contact lens wear, increases the risk of bacterial keratitis [12] [13] [14] [15] [16] . It is also well established that viral conjunctivitis is the overall most common type of conjunctivitis [17] . Yet, the eye, ocular surface and tear film employ a variety of host-defense mechanisms such as physical barriers and immunological strategies that help reduce the chance of infection in the cornea and conjunctiva.\n",
      "A PubMed search on 24th March 2020 found no evidence that contact lens wearers are more likely to contract COVID-19 than spectacle wearers. The likely belief for this being a concern relates to the fact that SARS-CoV-2 has been isolated in tears, albeit to date, infrequently [18] and also that the virus is known to be transferred by hand contact, and thus could be transferred to contact lenses during their application and removal. In one report, positive tear and conjunctival secretions occurred in a single patient who developed conjunctivitis from a cohort of thirty patients with novel coronavirus pneumonia [18] . In another report [19] , 64 samples of the tear film from 17 patients with COVID-19 showed no evidence of SARS-CoV-2 by viral culture or reverse transcriptase polymerase chain reaction (RT-PCR). Further, the frequency of conjunctivitis in patients with COVID-19 reported to date is low, at < 3% [18, 20] , although it has been suggested that CoVs could possibly be transmitted by aerosol contact with the conjunctiva in patients with active disease [18, [20] [21] [22] [23] [24] . However, the question of whether COVID-19 can occur through conjunctival exposure remains unknown [7] . Recent papers concluded that \"The eye is rarely involved by human CoV infection, nor is it a preferred gateway of entry for human CoVs to infect the respiratory tract [25] .\" and that \"The results from this study suggests that the risk of SARS-CoV-2 transmission through tears is low [19] .\" Thus, to date, there are no findings that support concerns that healthy patients are more at risk of contracting COVID-19 if they are contact lens wearers.\n",
      "It could be argued that COVID-19 is so new that such data would not yet exist. However, the lack of evidence from previous outbreaks of coronavirus disease, including SARS, suggests that the risk of developing COVID-19 from contact lens wear is low. It is informative to consider viral diseases that are transmitted by direct contact and which could be used as a surrogate for evaluating the risks of COVID-19 in contact lens wearers. Viruses that are associated with human infections have been found on ocular surface tissues or in the tear film. These include, but are not limited to, both DNA and RNA viruses such as adenovirus, other coronaviruses, herpes virus, human immunodeficiency virus, influenza virus, and Zika virus [18, 22, [26] [27] [28] [29] . That said, these viruses are typically found at low levels and it is generally believed that they are not transmitted from the ocular surface (with the exception of adenoviral infections).\n",
      "One ocular viral infection to consider is epidemic keratoconjunctivitis (EKC), caused by the non-enveloped DNA virus adenovirus. This disease is highly contagious, spreads rapidly through direct contact, accounts for 65-90 % of viral conjunctivitis cases [30, 31] and has been implicated in actively transmitted disease in eyecare clinics and other common healthcare settings where there is close contact between healthcare providers and patients [32] [33] [34] [35] [36] [37] [38] . A review of the literature appears to show no increased risk for EKC in those wearing contact lenses versus non-lens wearers, with a reported frequency of 3-15 % in contact lens wearers [32, 36] . Indeed, it has been proposed that bandage silicone hydrogel contact lenses can be used to help treat adenoviral infection in patients [39] . There are conflicting data on herpes simplex keratitis (HSK, another DNA virus, but one that is enveloped) and contact lens wear. One prospective cohort study and one retrospective case control study showed no association between contact lens wear and HSK occurrence or reoccurrence, whereas one retrospective study and a case report did suggest an association [40] [41] [42] [43] .\n",
      "Another virus for which there has been concern as it relates to the ocular surface is the human immunodeficiency virus (HIV), which causes acquired immunodeficiency syndrome (AIDS), with an estimated prevalence of 1.1 million in the US [44] . HIV is an RNA virus, but a different form of RNA virus called a retrovirus, and has an envelope. HIV has been detected in most ocular tissues, including the cornea, conjunctiva and tear film of patients with AIDS [45] . It has also been recovered from the surface of a contact lens [46] . It is presently believed, however, that HIV has not been transmitted via ocular surface tissues or the tear film. The CDC specifically states, \"HIV is not spread by saliva, tears, or sweat that is not mixed with the blood of an HIV-positive person.\" [47] Research has also indicated that with appropriate rubbing of contact lenses, most contact lens care systems would likely prevent the chance of the lens transferring the virus to the eye and resulting in HIV [48] . However, because of the immunodeficiency and compromise, it is recognized that AIDS is associated with opportunistic infections that can put an individual at risk for ocular infection [49] . HIV has been identified as a risk factor for hospitalization for corneal ulceration. While daily contact lens wear (not overnight wear) can be safe in a patient with AIDS, it is important that the eyecare practitioner play an active role in managing the patient and their ocular health as it relates to safe contact lens wear. A CD4+ count indicating immunocompetence may be key in guiding these decisions. On March 20, 2020, the CDC released information related to patients with AIDS and precautions as it relates to COVID-19 [50] . Of course, there are many differences in these viruses in terms of their structural biology, vectors and other factors. However, with limited current data comparing contact lens wearers versus non-lens wearers in patients with COVID-19, this remains the best evidence available of disease spread via viral contaminants that are highly infectious and potentially spread by direct contact, and an exhaustive literature search would not support the apprehension that contact lens wear is a concern.\n",
      "Coronaviruses are capable of producing a wide spectrum of ocular disease, including anterior segment diseases such as conjunctivitis and anterior uveitis, and posterior segment conditions like retinitis and optic neuritis [51] . Current understanding about how SARS-CoV-2 spreads is based largely on what is known about other similar coronaviruses. Currently, two types of SARS-CoV-2 have been detected (L and S) [52] . The L form is suspected to be the derived variant of the ancestral S type, which is suggested to be more aggressive and is significantly more prevalent in Wuhan, China (where COVID-19 was first reported) than other places, although its frequency of isolation has decreased since January 2020 [52] . The virus spreads primarily via person-to-person contact through respiratory droplets produced when an infected person coughs or sneezes [53, 54] . However, it also could be spread if people touch an object or surface with virus present from an infected person, and then touch mucosal surfaces such as their mouth, nose or eyes [54] [55] [56] . Given that contact lens wearers must touch their eyes when applying and removing their contact lenses, it is understandable this has been raised as a potential concern for increasing their risk of exposure to the virus. The consistent, unambiguous advice to protect individuals from the virus is to employ frequent handwashing with soap and water. The lipid envelope of the virus can be emulsified by surfactants such as those found in simple soap, which kills the virus [54, 57] . Best practice advice for contact lens wearers includes the same instructions that should be imparted under all situations, regardless of the COVID-19 pandemic. When using contact lenses, careful and thorough hand washing with soap and water followed by hand drying with unused paper towels (generally known as 'kitchen roll' in the United Kingdom) is paramount. For contact lens wearers, this should occur before every contact lens application and removal, and such practice reduces the risks of infection and inflammatory responses and is highly effective [58] . It follows that as long as contact lens wearers are using correct hand hygiene techniques, they should be limiting any virus transmission to their ocular surface, and indeed, as already stated, there is currently no evidence that they are at any higher risk of developing COVID-19 infection than non-wearers.\n",
      "==========================================================================\n",
      "Social distancing, or practices which reduce the probability of contact between infected and non-infected people, has emerged as the primary tool for reducing the spread of the novel coronavirus that causes COVID-19.(1; 2; 3) As of March 2020, other methods for fighting infectious disease are mostly unavailable or ineffective due to the characteristics of this pathogen: (1) it is an emergent virus to which there is no pre-existing immunity, available vaccine, or proven treatment;\n",
      "(2) it spreads easily through human contact and airborne droplets, leading to exponential growth in cases; and\n",
      "(3) those affected may be contagious during a prolonged asymptomatic incubation period, and many never develop symptoms distinctive from a mild flu, making it difficult to identify and isolate the infected before they pass the virus to others. (4) Broad public mandates for social distancing are also vital to help manage a key multiplier of COVID-19 fatality rates: a substantial fraction of patients require lengthy (on average 8 bed days) intensive care unit (ICU) support to survive acute respiratory distress, and uncontrolled spread of the disease is expected to generate at its peak far greater demand for ICU care than existing capacity can meet.(5; 2; 6) Public health experts have pleaded with officials to quickly mandate social distancing to flatten the curve of coronavirus infections -that is, reduce the peak caseload -before exponential case growth leads to hundreds of thousands or millions of deaths. In particular, it is important to keep peak levels low to prevent the fatality rate from rising to the levels seen in areas where hospitals are overwhelmed with cases. (7) In the United States, the emergence of the coronavirus has created a natural experiment in which elected officials face incredibly urgent and far-reaching policy decisions for which they typically have no personal experience or expertise, and for which the history of policy examples is either mere days old, or so dated as to be largely unknown except by public health experts. The most significant policy decisions of this kindboth in terms of their potential to mitigate the epidemic and their economic consequences -are mandates for social distancing through restrictions on public gatherings; closure or restriction of schools, restaurants, and other non-essential businesses; and orders for the public to stay at home. (8) Under the federal and state constitutions, the key actions fall to executives, and particularly to governors, whose powers in public health emergencies are typically singular and extensive.\n",
      "In particular, the exponential growth of cases of an emergent virus has unique implications for policy making. Estimates of the uncontrolled doubling-time of COVID-19 cases vary and are complicated by the slow rollout of effective testing in the US, but many studies find doubling times in the range from four to seven days.(9; 10; 3; 2) These estimates correspond to alarming growth rates of 10.4% to 26.0% per day. Even if the true doubling time of infections prior to social distancing is as long as a week, delaying these measures just three days would, all else equal, raise the eventual peak number of cases by more than 30%, potentially increasing total deaths by thousands or more in a given state.\n",
      "Evidence from the 1918 influenza pandemic underscores the stakes for elected officials. In that earlier natural experiment, American cities faced similar decisions regarding social distancing policies. For example, Philadelphia decided to hold a parade welcoming soldiers returning from World War I, while St. Louis cancelled its parade, and ultimately experienced one eighth as many deaths per capita during that wave of influenza. The height of the infection in Saint Louis was two months later than in Philadelphia, and was far lower, with deaths peaking at fifty per hundred thousand rather than 250 per hundred thousand.(11; 12) Shortly after community transmission of the coronavirus was discovered in Washington and California in late February 2020, public health experts drew the comparison between Philadelphia and Saint Louis, hoping to inspire policymakers to promote social distancing. Nevertheless, in an echo of the decisions made a century before, there are significant differences in the timing of governors' decisions to mandate social distancing. For instance, on 6 March 2020, after Kentucky had its first confirmed case of COVID-19, Governor Andy Beshear (D) immediately called a state of emergency, encouraged social distancing, and closed bars and restaurants ten days later. But when neighboring Tennesse uncovered its first confirmed case of COVID-19 on March 5th, Governor Bill Lee (R) waited until 12 March to declare a state of emergency and finally closed restaurants and bars on 22 March. (13) Why did governors' responses to a sudden, shared threat differ? Under normal circumstances, governors' policy decisions are shaped by the national leaders and agenda of their political party and the demands of their own constituents, particularly those in their partisan base. Governors may also look to innovative peers and neighbors for examples to follow. But the fast-moving nature of the coronavirus threat, the need to rely on experts to understand complex scientific material, and uncertainty about the nature and scope of the threat might scramble all or some of these usual motivations. pandemic politics · Adolph, Amano, Bang-Jensen, Fullman & Wilkerson The public health case for mandatory social distancing in the United States developed quickly in the wake of the first reports of community transmission on 26 February in Washington state. One might expect social distancing measures to quickly follow across the fifty states, perhaps more quickly in states with greater number of confirmed cases. But mandating social distancing is a difficult decision for any political leader. If these measures are successful in preventing widespread mortality, many members of the public who suffered the costs of these mandates may never fully comprehend the benefits. Indeed, the more successful the intervention, the more likely it will appear to many as an \"overreaction.\" Moreover, some states faced higher potential costs from these policies: closing schools is more painful in states where more children depend on schools for subsidized lunches and shutting restaurants and public places is more difficult in states highly dependent on tourism. (14) More generally, states with more limited economic resources are likely far less able to weather the deprivations caused by economic shutdowns, or to expand social insurance protections during mandated social distancing, and thus may be considerably more reluctant to take these steps.\n",
      "But the greatest barrier to swift social distancing measures seems political. Numerous surveys have found significant partisan divides in public opinion about the severity of the coronavirus threat. (15; 16) Countering the message from public health leaders, the White House downplayed COVID-19. On 4 March 2020, President Trump insisted that COVID-19 was similar to the flu; two days later, he falsely claimed the situation in Italy was improving, and that the US was handling coronavirus much better than other industrialized countries. As late as 15 March 2020, with reported cases rising rapidly, Trump still maintained that the epidemic within the US was under control.(17) Similar messages filled news sources relied on by Republican voters. Fox Business host Trish Reagan insisted the pandemic warnings were a Democratic hoax and another effort to impeach the President, while Sean Hannity, another Fox News personality, validated the conspiracy theory that coronavirus was an effort by the \"deep state\" to \"manipulate markets, suppress dissent and push mandated medicines.\" (18) For governors already reluctant to impose draconian measures, this messaging both provided cover for inaction and may have reduced public support, particularly among Republican voters. And as social distancing measures have spread, Republican leaders, including Trump, have been more vocal in their desire to quickly rollback these measures to restore the economy.\n",
      "Moving beyond general impressions of the determinants of social distancing poses challenges: States with Democratic governors and voters tend to be both richer than Republican states, and to be more urban and coastal. The seemingly quicker action of pandemic politics · Adolph, Amano, Bang-Jensen, Fullman & Wilkerson \"blue states\" could simply be a result of the coronavirus first emerging in cities like Seattle, San Francisco, and New York, as well as in states better able to endure prolonged social distancing mandates. Likewise, disentangling the role of Republican governors from Republican voters is challenging, though some blue states, like Maryland, have Republican governors (and vice versa).\n",
      "To investigate why some states acted quickly to implement social distancing while others took longer, we identified five critical areas of social distancing policy -recommendations and restrictions against public gatherings, mandatory school closures, restrictions on the normal operation of restaurants, closure of non-essential businesses, and stay-at-home orders -and collected the dates each state first announced such measures. Our primary objective is to explain the variation in timing of these measures across states using an event history analysis. This approach allows us to statistically separate the impact of having a Republican governor or a Republican electorate from a series of potential confounders, including the number of confirmed COVID-19 cases in the state, state income, and cases and policies in neighboring states.\n",
      "Our findings are unambiguous: political variables are the strongest predictor of the early adoption of social distancing policies. All else equal, states with Republican governors and Republican electorates delayed each social distancing measure by an average of 2.70 days (95% CI: 2.49 to 2.88), a far larger effect than any other factor, including state income per capita, the percentage of neighboring states with mandates, or even confirmed cases in each state.\n",
      "==========================================================================\n",
      "We report here a familial cluster of unexplained pneumonia due to 2019-nCoV. Six of seven family members had radiological changes of viral pneumonia, among whom five (patients 1, 2, 4, 5, and 7) tested positive for 2019-nCoV by RT-PCR. Five patients (patients 1, 2, 3, 4, and 7) had associated symptoms at the time of presentation. Complete genome sequences of the two strains from patients 2 and 5 showed almost complete nucleotide identity with each other, and were closest to the bat SARS-related coronaviruses reported in 2018. Several possible scenarios of transmission exist. The first and most likely scenario is that one virologically documented patient with pneumonia (patient 1) acquired the infection from a Wuhan hospital while visiting their relative (relative 1) and then patients 1-5 transmitted the virus to patient 7 on returning to Shenzhen. The second scenario is that patients 1-5 have directly acquired the infection from relatives 2-5 and transmitted it to patient 7 on returning to Shenzhen. But this scenario is less likely because patients 1-5 developed symptoms before relatives 2-5. The third scenario is that patients 1-5 acquired the infection from an unknown common source in Wuhan and transmitted it to patient 7 when back in Shenzhen. For the patients' relatives (relatives 2-5), they could have acquired the infection from the hospital or the community, although no virological confirmation was possible and they had no animal contacts, game food, or visits to the Huanan sea food wholesale market. Notably, patient 1 or patient 3 who had visited Wuhan hospital might have been infectious before symptom onset because patient 5 was shedding virus without symp toms. These findings suggested that person-to-person transmission and intercity spread of 2019-nCoV by air travel are possible, supporting reports of infected Chinese travellers from Wuhan being detected in other geographical regions. Many of the epidemiological, clinical, laboratory, and radiological features of this novel coronavirus pneumonia were similar to those of SARS patients in 2003. 8, 15, 16 The incubation period of the Wuhan pneumonia appeared similar to that of SARS. The attack rate is rather high, up to 83% if we included the five patients (patients 1, 2, 3, 4, and 5) with unexplained ground-glass radiological changes of the lungs on CT scan as the case definition in this family outbreak after visiting Wuhan. A rather unexpected finding from the lung CT scan of patient 5, which was done on the insistence by the nervous parents, also showed ground-glass pneumonic changes. Patient 5 was later confirmed virologically to have an asymptomatic infection. Although asymptomatic patients with SARS were uncommon, they were documented in our retrospective study in the minor 2004 SARS outbreak after reopening of the wildlife market in Guangzhou. 17 Notably, patients 3 and 4 were afebrile at presentation to our hospital. These cryptic cases of walking pneumonia might serve as a possible source to propagate the outbreak. Further studies on the epidemiological significance of these asymptomatic cases are warranted.\n",
      "The symptoms of this novel pneumonia were also nonspecific. The three oldest patients in this family with comorbidities had more severe systemic symptoms of generalised weakness and dry cough. As expected, they might have decreased total white blood cell, lymphocyte, or platelet counts, with also extended activated thromboplastin time and increased C-reactive protein level. The multifocal ground-glass changes on lung CT scan were typical of viral pneumonia. Their lung involvement was also more diffuse and extensive than those of the younger patients, whose blood test results were largely normal. Patient 4, who had a history of chronic sinusitis, might have a bacterial superinfection because he had a productive cough instead of a dry cough. He also had a high white blood cell count, although the bacterial test was negative.\n",
      "Interestingly, the two younger adults (patients 3 and 4) initially had diarrhoea, which was also reported in 10·6% (15 of 142) of our SARS patients at presentation; 18 however, the subsequent faecal samples of patients 3 and 4 that were collected 9-10 days after symptom onset were negative for the virus after the diarrhoea had long subsided. Up to 30% of patients with Middle East respiratory syndrome coronavirus (MERS-CoV) also have diarrhoea. 19 Sub genomic RNA indicating viral replication was seen in faecal samples of patients with MERS. 20 Moreover, MERS-CoV was shown to survive in simulated fed gastrointestinal juice and the ability to infect intestinal organoid models. 20 Diarrhoea and gastrointestinal involvement are well known in coronavirus infections of animals and humans. 21 On microbiological testing, we did not find any evidence of other known respiratory viral or bacterial infections, but specific RT-PCR assays for two widely separated genome targets-the highly conserved RdRp and the highly variable S genes-were positive for this novel 2019-nCoV. Two complete genome sequences of this novel coronavirus were recovered from the naso pharyngeal swab of patient 2 and the sputum sample of patient 5 with an earlier cycle threshold value indicating a higher viral load. Patient 2 had more underlying comorbidities and clinical features and radiological findings of more severe disease than the other patients included here. Moreover, the serum sample of patient 2 was also positive for 2019-nCoV, which might indicate some virus spillover from the more severely infected lung into the systemic circulation, as previously reported in patients with SARS. 22 Sputum samples were available for testing from patients 5 and 7. The cycle threshold values of the sputum samples were 8-13 cycles earlier than those of throat swabs, indicating higher viral loads detected in the lower respiratory tract. This finding is consistent with the observations in patients with MERS who had higher viral loads in lower respiratory tract samples than in upper respiratory tract samples. 23 Thus, repeat testing of upper respiratory tract samples or testing of lower respiratory tract samples are warranted in clinically suspected cases with an initially negative result in nasopharyngeal or throat swab. Unlike our patients in the 2003 SARS outbreak, 22 we found no evidence of viral shedding in urine and faeces in these six patients. However, improved systematic serial collection and testing of an increased number of such samples is warranted.\n",
      "Coronaviruses are enveloped, positive-sense, singlestranded RNA viruses, capable of rapid mutation and recombination. They are classified into alphacoronaviruses and betacoronaviruses, which both have their gene source from bats and are mainly found in mammals such as bats, rodents, civets, and humans; and gammacoronaviruses and deltacoronaviruses, which both have their gene source from birds and are mainly found in birds. [24] [25] [26] Phylogenetic analysis of the PCR amplicon fragments from five of our six patients and the complete virus genome of 29·8 kilobases from patients 2 and 5 showed that the virus is a novel betacoronavirus belonging to the lineage B or subgenus sarbecovirus, which also includes the human SARS coronavirus. The genome of our virus strains are phylo genetically closest to the bat SARS-related coronaviruses first found in the Chinese horseshoe bats, Rhinolophus sinicus, captured in Zhoushan, Zhejiang province, China, between 2015 and 2017. 27 Notably, the first SARS-related coronavirus was also discovered in the R sinicus found in Hong Kong, and central and south China in 2005. 28, 29 The full virus genome had about an 89% nucleotide identity with bat-SL-CoVZC45, which makes it a new species. Moreover, the Spike protein of our virus has an 84% nucleotide identity with the bat-SL-CoVZC45 coronavirus and an 78% nucleotide identity with the human SARS coronavirus. Although substantial genetic differences exist between this and other beta coronaviruses, cross reactions in RT-PCR or antibody assays for SARS or other betacoronaviruses are possible if the primers and antigenic epitopes are not carefully chosen, as previously reported. 30 Further studies on the optimal diagnostic tests are warranted.\n",
      "In summary, an outbreak of novel coronavirus is ongoing at Wuhan in the winter of 2019-20. Similar to the 2003 SARS outbreak in Guangzhou, Wuhan is also a rapidly flourishing capital city of the Hubei province and the traffic hub of central China. Moreover, both outbreaks were initially connected to wet markets where game animals and meat were sold. In the case of SARS, personto-person transmission was efficient and super-spreading events had led to major outbreaks in hotels and hospitals. Learning from the SARS outbreak, which started as animal-to-human transmission during the first phase of the epidemic, all game meat trades should be optimally regulated to terminate this portal of transmission. But as shown in this study, it is still crucial to isolate patients and trace and quarantine contacts as early as possible because asymptomatic infection appears possible (as shown in one of our patients), educate the public on both food and personal hygiene, and alert health-care workers on compliance to infection control to prevent superspreading events. Unlike the 2003 SARS outbreak, the improved surveillance network and laboratory capability of China was able to recognise this outbreak within a few weeks and announced the virus genome sequences that would allow the development of rapid diagnostic tests and efficient epidemiological control. Our study showed that person-to-person transmission in family homes or hospital, and intercity spread of this novel coronavirus are possible, and therefore vigilant control measures are warranted at this early stage of the epidemic.\n",
      "==========================================================================\n",
      "The novel nature of the COVID-19 pandemic presents many challenges to gynecologists working to optimize the care of their patients. No part of our practice has been more disrupted than the ability to offer timely procedures to our patients with gynecologic surgical indications.\n",
      "Despite efforts to limit elective surgery during the COVID-19 pandemic, urgent and emergent procedures must still be performed. For many of these urgent procedures, such as ruptured ectopic pregnancy, hemorrhagic ovarian cysts, or ovarian torsion, laparoscopy may offer the best surgical approach and outcomes for the patient. However, some have suggested that laparoscopic procedures should be avoided, and laparotomy procedures be universally employed when a patient is COVID-19 positive or status is unknown due to concerns about aerosolization of viral particles via the pneumoperitoneum. We strongly disagree with this premise. Based on best available evidence, we concur with both the recent U.S. joint professional society statement on minimally invasive gynecology during the COVID-19 pandemic (1) as well as the European joint society statements (2) endorsing laparoscopy as a safe surgical approach in this setting.\n",
      "SARS-CoV-2, the virus that causes COVID-19, is a respiratory pathogen. Both RNA and infectious virus are detected primarily from human upper and lower respiratory tract specimens.\n",
      "The COVID-19 virions are approximately 0.125 micron in size and are most commonly transmitted as larger (> 20 microns) respiratory water droplets. The virus may also be aerosolized and transmitted in smaller droplets (< 10 microns) in gas suspension. Particle size has implications for suspension time and filtration requirements. SARS-CoV-2 RNA has also been detected in blood and stool specimens, but it is unknown if infectious virus is present in these extrapulmonary specimens (3) . To date, no studies have identified SARS-CoV-2 in surgical smoke, and even if found, it is not known whether these viral particles are infectious.\n",
      "Additionally, while viral RNA may be detected in the blood, no transmission of COVID-19 has been documented through this route (4) .\n",
      "What have we learned from other viral epidemics and surgical risks? That the risk of viral disease transmission with laparoscopy is virtually zero. Although the viral DNA of blood-borne viral pathogens, such as hepatitis B and human immunodeficiency virus (HIV), have been detected in surgical plume after the use of surgical energy (e.g. electrosurgery, laser and harmonic scalpel, there is no evidence to indicate that use of electrosurgery during laparoscopy increases the risk of disease transmission via the surgical plume or pneumoperitoneum (5,6).\n",
      "Further, surgery in patients with HIV and hepatitis B and C has been ongoing for decades, without documented increased risk of transmission from the surgical plume or laparoscopic pneumoperitoneum to surgeons, anesthesiologists or operating room personnel. In fact, when possible, laparoscopic techniques that significantly minimize exposure of surgeons to bloodborne pathogens is far preferred to laparotomy.\n",
      "Additionally, although COVID-19 is a novel disease, evidence from similar respiratory viruses, such as influenza and other coronaviruses (Severe Acute Respiratory Syndrome (SARS) and\n",
      "Middle East Respiratory Syndrome (MERS-CoV)), have not shown evidence of disease transmission through surgical plume or laparoscopic gas during prior viral epidemics or annual flu seasons (7) . The bottom line is: there is no compelling data to support the notion that respiratory or blood-borne infectious viruses are transmitted through the surgical plume or aerosolized laparoscopic gas.\n",
      "One must also consider the adverse impact of adopting overarching policy changes (such as \"laparotomy is better during the COVID-19 pandemic because of theoretical aerosolization risks\") based on erroneous assumptions. What is not theoretical is that converting more cases to laparotomy during the COVID-19 pandemic will have dire downstream consequences, including prolonged hospital stays and bed utilization, an increased likelihood of intensive care unit stay, greater risk of patient harm from surgical complications (including undesirable pulmonary issues during a respiratory viral crisis), and greater risks of COVID-19 exposure for both the patient and health care providers. Given the lack of data to support the claim that COVID-19 virus spreads via the laparoscopic smoke plume or pneumoperitoneum, one cannot justify the increased utilization of precious resources, greater number of surgical complications, and infectious exposure risks to patient and caregivers that would result if laparoscopic approaches were abandoned during this period.\n",
      "Nevertheless, despite this reassuring data, precautions should be considered to minimize any potential or theoretical risks during the COVID-19 pandemic. There are several relevant safety considerations for clinical teams who participate in gynecologic surgery during this time.\n",
      "Laparoscopy most commonly involves general anesthesia, with the associated intubation, extubation, and mechanical ventilation, which may produce airborne viral droplets in a COVID-19 positive patient. General anesthesia is not contraindicated in COVID-19 confirmed patients, but the surgical team should minimize exposure to airborne virus during intubation and extubation and OR personnel should don adequate PPE including face shields, N95 filtered masks if available, gowns and gloves. Even if it is assumed that limited viral particles may become airborne via pneumoperitoneum during laparoscopy, the operating room is one of the safest places in the hospital to avoid COVID-19 exposure, given the air filtration/circulation in most standard ORs, the sterile field, and surgeons and anesthesiologist will be wearing PPE.\n",
      "Several techniques can be used to minimize the potential risk of airborne viral particles at the time of surgery via any route, and specifically during laparoscopy. Performing laparoscopy with lower intraabdominal CO2 pressures and minimizing the use of energy will limit the production of surgical plume and pneumoperitoneum. Additionally, the use of a smoke evacuation/filtration system allows for controlled release and filtration of the surgical plume. Ideally, gas and plume evacuation and filtration is accomplished with the use of ultralow particulate air filter (ULPA) rated to screen particles of 0.1 micron in diameter (e.g., the ConMed Airseal or Stryker Pneumoseal). In contrast, high efficiency air filters (HEPA) are only required to filter particles of 0.3 micron in diameter. Of note, N95 masks are rated to filter out at least 95% of very small (0.3 micron) particles. (3) While smoke evacuation and filtration systems can be used both at the time of laparoscopy and laparotomy, laparoscopy offers the unique advantage of being able to almost entirely contain the surgical plume in the abdominal cavity. In conjunction with tightly fitting laparoscopic ports, an evacuation/filtration system can be used to minimize release of potential airborne virus into the operating room environment, while simultaneously evacuating the surgical smoke actively or passively. It is important to avoid sudden release of the pneumoperitoneum. This is most relevant prior to tissue extraction, whether via a minilaparotomy or vaginally, and at the completion of the surgery. At these times, the abdominal cavity should be actively desufflated through a filtration system or with a simple piece of tubing attached to a suction canister, rather than releasing the pneumoperitoneum into the operating room. Use of a containment bag for tissue extraction can help maintain seal and may limit loss of pneumoperitoneum. This is in contrast to smoke evacuation at the time of laparotomy, where containment of the surgical smoke is challenging, if not impossible. The smoke evacuator must ideally be within 2 cm of the source, with 50% loss of capture for every 1 cm from the source of the plume. If COVID-19 particles can indeed be disseminated into the surgical plume, then surgeons and OR personnel may be more likely to experience direct exposure to viral particles from a laparotomy approach.\n",
      "In summary, laparoscopy remains the preferred surgical approach for gynecologic patients during the COVID-19 pandemic for most surgical indications. The theoretical risk of airborne SARS-CoV-2 from an abdominal source at the time of surgery has not been substantiated.\n",
      "There is no current evidence that infection of OR personnel occurs via laparoscopy any more so than laparotomy surgery. However, given the paucity of data, it is prudent to take precautions in the operating room given that viral particles can be aerosolized during intubation and extubation. We believe laparoscopy offers the opportunity for better containment and filtration of the surgical gas and plume compared with laparotomy, and continues to offer vastly more health benefits, particularly during the COVID-19 pandemic and when precious PPE and hospital resources as well as minimizing viral exposure risks are so critical to mitigating this public health crisis. Let's not lose sight of the \"scope\" of the problem: it is imprudent, and even dangerous, to blindly abandon tried-and-true, safe surgical practices during a viral pandemic. Laparoscopy, when clinically appropriate, achieves the goal of optimizing patient care and outcomes, while minimizing risk to the surgical and perioperative teams.\n",
      "==========================================================================\n"
     ]
    }
   ],
   "source": [
    "for i in range(10):\n",
    "    print(question_df.sort_values(by='total_rank', ascending = False).iloc[i]['text_body'])\n",
    "    print(\"==========================================================================\")"
   ]
  },
  {
   "cell_type": "code",
   "execution_count": null,
   "metadata": {},
   "outputs": [],
   "source": [
    "question_df['section'].value_counts()[10:20]"
   ]
  },
  {
   "cell_type": "markdown",
   "metadata": {},
   "source": [
    "- Show the sentence before keyword is happening\n",
    "- Show the sentence after keyword is happening\n",
    "- Top and bottom expansion happening\n",
    "- If it is smaller than certain # of words, just show entire excerpt"
   ]
  },
  {
   "cell_type": "code",
   "execution_count": null,
   "metadata": {},
   "outputs": [],
   "source": []
  }
 ],
 "metadata": {
  "kernelspec": {
   "display_name": "Python 3.7.4 64-bit ('anaconda3': virtualenv)",
   "language": "python",
   "name": "python37464bitanaconda3virtualenv11568a5b709c405b925f37b6b0b6dbdb"
  },
  "language_info": {
   "codemirror_mode": {
    "name": "ipython",
    "version": 3
   },
   "file_extension": ".py",
   "mimetype": "text/x-python",
   "name": "python",
   "nbconvert_exporter": "python",
   "pygments_lexer": "ipython3",
   "version": "3.7.4"
  }
 },
 "nbformat": 4,
 "nbformat_minor": 2
}
