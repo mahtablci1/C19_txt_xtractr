{
 "cells": [
  {
   "cell_type": "markdown",
   "metadata": {},
   "source": [
    "# Abstract\n",
    "The objective of this notebook will be to perform keyword analysis on the papers for Covid-19 risk factors."
   ]
  },
  {
   "cell_type": "code",
   "execution_count": 1,
   "metadata": {},
   "outputs": [],
   "source": [
    "import re\n",
    "import glob\n",
    "import json\n",
    "from os import path\n",
    "import pandas as np\n",
    "import pandas as pd\n",
    "from datetime import datetime"
   ]
  },
  {
   "cell_type": "code",
   "execution_count": null,
   "metadata": {},
   "outputs": [],
   "source": [
    "papers_df = pd.read_csv('../output/papers_df.csv', \n",
    "                        index_col=0, \n",
    "                        keep_default_na=False,\n",
    "                       parse_dates=['publish_time'])"
   ]
  },
  {
   "cell_type": "code",
   "execution_count": 2,
   "metadata": {},
   "outputs": [],
   "source": [
    "risk_factors = ['diabetes','hypertension', 'heart disease','cancer',\n",
    "                'smoking status','history of lung disease','local climate',\n",
    "                'elderly','small children','immune compromised groups', \n",
    "                'age deciles among adults between the ages of 15 and 65', \n",
    "                'race/ethnicity', 'education', 'income', 'insurance status',\n",
    "                 'housing status', 'immigration status', 'prison inmates', \n",
    "                'mental hospital inpatients', 'long-term care facility residents',\n",
    "                'health workers','first responders', 'hospital staff',\n",
    "                'nursing home staff', 'prison staff', 'pregnancy status','neonates']"
   ]
  },
  {
   "cell_type": "code",
   "execution_count": 3,
   "metadata": {},
   "outputs": [],
   "source": [
    "transmission_keywords = ['transmi', 'sneez', 'contact trac', 'reproduc', 'environ']"
   ]
  },
  {
   "cell_type": "code",
   "execution_count": 4,
   "metadata": {},
   "outputs": [],
   "source": [
    "smoke_keywords = ['smok']"
   ]
  },
  {
   "cell_type": "code",
   "execution_count": 5,
   "metadata": {},
   "outputs": [],
   "source": [
    "covid_keywords = ['COVID-19', 'HCoV-19', 'CORD-19' ,'2019-nCoV', 'Wuhan coronavirus', 'SARS-CoV-2', 'SARS-COV-2']\n",
    "covid_keywords = [word.lower() for word in covid_keywords]"
   ]
  },
  {
   "cell_type": "code",
   "execution_count": 14,
   "metadata": {},
   "outputs": [],
   "source": [
    "design_list = [ 'retrospective cohort', 'cross-sectional case-control','prevalence survey', \n",
    "               'systematic review , meta-analysis','matched case-control',\n",
    "               'medical records review', 'observational case series','time series analysis',\n",
    "               'pseudo-randomized controlled trials' ,'randomized controlled trials']"
   ]
  },
  {
   "cell_type": "code",
   "execution_count": 6,
   "metadata": {},
   "outputs": [],
   "source": [
    "# covid_papers = papers_df[papers_df['text_body'].apply(lambda x : \n",
    "#                                                 any(key in x.lower() for\n",
    "#                                                     key in covid_keywords)\n",
    "#                                                )]"
   ]
  },
  {
   "cell_type": "code",
   "execution_count": 7,
   "metadata": {},
   "outputs": [],
   "source": [
    "def tokenize(text):\n",
    "    text = text.lower().strip()\n",
    "    if len(text) == 0:\n",
    "        return ''\n",
    "    if text[-1] == 's':\n",
    "        text = text[:-1]\n",
    "    return text"
   ]
  },
  {
   "cell_type": "markdown",
   "metadata": {},
   "source": [
    "## Creating a list of paper dictionaries"
   ]
  },
  {
   "cell_type": "code",
   "execution_count": 8,
   "metadata": {},
   "outputs": [],
   "source": [
    "json_files = glob.glob(f'../data/**/*.json', recursive=True)"
   ]
  },
  {
   "cell_type": "code",
   "execution_count": 11,
   "metadata": {},
   "outputs": [],
   "source": [
    "papers = []\n",
    "for file in json_files:\n",
    "    name = path.basename(file)\n",
    "    with open(file) as f:\n",
    "        data = json.load(f)\n",
    "    paper_obj = {'id':name,\n",
    "                 'data':data}\n",
    "    papers.append(paper_obj)    "
   ]
  },
  {
   "cell_type": "markdown",
   "metadata": {},
   "source": [
    "### Filtering for covid related papers"
   ]
  },
  {
   "cell_type": "code",
   "execution_count": 12,
   "metadata": {},
   "outputs": [],
   "source": [
    "covid_papers = []\n",
    "for paper in papers:\n",
    "    body = paper['data']['body_text']\n",
    "    for paragraph in body:\n",
    "        text = paragraph['text']\n",
    "        match = any(key.lower() in text.lower()\n",
    "                   for key in covid_keywords)\n",
    "        if match:\n",
    "            covid_papers.append(paper)\n",
    "            break"
   ]
  },
  {
   "cell_type": "code",
   "execution_count": 13,
   "metadata": {},
   "outputs": [
    {
     "data": {
      "text/plain": [
       "1367"
      ]
     },
     "execution_count": 13,
     "metadata": {},
     "output_type": "execute_result"
    }
   ],
   "source": [
    "len(covid_papers)"
   ]
  },
  {
   "cell_type": "code",
   "execution_count": null,
   "metadata": {},
   "outputs": [],
   "source": []
  },
  {
   "cell_type": "markdown",
   "metadata": {},
   "source": [
    "## Analysis for different sections in the papers"
   ]
  },
  {
   "cell_type": "code",
   "execution_count": null,
   "metadata": {},
   "outputs": [],
   "source": [
    "sections = {}\n",
    "for paper in covid_papers:\n",
    "    body = paper['data']['body_text']\n",
    "    paper_sections = set()\n",
    "    for paragraph in body:\n",
    "        if 'section' in paragraph:\n",
    "            paper_sections.add(paragraph['section'])\n",
    "    \n",
    "    for section in paper_sections:\n",
    "        section = tokenize(section)\n",
    "        if section in sections:\n",
    "            sections[section] += 1\n",
    "        else:\n",
    "            sections[section] = 1"
   ]
  },
  {
   "cell_type": "code",
   "execution_count": null,
   "metadata": {},
   "outputs": [],
   "source": [
    "sorted(sections.items(), key=lambda x: x[1], reverse=True)"
   ]
  },
  {
   "cell_type": "markdown",
   "metadata": {},
   "source": [
    "### Sections vs Designs"
   ]
  },
  {
   "cell_type": "code",
   "execution_count": null,
   "metadata": {},
   "outputs": [],
   "source": [
    "design_secs = {}\n",
    "for paper in covid_papers:\n",
    "    body = paper['data']['body_text']\n",
    "    relevant = set()\n",
    "    for paragraph in body:\n",
    "        text = paragraph['text']\n",
    "        if(any(design in text.lower() for design in design_list)):\n",
    "            relevant.add(paragraph['section'])\n",
    "    for section in relevant:\n",
    "        section = tokenize(section)\n",
    "        if section in design_secs:\n",
    "            design_secs[section] += 1\n",
    "        else:\n",
    "            design_secs[section] = 1"
   ]
  },
  {
   "cell_type": "markdown",
   "metadata": {},
   "source": [
    "### Frequency table of sections where at least one of the designs appeared the most times"
   ]
  },
  {
   "cell_type": "code",
   "execution_count": null,
   "metadata": {
    "scrolled": true
   },
   "outputs": [],
   "source": [
    "sorted(design_secs.items(), key=lambda x: x[1], reverse=True)"
   ]
  },
  {
   "cell_type": "code",
   "execution_count": 18,
   "metadata": {},
   "outputs": [
    {
     "name": "stdout",
     "output_type": "stream",
     "text": [
      "\"text\": \"([^\"]*(transmission|the stability)[^\"]*)((?!\"section\").)*\"section\": \"([^\"]*)\"\n"
     ]
    }
   ],
   "source": [
    "words = ['transmission', 'the stability']\n",
    "pattern = r'\"text\": \"([^\"]*(%s)[^\"]*)((?!\"section\").)*\"section\": \"([^\"]*)\"' % \"|\".join(words)\n",
    "print(pattern)\n",
    "regex = re.compile(pattern, re.DOTALL)\n",
    "\n",
    "with open(json_files[0], \"r\") as infile:\n",
    "    filetext = infile.read()\n",
    "    results = regex.findall(filetext)\n",
    "    #for match in results:\n",
    "        #print ('Match in section \"%s\":\\n %s \\n-------------------' % (match[3], match[0]))"
   ]
  },
  {
   "cell_type": "markdown",
   "metadata": {},
   "source": [
    "## Design vs Risk Analysis"
   ]
  },
  {
   "cell_type": "code",
   "execution_count": null,
   "metadata": {},
   "outputs": [],
   "source": [
    "for paper in papers:\n",
    "    "
   ]
  }
 ],
 "metadata": {
  "kernelspec": {
   "display_name": "Python 3",
   "language": "python",
   "name": "python3"
  },
  "language_info": {
   "codemirror_mode": {
    "name": "ipython",
    "version": 3
   },
   "file_extension": ".py",
   "mimetype": "text/x-python",
   "name": "python",
   "nbconvert_exporter": "python",
   "pygments_lexer": "ipython3",
   "version": "3.7.4"
  }
 },
 "nbformat": 4,
 "nbformat_minor": 2
}
