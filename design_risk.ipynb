{
 "cells": [
  {
   "cell_type": "code",
   "execution_count": 156,
   "metadata": {},
   "outputs": [],
   "source": [
    "import os\n",
    "import json\n",
    "from pprint import pprint\n",
    "from copy import deepcopy\n",
    "\n",
    "import numpy as np\n",
    "import pandas as pd\n",
    "import numpy as np\n",
    "import json\n",
    "import glob\n",
    "import sys\n",
    "\n",
    "sys.path.insert(0, \"../\")\n",
    "\n",
    "root_path = '/Users/u6066091/Desktop/kaggle/input/corona_challenge/'\n",
    "\n",
    "corona_features = {\"doc_id\": [None], \"source\": [None], \"title\": [None],\n",
    "                  \"abstract\": [None], \"text_body\": [None]}\n",
    "corona_df = pd.DataFrame.from_dict(corona_features)\n",
    "\n",
    "json_filenames = glob.glob(f'{root_path}/**/*.json', recursive=True)"
   ]
  },
  {
   "cell_type": "code",
   "execution_count": 157,
   "metadata": {},
   "outputs": [],
   "source": [
    "root = '/Users/u6066091/Desktop/kaggle'"
   ]
  },
  {
   "cell_type": "code",
   "execution_count": 216,
   "metadata": {},
   "outputs": [],
   "source": [
    "root = '/Users/u6066091/Desktop/kaggle'\n",
    "Design_list = [ 'retrospective cohort', 'cross-sectional case-control','prevalence survey', 'systematic review , meta-analysis',\n",
    "               'matched case-control', 'medical records review', 'observational case series', \n",
    "               'time series analysis','pseudo-randomized controlled trials' ,'randomized controlled trials']\n",
    "risk_factors = pd.read_csv(root + '/input/corona_challenge/COVID-19 medical_dictionary-difference.dictionary.csv')\n",
    "cov_list = ['COVID-19', 'novel coronavirus','CORD-19' ,'2019-nCoV', 'Wuhan coronavirus']\n",
    "risk_fac = ['diabetes',\n",
    " 'hypertension',\n",
    " 'heart disease',\n",
    " 'cancer',\n",
    " 'smoking',\n",
    " 'history of lung disease',\n",
    " 'local climate',\n",
    " 'elderly',\n",
    " 'small children',\n",
    " 'immune compromised ',\n",
    " 'age deciles',\n",
    " 'race',\n",
    " 'ethnicity',\n",
    " 'education',\n",
    " 'income',\n",
    " 'insurance',\n",
    " 'housing',\n",
    " 'immigration',\n",
    " 'prison inmates',\n",
    " 'mental hospital inpatients',\n",
    " 'long-term care facility residents',\n",
    " 'health workers',\n",
    " 'first responders',\n",
    " 'hospital staff',\n",
    " 'nursing home',\n",
    " 'prison',\n",
    "  'staff' ,                                          \n",
    " 'pregnancy ',\n",
    " 'neonates']"
   ]
  },
  {
   "cell_type": "code",
   "execution_count": 203,
   "metadata": {},
   "outputs": [],
   "source": [
    "import re\n",
    "import json\n",
    "des_sec = []\n",
    "for i in range(0,len(json_filenames)):\n",
    "    \n",
    "    with open(json_filenames[i], \"r\") as infile:\n",
    "        filetext = infile.read()\n",
    "    with open(json_filenames[i]) as data:\n",
    "        data = json.load(data)      \n",
    "        \n",
    "        pattern = r'\"text\": \"([^\"]*(%s)[^\"]*)((?!\"section\").)*\"section\": \"([^\"]*)\"' % \"|\".join(Design_list)\n",
    "        regex = re.compile(pattern, re.DOTALL)\n",
    "   \n",
    "        results = regex.findall(filetext)\n",
    "        for match in results:\n",
    "            des_sec.append([data['paper_id'], match[3], match[1], match[0]])\n",
    "#             print ('Match in section \"%s\":\\n %s \\n-------------------' % (match[3], match[0]))"
   ]
  },
  {
   "cell_type": "code",
   "execution_count": 208,
   "metadata": {},
   "outputs": [],
   "source": [
    "import pandas as pd\n",
    "design_sections = pd.DataFrame(des_sec, columns = ['doc_id', 'section', 'design study', 'text'])"
   ]
  },
  {
   "cell_type": "code",
   "execution_count": 225,
   "metadata": {},
   "outputs": [],
   "source": [
    "sec_risk = []\n",
    "for i in range(0, len(design_sections['text'])):\n",
    "    text = design_sections.loc[i,'text']\n",
    "    risk = risk_fac\n",
    "    ri_list = [re.findall(ri.lower(), text) for ri in risk]\n",
    "    for ri in ri_list:\n",
    "        if ri != []:\n",
    "            sec_risk.append([design_sections.loc[i,'doc_id'],ri,text, design_sections.loc[i,'design study']])"
   ]
  },
  {
   "cell_type": "code",
   "execution_count": 264,
   "metadata": {},
   "outputs": [],
   "source": [
    "risk_doc = pd.DataFrame(sec_risk, columns = ['doc_id','risk_factor', 'text', 'study'])\n",
    "risk_doc.to_csv('/Users/u6066091/Desktop/kaggle/output/dataframe/risk_doc.csv')"
   ]
  },
  {
   "cell_type": "code",
   "execution_count": 256,
   "metadata": {},
   "outputs": [],
   "source": [
    "cov_data =[]\n",
    "for i in range(0, len(risk_doc['text'])):\n",
    "    text = risk_doc.loc[i,'text']\n",
    "    cov_app = [re.findall(cov, text) for cov in cov_list]\n",
    "    cov_data.append([risk_doc.loc[i,'doc_id'],risk_doc.loc[i,'risk_factor'], risk_doc.loc[i,'study'],text] )"
   ]
  },
  {
   "cell_type": "code",
   "execution_count": 257,
   "metadata": {},
   "outputs": [],
   "source": [
    "cov_section = pd.DataFrame(sec_risk, columns = ['doc_id','risk_factor',  'text', 'study'])\n"
   ]
  },
  {
   "cell_type": "code",
   "execution_count": null,
   "metadata": {},
   "outputs": [],
   "source": []
  }
 ],
 "metadata": {
  "kernelspec": {
   "display_name": "Python 3",
   "language": "python",
   "name": "python3"
  },
  "language_info": {
   "codemirror_mode": {
    "name": "ipython",
    "version": 3
   },
   "file_extension": ".py",
   "mimetype": "text/x-python",
   "name": "python",
   "nbconvert_exporter": "python",
   "pygments_lexer": "ipython3",
   "version": "3.7.6"
  }
 },
 "nbformat": 4,
 "nbformat_minor": 4
}
